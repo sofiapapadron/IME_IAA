{
 "cells": [
  {
   "cell_type": "markdown",
   "metadata": {},
   "source": [
    "# <font style=\"color:rgb(50, 120, 229);\"> Introducción al Aprendizaje Profundo </font>"
   ]
  },
  {
   "cell_type": "markdown",
   "metadata": {},
   "source": [
    "En este video, te daremos una visión general de cómo funcionan las redes neuronales y cómo aprenden, pero también aprenderemos por qué Elon Musk piensa que el aprendizaje automático es un 99% productos punto.\n"
   ]
  },
  {
   "cell_type": "markdown",
   "metadata": {},
   "source": [
    "## <font style=\"color:rgb(50, 120, 229);\"> La neurona </font>"
   ]
  },
  {
   "cell_type": "markdown",
   "metadata": {},
   "source": [
    "Comencemos primero con el bloque más simple de una red neuronal: **una neurona**. \n",
    "\n",
    "En realidad, puedes considerar una neurona como una red neuronal en sí misma, porque es totalmente capaz de aprender funciones simples.\n"
   ]
  },
  {
   "cell_type": "markdown",
   "metadata": {},
   "source": [
    "### <font style=\"color:rgb(50, 120, 229);\"> ¿Cómo funciona una neurona? </font>"
   ]
  },
  {
   "cell_type": "markdown",
   "metadata": {},
   "source": [
    "Podemos pensar en esta neurona como una caja negra. Tiene alguna entrada x y alguna salida y.\n",
    "\n",
    "<center>\n",
    "<img src=\"./images/neuron.png\" width=500>\n",
    "</center>"
   ]
  },
  {
   "cell_type": "markdown",
   "metadata": {},
   "source": [
    "<font style=\"color:rgb(8, 133, 37);\"> **Entrada** </font>"
   ]
  },
  {
   "cell_type": "markdown",
   "metadata": {},
   "source": [
    " Esta entrada x es un arreglo de números y puedes imaginar que cualquier entrada digital, por ejemplo, una señal de audio o una imagen o incluso texto en lenguaje natural, puede convertirse en un arreglo de números."
   ]
  },
  {
   "cell_type": "markdown",
   "metadata": {},
   "source": [
    "<center>\n",
    "<img src=\"./images/neuron_input.png\" width=500>\n",
    "</center>"
   ]
  },
  {
   "cell_type": "markdown",
   "metadata": {},
   "source": [
    "<font style=\"color:rgb(8, 133, 37);\"> **Salida** </font>"
   ]
  },
  {
   "cell_type": "markdown",
   "metadata": {},
   "source": [
    "La salida es lo que deseamos. Queremos que la neurona aprenda qué hay dentro de esta imagen y produzca una salida y en este caso podemos decir que la salida es un clasificador binario, es decir, 0 o 1, y nuestro objetivo es determinar si la imagen que estamos viendo es un perro o no.\n",
    "\n",
    "<center>\n",
    "<img src=\"./images/output.png\" width=500>\n",
    "</center>"
   ]
  },
  {
   "cell_type": "markdown",
   "metadata": {},
   "source": [
    "### <font style=\"color:rgb(50, 120, 229);\"> ¿Qué hay dentro de una neurona? </font>"
   ]
  },
  {
   "cell_type": "markdown",
   "metadata": {},
   "source": [
    "Hay tres componentes en una neurona: el primero se llama **pesos**, el segundo es el **sesgo** y el último es la **función de activación**. \n",
    "\n",
    "La red neuronal utiliza estos tres componentes en la entrada para producir la salida.\n",
    "\n",
    "<center>\n",
    "<img src=\"./images/inside_neuron.png\" width=500>\n",
    "</center>"
   ]
  },
  {
   "cell_type": "markdown",
   "metadata": {},
   "source": [
    "<font style=\"color:rgb(8, 133, 37);\"> **Peso y Sesgo** </font>"
   ]
  },
  {
   "cell_type": "markdown",
   "metadata": {},
   "source": [
    "Tiene el mismo número de pesos que elementos del vector de entrada, por lo que si el vector de entrada tiene una longitud de 10, el número de pesos en esta neurona también será 10.\n",
    "\n",
    "<center>\n",
    "<img src=\"./images/weights.png\" width=500>\n",
    "</center>"
   ]
  },
  {
   "cell_type": "markdown",
   "metadata": {},
   "source": [
    "También tiene un termino adicional llamado **sesgo** (bias).\n",
    "\n",
    "Estos dos componentes, los pesos y el sesgo, se inicializan con valores aleatorios."
   ]
  },
  {
   "cell_type": "markdown",
   "metadata": {},
   "source": [
    "<font style=\"color:rgb(8, 133, 37);\"> **Suma ponderada** </font>\n",
    "\n",
    "Cuando se aplica un vector de entrada a una neurona, se multiplica por estos pesos. \n",
    "\n",
    "Debido a que hay el mismo número de pesos que la longitud del vector de entrada, los combinamos de la siguiente manera: x1*w1 más x2*w2 y así sucesivamente hasta xn*wn."
   ]
  },
  {
   "cell_type": "markdown",
   "metadata": {},
   "source": [
    "Puedes ver que esto también es un producto punto, es un producto punto entre el vector $X$ y el vector $W$."
   ]
  },
  {
   "cell_type": "markdown",
   "metadata": {},
   "source": [
    "<center>\n",
    "<img src=\"./images/dot_products.png\" width=500>\n",
    "</center>"
   ]
  },
  {
   "cell_type": "markdown",
   "metadata": {},
   "source": [
    "Entonces, ¿qué tiene de especial esta operación? Puedes ver que está combinando todas las entradas de diferentes maneras para crear la salida.\n",
    "\n",
    "Y estos pesos y el sesgo son componentes entrenables de la red neuronal. \n",
    "\n",
    "Cuando **entrenamos la red neuronal**, estos pesos y el sesgo cambian para que produzcan la salida correcta.\n"
   ]
  },
  {
   "cell_type": "markdown",
   "metadata": {},
   "source": [
    "<font style=\"color:rgb(8, 133, 37);\"> **Función de activación** </font>"
   ]
  },
  {
   "cell_type": "markdown",
   "metadata": {},
   "source": [
    "Pero  ¿y sí queremos cierta no linealidad?, porque aprenderás más tarde que cuando estás combinando los datos de formas lineales eso no es suficiente. \n",
    "\n",
    "\n",
    "Entonces, necesitamos algo de no linealidad y eso es proporcionado por esta función de activación.\n",
    "\n",
    "<center>\n",
    "<img src=\"./images/function.png\" width=500>\n",
    "</center>\n"
   ]
  },
  {
   "cell_type": "markdown",
   "metadata": {},
   "source": [
    "### <font style=\"color:rgb(50, 120, 229);\"> ¿Cómo aprende una neurona? </font>"
   ]
  },
  {
   "cell_type": "markdown",
   "metadata": {},
   "source": [
    "Cuando introducimos el vector de entrada y obtenemos una salida, esta salida no será correcta porque los pesos y sesgo no son correctos. \n",
    "\n",
    "Por lo tanto, queremos cambiar los pesos y el sesgo para que la neurona se acerque más y más a la salida o la salida esperada."
   ]
  },
  {
   "cell_type": "markdown",
   "metadata": {},
   "source": [
    "Durante el entrenamiento, tenemos la entrada y también tenemos la salida esperada para esa entrada. \n",
    "\n",
    "Así que ahora podemos comenzar con pesos aleatorios y obtener una salida, y nos daremos cuenta de que la salida de la red neuronal ni siquiera se acerca a la salida esperada. \n",
    "\n",
    "Entonces podemos tomar la diferencia entre estas dos salidas, y esa diferencia se llama el **error**.\n",
    "\n",
    "<center>\n",
    "<img src=\"./images/error.png\" width=600>\n",
    "</center>"
   ]
  },
  {
   "cell_type": "markdown",
   "metadata": {},
   "source": [
    "<font style=\"color:rgb(8, 133, 37);\"> **Función de pérdida** </font>\n",
    "\n",
    "Podríamos usar el error directamente para averiguar qué deberían ser los pesos correctos para la red neuronal, pero es mucho mejor tomar una función del error. Por ejemplo, una función muy simple es la suma de las diferencias al cuadrado, pero dependiendo de la aplicación, puede ser mejor utilizar una función de pérdida diferente.\n",
    "\n",
    "Esta función de pérdida nos informa cómo deben cambiarse los pesos de la red neuronal para que cometa menos errores, o en otras palabras, se minimice la función de pérdida.\n",
    "\n",
    "<center>\n",
    "<img src=\"./images/loss.png\" width=600>\n",
    "</center>"
   ]
  },
  {
   "cell_type": "markdown",
   "metadata": {},
   "source": [
    "Observamos el gradiente de la función de pérdida y lo utilizamos para cambiar los valores o actualizar los valores de los pesos y sesgos.\n",
    "\n",
    "<center>\n",
    "<img src=\"./images/train.png\" width=600>\n",
    "</center>"
   ]
  }
 ],
 "metadata": {
  "language_info": {
   "name": "python"
  }
 },
 "nbformat": 4,
 "nbformat_minor": 2
}
