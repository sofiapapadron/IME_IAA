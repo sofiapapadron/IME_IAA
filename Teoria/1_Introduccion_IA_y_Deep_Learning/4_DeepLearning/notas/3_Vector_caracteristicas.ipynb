{
 "cells": [
  {
   "cell_type": "markdown",
   "metadata": {},
   "source": [
    "# <font style=\"color: rgb(50, 120, 229);\"> Vectores de Características </font>"
   ]
  },
  {
   "cell_type": "markdown",
   "metadata": {},
   "source": [
    "En el mundo real, usualmente tenemos varias variables de entrada que determinan la salida. De manera similar, la salida también puede ser multidimensional.\n"
   ]
  },
  {
   "cell_type": "markdown",
   "metadata": {},
   "source": [
    "Las variables de entrada a menudo se representan como un vector llamado el **vector de características**. \n",
    "\n",
    "Convertir los datos a un vector de características tiene la ventaja de que podemos pensar en este vector como un punto en un espacio de alta dimensión. Un vector de características tridimensional puede considerarse como un punto en el espacio de características tridimensionales.\n",
    "\n",
    "<center>\n",
    "<img src=\"./images/feature_vector.png\" width=\"200px\">\n",
    "</center>"
   ]
  },
  {
   "cell_type": "markdown",
   "metadata": {},
   "source": [
    "## <font style=\"color: rgb(50, 120, 229);\"> ¿Cómo se construye un vector de características? </font>"
   ]
  },
  {
   "cell_type": "markdown",
   "metadata": {},
   "source": [
    "Usar datos crudos para crear directamente un vector de características generalmente no es una buena idea. Veamos un ejemplo.\n",
    "\n",
    "### <font style=\"color: rgb(50, 120, 229);\"> Ejemplo 1: </font>\n",
    "\n",
    "Digamos que tenemos datos sobre autos usados que consisten en dos entradas o características. La primera característica es la edad del automóvil y la segunda característica es el número de millas que ha recorrido. El precio del automóvil es una función de ambas características.\n",
    "\n",
    "| Edad (x2) | Millas recorridas (x1) | Precio (y) |\n",
    "|--------------|-------------------|--------------|\n",
    "| 3            | 100,000           |  5,000       |\n",
    "| 5            | 60,000            |  4,500       |\n",
    "| 7            | 120,000           |  3,000       |"
   ]
  },
  {
   "cell_type": "markdown",
   "metadata": {},
   "source": [
    "Si construimos un vector de características de X1 y X2 e intentamos calcular la distancia entre los dos puntos de datos, podemos ver que la métrica de distancia está dominada por el número de millas porque las millas son numéricamente mucho más grandes que la edad del automóvil, por lo que esta distancia es insignificante.\n",
    "\n",
    "$$ \\sqrt{(100000-60000)^2 + (3-5)^2} = 40000.25 $$"
   ]
  },
  {
   "cell_type": "markdown",
   "metadata": {},
   "source": [
    "<font style=\"color: rgb(50, 120, 229);\">**Normalización de características**</font> "
   ]
  },
  {
   "cell_type": "markdown",
   "metadata": {},
   "source": [
    "Necesitamos normalizar las características antes de usarlas. Hay varias formas diferentes de normalizar características.\n",
    "\n",
    "<font style=\"color: rgb(8, 133, 37);\">**Método 1:**</font>\n",
    "\n",
    "Primero, simplemente podemos restar el valor mínimo de cada característica y luego dividir el valor resultante por la diferencia entre el máximo y el mínimo. Esto asegura que cada característica esté en el rango de 0 a 1. Ahora, la métrica de distancia se verá afectada tanto por X1 como por X2.\n",
    "\n",
    "$$ x_1 = \\frac{x_1 - min(x_1)}{max(x_1) - min(x_1)} = \\frac{100000 - 60000}{120000 - 60000} = 0.67 $$\n",
    "$$ x_2 = \\frac{x_2 - min(x_2)}{max(x_2) - min(x_2)} = \\frac{3 - 3}{7 - 3} = 0 $$"
   ]
  },
  {
   "cell_type": "markdown",
   "metadata": {},
   "source": [
    "<font style=\"color: rgb(8, 133, 37);\">**Método 2:**</font>\n",
    "\n",
    "Otro método común para normalizar una característica es restar la media y dividir por la desviación estándar. \n",
    "\n",
    "Esto asegura que cada característica tenga una media de cero y una varianza unitaria.\n",
    "\n",
    "$$ x1 = \\frac{x1 - \\mu(x1)}{\\sigma(x1)}$$"
   ]
  },
  {
   "cell_type": "markdown",
   "metadata": {},
   "source": [
    "### <font style=\"color: rgb(50, 120, 229);\"> Ejemplo 2: </font>\n",
    "\n",
    "A veces nuestras características no son valores numéricos. Por ejemplo, podríamos tener información sobre el color del automóvil también.\n",
    "\n",
    "| Edad (x2) | Millas recorridas (x1) | Color (x3) | Precio (y) |\n",
    "|--------------|-------------------|--------------|--------------|\n",
    "| 3            | 100,000           |  Rojo        |  5,000       |\n",
    "| 5            | 60,000            |  Azul        |  4,500       |\n",
    "| 7            | 120,000           |  Blanco       |  3,000       |\n"
   ]
  },
  {
   "cell_type": "markdown",
   "metadata": {},
   "source": [
    "Uno podría verse tentado a asignar 0 al rojo, 1 al azul y 2 al blanco, suena muy lógico, pero en realidad no es una buena idea porque viola la noción de distancia. \n",
    "\n",
    "Matemáticamente, en esta codificación, el rojo está más cerca del azul que del blanco, pero en nuestros datos reales no deberían estar cerca ni lejos el uno del otro, deberían estar a igual distancia entre sí.\n",
    "\n",
    "**Esto causa que predomine un color sobre otros.**\n"
   ]
  },
  {
   "cell_type": "markdown",
   "metadata": {},
   "source": [
    "<font style=\"color: rgb(50, 120, 229);\">**Codificación One-Hot**</font>"
   ]
  },
  {
   "cell_type": "markdown",
   "metadata": {},
   "source": [
    "Entonces, en estos casos, el color se codifica utilizando algo llamado **codificación one-hot**. \n",
    "\n",
    "En esta codificación, el color será representado por un vector de tres elementos: rojo es 1 0 0, azul es 0 1 0 y blanco es 0 0 1. Puedes ver que en esta codificación, rojo, azul y blanco están a la misma distancia entre sí. \n",
    "\n",
    "El vector de características de entrada en nuestro problema original, por lo tanto, tendrá un tamaño de 5: una característica para la edad del automóvil, una característica para el número de millas y tres características para representar el color.\n",
    "\n",
    "| Edad (x2) | Millas recorridas (x1) | Rojo (x3) | Azul (x4) | Blanco (x5) | Precio (y) |\n",
    "|--------------|-------------------|--------------|--------------|--------------|--------------|\n",
    "| 3            | 100,000           |  1           |  0           |  0           |  5,000       |\n",
    "| 5            | 60,000            |  0           |  1           |  0           |  4,500       |\n",
    "| 7            | 120,000           |  0           |  0           |  1           |  3,000       |"
   ]
  },
  {
   "cell_type": "markdown",
   "metadata": {},
   "source": [
    "<font style=\"color: rgb(50, 120, 229);\">**Códificación One-Hot para la variable de salida**</font>\n",
    "\n",
    "Como puedes imaginar, si estamos resolviendo un problema de clasificación, la salida es una clase como gato, perro, etc. Por lo tanto, la salida también se codifica utilizando one-hot encoding.\n",
    "\n",
    "<center>\n",
    "<img src=\"./images/one_hot.png\" width=\"400px\">\n",
    "</center>"
   ]
  }
 ],
 "metadata": {
  "language_info": {
   "name": "python"
  }
 },
 "nbformat": 4,
 "nbformat_minor": 2
}
