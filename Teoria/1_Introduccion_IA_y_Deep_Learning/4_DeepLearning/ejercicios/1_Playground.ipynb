{
 "cells": [
  {
   "cell_type": "markdown",
   "metadata": {},
   "source": [
    "# <font style=\"color:rgb(50,120,229)\"> Entendiendo Redes Neuronales </font>"
   ]
  },
  {
   "cell_type": "markdown",
   "metadata": {},
   "source": [
    "En este cuaderno, repasaremos cuatro ideas y las mostraremos usando [TensorFlow Playground](https://playground.tensorflow.org/).\n"
   ]
  },
  {
   "cell_type": "markdown",
   "metadata": {},
   "source": [
    "Para cada ejemplo resuelve las preguntas y luego ejecuta el código en TensorFlow Playground."
   ]
  },
  {
   "cell_type": "markdown",
   "metadata": {},
   "source": [
    "## <font style=\"color:rgb(50,120,229)\"> 1. El perceptrón solo puede resolver problemas lineales </font>"
   ]
  },
  {
   "cell_type": "markdown",
   "metadata": {},
   "source": [
    "Abre el [siguiente ejemplo](https://playground.tensorflow.org/#activation=linear&batchSize=10&dataset=gauss&regDataset=reg-plane&learningRate=0.03&regularizationRate=0&noise=0&networkShape=&seed=0.86385&showTestData=false&discretize=true&percTrainData=60&x=true&y=true&xTimesY=false&xSquared=false&ySquared=false&cosX=false&sinX=false&cosY=false&sinY=false&collectStats=false&problem=classification&initZero=false&hideText=false) en TensorFlow Playground"
   ]
  },
  {
   "cell_type": "markdown",
   "metadata": {},
   "source": [
    "Hemos elegido un conjunto de datos que es linealmente separable. Puedes ver los datos, que consisten en dos ejes, x1 y x2, y los colores naranja y azul representan diferentes clases.\n",
    "\n",
    "<font style=\"color:rgb(50,120,229)\"> **Preguntas** </font>\n",
    "\n",
    "1. ¿Por qué la línea de decisión inicial no separa los datos correctamente?\n",
    "2. ¿Qué función de activación se está utilizando?\n",
    "3. Ejecuta el modelo y observa si el modelo es capaz de resolver el problema."
   ]
  },
  {
   "cell_type": "markdown",
   "metadata": {},
   "source": [
    "Ahora abre el [siguiente ejemplo](https://playground.tensorflow.org/#activation=linear&batchSize=10&dataset=circle&regDataset=reg-plane&learningRate=0.03&regularizationRate=0&noise=0&networkShape=&seed=0.61681&showTestData=false&discretize=true&percTrainData=60&x=true&y=true&xTimesY=false&xSquared=false&ySquared=false&cosX=false&sinX=false&cosY=false&sinY=false&collectStats=false&problem=classification&initZero=false&hideText=false)\n",
    "\n",
    "<font style=\"color:rgb(50,120,229)\"> **Preguntas** </font>\n",
    "\n",
    "1. ¿El modelo puede resolver el problema? ¿Por qué?\n",
    "2. ¿Qué se necesita para que el modelo pueda resolver el problema?"
   ]
  },
  {
   "cell_type": "markdown",
   "metadata": {},
   "source": [
    "## <font style=\"color:rgb(50,120,229)\"> 2. Feature Engineering </font>"
   ]
  },
  {
   "cell_type": "markdown",
   "metadata": {},
   "source": [
    "Abre el [siguiente ejemplo](https://playground.tensorflow.org/#activation=linear&batchSize=10&dataset=circle&regDataset=reg-plane&learningRate=0.03&regularizationRate=0&noise=0&networkShape=&seed=0.61681&showTestData=false&discretize=true&percTrainData=60&x=false&y=false&xTimesY=false&xSquared=true&ySquared=true&cosX=false&sinX=false&cosY=false&sinY=false&collectStats=false&problem=classification&initZero=false&hideText=false)\n",
    "\n",
    "En lugar de usar x1 y x2 como entrada, creas un vector de características que consiste en transformaciones no lineales de x1 y x2. Entonces aquí podemos usar x1 al cuadrado y x2 al cuadrado.\n",
    "\n",
    "<font style=\"color:rgb(50,120,229)\"> **Preguntas** </font>\n",
    "\n",
    "1. ¿Por qué el modelo puede resolver el problema ahora?\n",
    "2. Prueba el modelo con diferentes problemas y ve si puedes resolverlos.\n",
    "3. ¿Que ventajas y desventajas ves en este enfoque?"
   ]
  },
  {
   "cell_type": "markdown",
   "metadata": {},
   "source": [
    "## <font style=\"color:rgb(50,120,229)\"> 3. Perceptrón multicapa con función de activación lineal </font>"
   ]
  },
  {
   "cell_type": "markdown",
   "metadata": {},
   "source": [
    "Abre el [siguiente ejemplo](https://playground.tensorflow.org/#activation=linear&batchSize=10&dataset=circle&regDataset=reg-plane&learningRate=0.03&regularizationRate=0&noise=0&networkShape=4,2&seed=0.53276&showTestData=false&discretize=true&percTrainData=60&x=true&y=true&xTimesY=false&xSquared=false&ySquared=false&cosX=false&sinX=false&cosY=false&sinY=false&collectStats=false&problem=classification&initZero=false&hideText=false)\n",
    "\n",
    "Aquí hemos agregado dos capas ocultas al modelo. La primera capa oculta tiene 4 neuronas y la segunda capa oculta tiene 2 neuronas.\n",
    "\n",
    "<font style=\"color:rgb(50,120,229)\"> **Preguntas** </font>\n",
    "\n",
    "1. ¿Por qué el modelo no puede resolver el problema?\n",
    "2. ¿Si agregamos más neuronas o capas ocultas, el modelo podrá resolver el problema?"
   ]
  },
  {
   "cell_type": "markdown",
   "metadata": {},
   "source": [
    "## <font style=\"color:rgb(50,120,229)\"> 4. Perceptrón multicapa con función de activación no lineal </font>"
   ]
  },
  {
   "cell_type": "markdown",
   "metadata": {},
   "source": [
    "Por último abre el [siguiente ejemplo](https://playground.tensorflow.org/#activation=sigmoid&batchSize=10&dataset=circle&regDataset=reg-plane&learningRate=0.03&regularizationRate=0&noise=0&networkShape=4,4&seed=0.40265&showTestData=false&discretize=true&percTrainData=60&x=true&y=true&xTimesY=false&xSquared=false&ySquared=false&cosX=false&sinX=false&cosY=false&sinY=false&collectStats=false&problem=classification&initZero=false&hideText=false)\n",
    "\n",
    "<font style=\"color:rgb(50,120,229)\"> **Preguntas** </font>\n",
    "\n",
    "1. ¿Qué función de activación se está utilizando?\n",
    "2. ¿Por qué el modelo puede resolver el problema ahora?\n",
    "3. ¿Qué pasa si cambiamos el problema?, ¿el modelo seguirá siendo capaz de resolverlo?\n",
    "4. Si el modelo no puede resolver el problema, ¿qué cambios podemos hacer para que pueda resolverlo?"
   ]
  }
 ],
 "metadata": {
  "language_info": {
   "name": "python"
  }
 },
 "nbformat": 4,
 "nbformat_minor": 2
}
