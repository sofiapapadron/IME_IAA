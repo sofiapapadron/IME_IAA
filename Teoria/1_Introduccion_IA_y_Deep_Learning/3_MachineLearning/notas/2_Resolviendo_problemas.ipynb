{
 "cells": [
  {
   "cell_type": "markdown",
   "metadata": {},
   "source": [
    "# <font style=\"color:rgb(50,120,229);\"> ¿Cómo resolver problemas de Machine Learning? </font>"
   ]
  },
  {
   "cell_type": "markdown",
   "metadata": {},
   "source": [
    "En este cuaderno, abordaremos un problema simple para entender cómo se aborda la resolución de un problema de aprendizaje automático.\n",
    "\n",
    "Imaginemos una startup de entrega de alimentos. Este servicio de entrega de alimentos ofrece servicios en seis áreas o códigos postales.\n",
    "\n",
    "Han estado recopilando datos sobre las seis áreas, como el número de pedidos realizados, el número de restaurantes en el área, el número de descargas de su aplicación en esa área, etc. \n",
    "\n",
    "Ahora, han decidido comenzar a operar en un área nueva. Necesitan decidir cuántos repartidores necesitan asignar a esta nueva área.\n"
   ]
  },
  {
   "cell_type": "markdown",
   "metadata": {},
   "source": [
    "## <font style=\"color:rgb(50,120,229);\"> Simplificación del problema </font>\n",
    "\n",
    "Simplifiquemos el problema y digamos que el número de pedidos realizados depende solo del número de descargas de aplicaciones. Además, asumimos que el número de pedidos es directamente proporcional al número de descargas de aplicaciones para esa área, por lo que podemos construir un modelo lineal $y = mx$."
   ]
  },
  {
   "cell_type": "markdown",
   "metadata": {},
   "source": [
    "Donde: \n",
    "- $y$ es el número de pedidos\n",
    "- $x$ es el número de descargas de aplicaciones"
   ]
  },
  {
   "cell_type": "markdown",
   "metadata": {},
   "source": [
    "<center> <img src=\"./images/linear_model.png\" width=\"300px\"> </center>"
   ]
  },
  {
   "cell_type": "markdown",
   "metadata": {},
   "source": [
    "$m$ es llamado el parámetro del modelo.\n",
    "\n",
    "Aquí tenemos solo un parámetro. En el mundo real, un modelo de aprendizaje profundo para una tarea de visión por computadora puede tener decenas de millones de parámetros.\n"
   ]
  },
  {
   "cell_type": "markdown",
   "metadata": {},
   "source": [
    "**Entrenar un modelo simplemente significa encontrar el mejor valor de m.**"
   ]
  },
  {
   "cell_type": "markdown",
   "metadata": {},
   "source": [
    "### <font style=\"color:rgb(50,120,229);\"> Datos </font>"
   ]
  },
  {
   "cell_type": "markdown",
   "metadata": {},
   "source": [
    "A continuación se muestra una tabla con los datos recopilados por la startup y una gráfica que muestra la relación entre el número de descargas y el número de pedidos.\n",
    "\n",
    "\n",
    "<center style=\"display:flex; gap:32px; text-align: center; align-items:center;\">\n",
    "<table>\n",
    "  <tr>\n",
    "    <th></th>\n",
    "    <th>Región 1</th>\n",
    "    <th>Región 2</th>\n",
    "    <th>Región 3</th>\n",
    "    <th>Región 4</th>\n",
    "    <th>Región 5</th>\n",
    "    <th>Región 6</th>\n",
    "  </tr>\n",
    "  <tr>\n",
    "    <td>Descargas</td>\n",
    "    <td>250</td>\n",
    "    <td>290</td>\n",
    "    <td>310</td>\n",
    "    <td>220</td>\n",
    "    <td>270</td>\n",
    "    <td>300</td>\n",
    "  </tr>\n",
    "  <tr>\n",
    "    <td>Pedidos</td>\n",
    "    <td>26</td>\n",
    "    <td>30</td>\n",
    "    <td>33</td>\n",
    "    <td>21</td>\n",
    "    <td>26</td>\n",
    "    <td>31</td>\n",
    "  </tr>\n",
    "</table>\n",
    "\n",
    "<img src=\"./images/plot.png\" width=\"500px\"> \n",
    "</center>"
   ]
  },
  {
   "cell_type": "markdown",
   "metadata": {},
   "source": [
    "### <font style=\"color:rgb(50,120,229);\"> Encontrando una solución </font>\n",
    "\n",
    "Nuestro modelo y = mx es lineal. Es una línea que pasa por el origen, cuya pendiente está controlada por m. \n",
    "\n",
    "Ahora, dado que todos los puntos no se encuentran en la misma línea, sabemos que no podemos tener un valor único de m que satisfaga $y_i = m x_i$.\n"
   ]
  },
  {
   "cell_type": "markdown",
   "metadata": {},
   "source": [
    "Para todos los valores de $x_i$, $y_i$ en el conjunto de datos, necesitamos encontrar el mejor $m$ que se ajuste a todos los puntos de datos. "
   ]
  },
  {
   "cell_type": "markdown",
   "metadata": {},
   "source": [
    "### <font style=\"color:rgb(50,120,229);\"> Función de pérdida </font>\n",
    "\n",
    "En otras palabras, podemos encontrar el error $E = y_i - m x_i$.\n",
    "\n",
    "$y_i$ es el punto de datos real y $m \\cdot x_i$ es el valor predicho. \n",
    "\n",
    "Por lo tanto, el error es la diferencia entre los dos y **queremos minimizar este término de error**. \n",
    "\n",
    "Dado que no nos importa si el error es positivo o negativo (ambos son igualmente malos para nosotros), elevamos al cuadrado el término y estamos interesados en minimizar el error cuadrático en su lugar.\n",
    "\n",
    "$E = (y_i - m x_i)^2$"
   ]
  },
  {
   "cell_type": "markdown",
   "metadata": {},
   "source": [
    "Queremos hacer esta minimización sobre todos los puntos de datos, así que lo sumamos sobre todos los puntos de datos.\n",
    "\n",
    "$E = \\sum_{i=1}^{n} (y_i - m x_i)^2$\n"
   ]
  },
  {
   "cell_type": "markdown",
   "metadata": {},
   "source": [
    "### <font style=\"color:rgb(50,120,229);\"> Optimización </font>\n",
    "\n",
    "Entrenar este modelo se reduce a un **problema de optimización**. \n",
    "\n",
    "Un problema de optimización es aquel en el que ya sea maximizamos o minimizamos una función al cambiar algunos parámetros.\n"
   ]
  },
  {
   "cell_type": "markdown",
   "metadata": {},
   "source": [
    "Cuando minimizamos una función, la función se llama **función de pérdida** o **función de costo**. \n",
    "\n",
    "En nuestro problema, la suma de errores al cuadrado mostrada aquí es la función de pérdida, y el parámetro que estamos tratando de optimizar es m."
   ]
  }
 ],
 "metadata": {
  "kernelspec": {
   "display_name": ".venv",
   "language": "python",
   "name": "python3"
  },
  "language_info": {
   "codemirror_mode": {
    "name": "ipython",
    "version": 3
   },
   "file_extension": ".py",
   "mimetype": "text/x-python",
   "name": "python",
   "nbconvert_exporter": "python",
   "pygments_lexer": "ipython3",
   "version": "3.11.7"
  }
 },
 "nbformat": 4,
 "nbformat_minor": 2
}
