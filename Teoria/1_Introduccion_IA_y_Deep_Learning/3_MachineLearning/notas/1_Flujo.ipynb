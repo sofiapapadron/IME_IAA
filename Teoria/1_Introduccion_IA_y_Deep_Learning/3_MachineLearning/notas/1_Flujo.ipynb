{
 "cells": [
  {
   "cell_type": "markdown",
   "metadata": {},
   "source": [
    "# <font style=\"color: rgb(50, 120, 229)\"> Flujo de trabajo de un proyecto de Machine Learning </font>\n",
    "\n",
    "En este notebook, vamos a ver cómo se desarrolla un proyecto de Machine Learning paso a paso.\n",
    "\n",
    "<center>\n",
    "<img src=\"./images/pipeline.png\" width=800>\n",
    "</center>"
   ]
  },
  {
   "cell_type": "markdown",
   "metadata": {},
   "source": [
    "## <font style=\"color: rgb(50, 120, 229)\"> Paso 1: Colección de datos </font>\n",
    "\n",
    "El primer paso de cualquier proyecto de Machine Learning es la recolección, etiquetado y preparación de los datos.\n",
    "\n",
    "En el aprendizaje automático, los datos son el recurso más importante, un algoritmo entrenado con mayor cantidad de datos generalmente funciona mejor.\n",
    "\n",
    "### <font style=\"color: rgb(50, 120, 229)\"> Fuentes de datos </font>\n",
    "\n",
    "Los datos pueden provenir de diferentes fuentes:\n",
    "\n",
    "- Datos públicos como Kaggle, UCI, etc.\n",
    "- Datos en venta\n",
    "- Datos colectados por nosotros mismos\n",
    "\n",
    "### <font style=\"color: rgb(50, 120, 229)\"> Preparación de datos </font>\n",
    "\n",
    "La preparación de datos es un paso crucial en cualquier proyecto de Machine Learning. Incluye:\n",
    "\n",
    "- Limpieza de datos\n",
    "- Normalización de datos\n",
    "- Transformación de datos\n",
    "\n",
    "El objetivo de la preparación de datos es tener un conjunto de datos limpio y listo para ser utilizado por el modelo de Machine Learning."
   ]
  },
  {
   "cell_type": "markdown",
   "metadata": {},
   "source": [
    "### <font style=\"color: rgb(50, 120, 229)\"> Chequeo de datos </font>\n",
    "\n",
    "Después de recolectar y preparar los datos, es importante verificar si los datos son correctos y si no hay errores en ellos. Esto incluye:\n",
    "\n",
    "- Verificaciones manuales\n",
    "- Buscar sesgos en los datos"
   ]
  },
  {
   "cell_type": "markdown",
   "metadata": {},
   "source": [
    "### <font style=\"color: rgb(50, 120, 229)\"> División de datos </font>\n",
    "\n",
    "Una vez que hayas revisado tus datos y los hayas limpiado, aleatoriza el orden de tus datos y particiona los datos en tres partes. **Asegúrate de aleatorizar antes de particionar los datos**.\n"
   ]
  },
  {
   "cell_type": "markdown",
   "metadata": {},
   "source": [
    "- El conjunto de entrenamiento típicamente consiste en el 60% de los datos. Este es el conjunto de datos con el que entrenaremos un modelo de aprendizaje automático.\n",
    "\n",
    "- El segundo conjunto, que típicamente constituye el 20% de los datos, se llama conjunto de validación. Para entrenar un modelo de aprendizaje automático, tratamos de minimizar el error que comete en el conjunto de entrenamiento. Así, un modelo de aprendizaje automático funciona bien en el conjunto de entrenamiento. Sin embargo, un modelo entrenado necesita ser probado en datos que no ha visto durante el proceso de entrenamiento. Durante el entrenamiento, evaluamos la precisión del modelo en el conjunto de validación.\n",
    "\n",
    "- El hecho de que ajustemos los parámetros según el desempeño en el conjunto de validación significa que hemos influenciado indirectamente los números de precisión basados en el conjunto de validación, y por lo tanto, la precisión en el conjunto de validación no puede confiarse completamente. Por eso, utilizamos la partición final llamada conjunto de prueba para informar la precisión final.\n",
    "\n",
    "<center>\n",
    "<img src=\"./images/partition_data.png\" width=800>\n",
    "</center>"
   ]
  },
  {
   "cell_type": "markdown",
   "metadata": {},
   "source": [
    "## <font style=\"color: rgb(50, 120, 229)\"> Paso 2: Selección de modelo </font>\n",
    "\n",
    "Una vez que hayas terminado de trabajar en tus datos, es hora de seleccionar un algoritmo o una arquitectura de modelo para resolver el problema. \n",
    "\n",
    "Primero, necesitamos configurar correctamente nuestro problema dependiendo del tipo de salida que queremos. El mismo problema se puede configurar como una clasificación de imágenes, una detección de objetos o un problema de segmentación.\n",
    "\n",
    "A continuación, necesitamos comprender completamente las restricciones. Por ejemplo, si sabemos de antemano que el modelo se implementará en un teléfono móvil, nos mantendremos alejados de las redes neuronales muy grandes que requieren mucha memoria GPU y recursos computacionales. Después de entender las restricciones, generalmente tenemos dos o tres buenas opciones para considerar.\n"
   ]
  },
  {
   "cell_type": "markdown",
   "metadata": {},
   "source": [
    "Despues con los modelos seleccionados realizaremos experimentos para ver cuál de ellos se ajusta mejor a nuestro problema.\n",
    "\n",
    "<center>\n",
    "<img src=\"./images/algorithm.png\" width=800>\n",
    "</center>"
   ]
  },
  {
   "cell_type": "markdown",
   "metadata": {},
   "source": [
    "## <font style=\"color: rgb(50, 120, 229)\"> Paso 3: Entrenamiento del modelo </font>"
   ]
  },
  {
   "cell_type": "markdown",
   "metadata": {},
   "source": [
    "Se necesitan tomar muchas decisiones antes y durante del entrenamiento. Por ejemplo, debemos pensar en estrategias de aumento de datos donde podemos modificar los datos de entrenamiento existentes para obtener nuevos datos de entrenamiento casi sin costo. También necesitamos seleccionar un optimizador y otros parámetros de entrenamiento como la tasa de aprendizaje. \n",
    "\n",
    "**El entrenamiento es un proceso iterativo**; típicamente, se realizan muchas rondas de entrenamiento con diferentes parámetros. También hay herramientas disponibles que te ayudan a cambiar los parámetros de entrenamiento de manera sistemática, para que tengas una mejor oportunidad de obtener mejores modelos.\n",
    "\n",
    "El proceso de entrenamiento también implica configurar herramientas de visualización que nos ayudarán a depurar el proceso de entrenamiento. Evaluamos constantemente el modelo en el conjunto de validación durante el proceso de entrenamiento. "
   ]
  },
  {
   "cell_type": "markdown",
   "metadata": {},
   "source": [
    "## <font style=\"color: rgb(50, 120, 229)\"> Paso 4: Evaluación del modelo </font>"
   ]
  },
  {
   "cell_type": "markdown",
   "metadata": {},
   "source": [
    "A menudo hay una segunda ronda de evaluación en el mundo real donde verificamos la precisión en un conjunto de prueba completamente independiente, evaluamos la velocidad del modelo en la plataforma objetivo y verificamos el tamaño del modelo, entre otros aspectos.\n"
   ]
  },
  {
   "cell_type": "markdown",
   "metadata": {},
   "source": [
    "## <font style=\"color: rgb(50, 120, 229)\"> Paso 5: Despliegue del modelo </font>"
   ]
  },
  {
   "cell_type": "markdown",
   "metadata": {},
   "source": [
    "El paso de evaluación es seguido por la implementación final. \n",
    "\n",
    "No es raro optimizar el modelo para una plataforma antes de implementarlo. Por ejemplo, si el tamaño del modelo es demasiado grande, necesitamos usar técnicas como la poda y la cuantificación para crear un modelo más delgado. Esto a menudo requiere volver a probar el modelo. \n",
    "\n",
    "El paso de implementación a menudo requiere escribir código envolvente para la plataforma. Si deseas implementar el modelo como un servicio web, necesitas un servidor web que maneje las solicitudes y las pase a una aplicación web, que a su vez se encarga de cargar el modelo en la memoria de la GPU, realizar la tarea de inteligencia artificial y devolver el resultado.\n",
    "\n",
    "Una característica muy importante para construir durante la implementación es un mecanismo de retroalimentación que nos permita saber cuándo el modelo ha tenido un mal desempeño.\n"
   ]
  }
 ],
 "metadata": {
  "language_info": {
   "name": "python"
  }
 },
 "nbformat": 4,
 "nbformat_minor": 2
}
