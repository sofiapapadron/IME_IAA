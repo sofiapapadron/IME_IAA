{
 "cells": [
  {
   "cell_type": "markdown",
   "metadata": {},
   "source": [
    "# <font style=\"color: rgb(50,120,229)\"> Inteligencia Artificial </font>\n",
    "\n",
    "En términos generales, la inteligencia artificial (IA) es la capacidad de una máquina para imitar la inteligencia humana. \n",
    "\n",
    "Hay muchas maneras de conseguir que una máquina imite la inteligencia humana, por ejemplo podemos escribir una serie de condiciones que la máquina debe cumplir para que se comporte de una manera determinada.\n",
    "\n",
    "\n",
    "Cuando utilizamos datos para resolver un problema, llamamos a la IA, **aprendizaje automático** (Machine Learning).\n",
    "\n",
    "Dentrora del aprendizaje automático, hay una rama llamada **aprendizaje profundo** (Deep Learning), que utiliza redes neuronales para resolver problemas.\n",
    "\n",
    "<center>\n",
    "<img src=\"./images/ia.png\" width=\"500\">\n",
    "</center>"
   ]
  },
  {
   "cell_type": "markdown",
   "metadata": {},
   "source": [
    "## <font style=\"color: rgb(50,120,229)\"> Aprendizaje Automático </font>\n",
    "\n",
    "El aprendizaje automático es una rama de la inteligencia artificial que se centra en el diseño y desarrollo de algoritmos que permiten a las computadoras aprender a partir de datos.\n",
    "\n",
    "### <font style=\"color: rgb(50,120,229)\"> Tipos de Aprendizaje Automático </font>\n",
    "\n",
    "**Aprendizaje supervisado:**\n",
    "\n",
    "En el aprendizaje supervisado, los datos de entrenamiento incluyen las entradas y las salidas deseadas. \n",
    "\n",
    "El algorimo aprende a partir de estos datos y luego se le proporcionan nuevas entradas para que pueda predecir las salidas correspondientes.\n",
    "\n",
    "<center>\n",
    "<img src=\"./images/supervised.webp\" width=\"500\">\n",
    "</center>"
   ]
  },
  {
   "cell_type": "markdown",
   "metadata": {},
   "source": [
    "**Aprendizaje no supervisado:**\n",
    "\n",
    "En el aprendizaje no supervisado, los datos de entrenamiento no incluyen las salidas deseadas.\n",
    "\n",
    "En su lugar, el algoritmo debe encontrar patrones en los datos y agruparlos en categorías.\n",
    "\n",
    "<center>\n",
    "<img src=\"./images/unsupervised.webp\" width=\"500\">\n",
    "</center>"
   ]
  },
  {
   "cell_type": "markdown",
   "metadata": {},
   "source": [
    "### <font style=\"color: rgb(50,120,229)\"> Tipos de problemas que se pueden resolver con Aprendizaje Automático </font>\n",
    "\n",
    "- **Clasificación:** Se utiliza para predecir la categoría a la que pertenece un objeto. Por ejemplo, a partir de un rostro, predecir la emoción que está expresando.\n",
    "- **Regresión:** Se utiliza para predecir un valor numérico. Por ejemplo, a partir de la imagen de una persona, predecir su edad."
   ]
  },
  {
   "cell_type": "markdown",
   "metadata": {},
   "source": [
    "## <font style=\"color: rgb(50,120,229)\"> Aprendizaje Profundo </font>\n",
    "\n",
    "Dentro del aprendizaje automático, el aprendizaje profundo es una rama que utiliza redes neuronales para resolver problemas.\n",
    "\n",
    "Las redes neuronales son un conjunto de algoritmos que intentan reconocer patrones en los datos. Están inspiradas en la forma en que funciona el cerebro humano.\n",
    "\n",
    "<center>\n",
    "<img src=\"./images/intro-gluon-1 (1).ac2f31378926b5f99a4ba9d741c4aebe3b7a29e2.png\" width=\"600\">\n",
    "</center>\n"
   ]
  },
  {
   "cell_type": "markdown",
   "metadata": {},
   "source": [
    "### <font style=\"color: rgb(50,120,229)\"> ¿Por qué el Deep Learning es tan popular? </font>\n",
    "\n",
    "**No requiere de ingeniería de características:** \n",
    "\n",
    "En lugar de tener que diseñar manualmente las características que se utilizarán para entrenar el modelo, el modelo aprende automáticamente las características que son importantes para resolver el problema.\n",
    "\n",
    "Esto es una gran ventaja frente algoritmso tradicionales de visión por computadora como HOG, SIFT, etc.\n",
    "\n",
    "**Mejor rendimiento:**\n",
    "\n",
    "En muchos problemas, los modelos de Deep Learning superan a los modelos tradicionales.\n",
    "\n"
   ]
  },
  {
   "cell_type": "markdown",
   "metadata": {},
   "source": [
    "### <font style=\"color: rgb(50,120,229)\"> ¿Por qué ahora? </font>\n",
    "\n",
    "**Grandes cantidades de datos:** \n",
    "\n",
    "Hoy en día, hay una gran cantidad de datos disponibles para entrenar modelos de Deep Learning.\n",
    "\n",
    "**Hardware:**\n",
    "\n",
    "Hoy en día, hay hardware especializado para entrenar modelos de Deep Learning, como las tarjetas gráficas.\n",
    "\n",
    "**Algoritmos:**\n",
    "\n",
    "En los últimos años, se han desarrollado algoritmos más eficientes para entrenar modelos de Deep Learning."
   ]
  },
  {
   "cell_type": "markdown",
   "metadata": {},
   "source": [
    "## <font style=\"color: rgb(50,120,229)\"> Aplicaciónes de la Inteligencia Artificial </font>"
   ]
  },
  {
   "cell_type": "markdown",
   "metadata": {},
   "source": [
    "Estamos en medio de una revolución en la inteligencia artificial. Estamos desarrollando herramientas y técnicas que están transformando industrias enteras. \n",
    "\n",
    "En algunas áreas, la inteligencia artificial incluso está superando las habilidades humanas.\n",
    "\n",
    "Vamos a cubrir varias áreas donde la inteligencia artificial está teniendo un impacto de manera muy significativa. Nuestro objetivo no es cubrir todas las posibles áreas de aplicación, sino darles una idea de la diversidad de áreas de aplicación de la inteligencia artificial que se están utilizando para construir una sociedad más segura, saludable, productiva y feliz.\n"
   ]
  },
  {
   "cell_type": "markdown",
   "metadata": {},
   "source": [
    "### <font style=\"color: rgb(50,120,229)\"> Procesamiento de Lenguaje Natural (NLP) </font>\n",
    "\n",
    "El Procesamiento de Lenguaje Natural (NLP) es una rama de la inteligencia artificial que ayuda a las computadoras a entender, interpretar y manipular el lenguaje humano.\n",
    "\n",
    "El NLP se utiliza para aplicaciones como:\n",
    "\n",
    "- Traducción automática\n",
    "- Análisis de sentimientos\n",
    "- Chatbots\n",
    "- Resumen automático\n",
    "- Generación de texto\n",
    "- Corrección gramatical"
   ]
  },
  {
   "cell_type": "markdown",
   "metadata": {},
   "source": [
    "### <font style=\"color: rgb(50,120,229)\"> Procesamiento de Voz </font>\n",
    "\n",
    "El Procesamiento de Voz es otra área de la inteligencia artificial que se utiliza para convertir el habla humana en texto y viceversa.\n",
    "\n",
    "El Procesamiento de Voz se utiliza para aplicaciones como:\n",
    "\n",
    "- Asistentes de voz\n",
    "- Transcripción de voz a texto\n",
    "- Síntesis de voz\n",
    "- Traducción de voz\n"
   ]
  },
  {
   "cell_type": "markdown",
   "metadata": {},
   "source": [
    "### <font style=\"color: rgb(50,120,229)\"> Visión por Computadora </font>\n",
    "\n",
    "La Visión por Computadora es una rama de la inteligencia artificial que ayuda a las computadoras a interpretar y comprender el mundo visual.\n",
    "\n",
    "Veamos como podemos utilizar la visión por computadora en diferentes áreas:\n",
    "\n",
    "#### <font style=\"color: rgb(50,120,229)\"> Vigilancia y Seguridad </font>\n",
    "\n",
    "- Reconocimiento de placas de automóviles\n",
    "- Cámaras de velocidad\n",
    "- Monitoreo del tráfico\n",
    "- Seguimiento, detección y reconocimiento de personas\n",
    "  \n",
    "#### <font style=\"color: rgb(50,120,229)\"> Biometría </font>\n",
    "\n",
    "- Reconocimiento facial\n",
    "- Reconocimiento de huellas dactilares\n",
    "- Reconocimiento de iris\n",
    "\n",
    "#### <font style=\"color: rgb(50,120,229)\"> Deportes </font>\n",
    "\n",
    "- Análisis de deportes\n",
    "- Coaches virtuales\n",
    "\n",
    "#### <font style=\"color: rgb(50,120,229)\"> Conducción Autónoma </font>\n",
    "\n",
    "- ADAS (Sistemas avanzados de asistencia al conductor)\n",
    "- Coches autónomos\n",
    "  \n",
    "#### <font style=\"color: rgb(50,120,229)\"> Robótica y manufactura </font>\n",
    "\n",
    "- Automatización industrial\n",
    "- Inspección de calidad\n",
    "\n",
    "\n",
    "#### <font style=\"color: rgb(50,120,229)\"> Medicina </font>\n",
    "\n",
    "- Procesamiento de imágenes médicas (rayos X, MRI, CT)\n",
    "- Identificación de enfermedades.\n",
    "\n",
    "#### <font style=\"color: rgb(50,120,229)\"> Agricultura </font>\n",
    "\n",
    "- Detección de plagas\n",
    "- Monitoreo de cultivos \n"
   ]
  }
 ],
 "metadata": {
  "language_info": {
   "name": "python"
  }
 },
 "nbformat": 4,
 "nbformat_minor": 2
}
