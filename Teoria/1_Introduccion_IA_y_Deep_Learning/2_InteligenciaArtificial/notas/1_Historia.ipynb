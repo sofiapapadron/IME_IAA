{
 "cells": [
  {
   "cell_type": "markdown",
   "metadata": {},
   "source": [
    "# <font style=\"color: rgb(50, 120, 229)\"> Introducción a la Inteligencia Artificial </font>\n",
    "\n",
    "En este cuaderno, repasaremos brevemente la historia de la inteligencia artificial, pero antes de hacerlo, primero definamos el término Inteligencia Artificial.\n"
   ]
  },
  {
   "cell_type": "markdown",
   "metadata": {},
   "source": [
    "## <font style=\"color: rgb(50, 120, 229)\">¿Qué es la Inteligencia Artificial?</font>"
   ]
  },
  {
   "cell_type": "markdown",
   "metadata": {},
   "source": [
    "La ciencia y la ingeniería de construir máquinas que puedan tomar decisiones como los humanos es la inteligencia artificial.\n",
    "\n",
    "La inteligencia artificial se puede dividir en dos categorías:\n",
    "\n",
    "- Un sistema de IA se considera débil cuando está diseñado y entrenado para realizar solo una tarea particular.\n",
    "\n",
    "- Por otro lado, la inteligencia artificial fuerte representa un sistema con habilidades cognitivas generalizadas similares a las humanas."
   ]
  },
  {
   "cell_type": "markdown",
   "metadata": {},
   "source": [
    "## <font style=\"color: rgb(50, 120, 229)\">Historia de la Inteligencia Artificial</font>"
   ]
  },
  {
   "cell_type": "markdown",
   "metadata": {},
   "source": [
    "### <font style=\"color: rgb(50, 120, 229)\">1. La prueba de Turing (1950)</font>\n",
    "\n",
    "Comencemos con la **prueba de Turing**. Esta fue la primera prueba formal para distinguir la inteligencia de las máquinas de la inteligencia humana. \n",
    "\n",
    "Fue introducida por Alan Turing en 1950, y el primer artículo publicado sobre el tema de la inteligencia de las máquinas se centró en ello.\n",
    "\n",
    "#### <font style=\"color: rgb(50, 120, 229)\"> ¿En qué consiste la prueba de Turing? </font>\n",
    "\n",
    "Una descripción muy básica de esta prueba es la siguiente: \n",
    "\n",
    "- Hay dos jugadores en una habitación, llamémoslos A y B, y hay un interrogador que no puede ver a los jugadores. \n",
    "- Uno de los jugadores es en realidad una computadora y el otro jugador es un humano.\n",
    "- La tarea asignada al interrogador es descubrir si está hablando con una computadora o con un humano.\n",
    "- La tarea de la computadora es engañar al interrogador\n"
   ]
  },
  {
   "cell_type": "markdown",
   "metadata": {},
   "source": [
    "### <font style=\"color: rgb(50, 120, 229)\">2. La conferencia de Dartmouth (1956)</font>\n",
    "\n",
    "En el verano de 1956, John McCarthy organizó un taller en Dartmouth con el objetivo principal de reunir a científicos eminentes del campo de la cibernética, la teoría de autómatas y el procesamiento de información compleja. \n",
    "\n",
    "Y aunque no se cumplieron todos los elementos de la agenda ese verano, lo más importante se logró: **formalizaron el concepto de inteligencia artificial** como una rama de la ciencia y la ingeniería.\n"
   ]
  },
  {
   "cell_type": "markdown",
   "metadata": {},
   "source": [
    "### <font style=\"color: rgb(50, 120, 229)\">3. El Perceptrón (1958)</font>\n",
    "\n",
    "Una gran invención en inteligencia artificial en la década de 1950 fue el perceptrón.\n",
    "\n",
    "Fue inventado en 1958 por Frank Rosenblatt y fue \"diseñado para ilustrar algunas de las propiedades fundamentales de los sistemas inteligentes\".\n",
    "\n",
    "En general, propuso una estructura para el perceptrón junto con un algoritmo de aprendizaje. Esto estuvo fuertemente inspirado en las neuronas en sistemas biológicos.\n"
   ]
  },
  {
   "cell_type": "markdown",
   "metadata": {},
   "source": [
    "### <font style=\"color: rgb(50, 120, 229)\">4. La falla de Alpac (1966)</font>\n",
    "\n",
    "Debido a la carrera tecnológica de la Guerra Fría, los gobiernos estaban dispuestos a invertir grandes fondos en el campo de la inteligencia artificial.\n",
    "\n",
    "Desafortunadamente, todos los supuestos éxitos, como el experimento Georgetown IBM, por ejemplo, tuvieron un rendimiento mediocre en el mundo real.\n",
    "\n",
    "La verdad sobre la falta de progreso salió a la luz con el famoso informe del Comité Alpaca de EE. UU. emitido en 1966.\n",
    "\n",
    "La traducción automática era costosa, inexacta y poco prometedora, y parecía poco probable que alcanzara la calidad de un traductor humano en un futuro cercano. Ese informe fue **devastador**.\n"
   ]
  },
  {
   "cell_type": "markdown",
   "metadata": {},
   "source": [
    "### <font style=\"color: rgb(50, 120, 229)\"> 5. Marvin Minsky y el Perceptrón (1969)</font>"
   ]
  },
  {
   "cell_type": "markdown",
   "metadata": {},
   "source": [
    "En 1969, Marvin Minsky y Seymour Papert mostraron las principales limitaciones del perceptrón.\n",
    "\n",
    "El libro de Marvin Minsky y Seymour Papert fue un gran golpe para la investigación en inteligencia artificial y jugó un papel importante en la suspensión de todas las actividades e iniciativas relacionadas con la IA.\n"
   ]
  },
  {
   "cell_type": "markdown",
   "metadata": {},
   "source": [
    "### <font style=\"color: rgb(50, 120, 229)\">6. Una encuesta general de Sir James Lighthill (1973)</font>\n",
    "\n",
    "En 1973, a petición del Consejo de Investigación Científica Británico, el Sir James Lighthill publicó un famoso artículo \"Inteligencia artificial: una encuesta general\".\n",
    "\n",
    "Contenía críticas severas a los logros en casi todas las ramas de la investigación en inteligencia artificial.\n",
    "\n",
    "Algunos campos de la inteligencia artificial tenían, \"algunos logros respetables, pero en una medida decepcionantemente pequeña de lo que se había esperado y esperado.\" \n",
    "\n",
    "\"25 años de investigación no trajeron los descubrimientos prometidos y no se logró un impacto importante. La inteligencia artificial no cumplió con las expectativas\".\n",
    "\n",
    "Esto  alejó no solo el apoyo financiero de las instituciones gubernamentales, sino también el interés de los investigadores más dedicados en IA."
   ]
  },
  {
   "cell_type": "markdown",
   "metadata": {},
   "source": [
    "### <font style=\"color: rgb(50, 120, 229)\">7. Invierno de la IA (1974-1980)</font>"
   ]
  },
  {
   "cell_type": "markdown",
   "metadata": {},
   "source": [
    "El primer \"invierno\" de la inteligencia artificial había comenzado con la reducción de la financiación y un escepticismo generalizado.\n"
   ]
  },
  {
   "cell_type": "markdown",
   "metadata": {},
   "source": [
    "### <font style=\"color: rgb(50, 120, 229)\">8. Backpropagation (1986)</font>\n",
    "\n",
    "En 1986, llegaron algunas excelentes noticias para las redes neuronales. Fue el año en que se propuso el término \"backpropagation\" y su uso general en redes neuronales por Rumelhart, Hinton y Williams.\n",
    "\n",
    "En una serie de trabajos relacionados, los autores propusieron usar la retropropagación para aprender redes neuronales multicapa en tareas de referencia de reconocimiento de patrones de simetría, reconocimiento de voz y varias otras tareas. Además, se proporcionó la solución para el problema XOR en forma de un perceptrón de dos capas.\n"
   ]
  },
  {
   "cell_type": "markdown",
   "metadata": {},
   "source": [
    "### <font style=\"color: rgb(50, 120, 229)\">9. Las redes neuronales son difíciles de entrenar (1991)</font>\n",
    "\n",
    "En 1991, el científico alemán Sepp Hotshreeter mostró en su tesis de diploma que las redes profundas de múltiples capas sufren enormemente del problema de gradientes que desaparecen y explotan. \n",
    "\n",
    "De hecho, los gradientes decaen o explotan exponencialmente con el número de capas, **lo que hace que el aprendizaje de redes profundas en casos generales sea prácticamente imposible**.\n"
   ]
  },
  {
   "cell_type": "markdown",
   "metadata": {},
   "source": [
    "### <font style=\"color: rgb(50, 120, 229)\">10. El segundo invierno de la IA (1988-1993)</font>"
   ]
  },
  {
   "cell_type": "markdown",
   "metadata": {},
   "source": [
    "Para el campo de la inteligencia artificial en la década de 1980, el interés en la IA disminuyó dentro de la comunidad empresarial. El crecimiento rápido seguido de una fuerte caída se asemejaba al patrón clásico de una burbuja económica.\n",
    "\n",
    "Las agencias gubernamentales, junto con la industria, una vez más concluyeron que la inteligencia artificial había tenido un \"éxito limitado en áreas particulares\".\n"
   ]
  },
  {
   "cell_type": "markdown",
   "metadata": {},
   "source": [
    "### <font style=\"color: rgb(50, 120, 229)\">11. Nacimiento de la IA (1993-2011)</font>"
   ]
  },
  {
   "cell_type": "markdown",
   "metadata": {},
   "source": [
    "A pesar de que la inteligencia artificial ganó mala reputación, los años hasta 2011 no fueron exactamente malos para la inteligencia artificial. \n",
    "\n",
    "Muchos investigadores estaban evitando el término \"inteligencia artificial\" y el estigma de las falsas promesas asociadas a él. A pesar de eso, hubo logros destacados en varias áreas. \n",
    "\n",
    "- Entre ellos destacaba la computadora de ajedrez Deep Blue, que en 1997 se enfrentó al campeón mundial Gary Kasparov.\n",
    "- La corporación iRobot introdujo el primer robot doméstico comercialmente exitoso, un aspirador autónomo llamado Roomba.\n",
    "- El vehículo robótico autónomo de Stanford navegó con éxito un recorrido de 132 millas en el desierto de Nevada en octubre de 2005.\n",
    "- En noviembre de 2008, apareció una aplicación de Google con reconocimiento de voz. El objetivo que parecía inalcanzable ahora funcionaba en dispositivos de consumo.\n",
    "\n",
    "La inteligencia artificial estaba madurando y se estaba convirtiendo en un instrumento real con miles de aplicaciones prácticas.\n",
    "\n",
    "Uno de los hitos alcanzados durante este periodo posterior al \"invierno\" de la inteligencia artificial es LeNet. Es una famosa arquitectura de redes neuronales convolucionales desarrollada por Jan Lecun y otros, que se aplicó a la tarea de reconocimiento de escritura a mano.\n",
    "\n"
   ]
  },
  {
   "cell_type": "markdown",
   "metadata": {},
   "source": [
    "### <font style=\"color: rgb(50, 120, 229)\">12. IA en la actualidad (2011-presente)</font>\n",
    "\n",
    "Hoy en día estamos viviendo en la parte más emocionante de la historia de la inteligencia artificial. Estamos en medio de la revolución del aprendizaje profundo.\n",
    "\n",
    "#### <font style=\"color: rgb(50, 120, 229)\"> ImageNet (2012)</font>\n",
    "\n",
    "En 2009, un grupo de investigadores de Stanford lanzó un conjunto de datos de imágenes sin precedentes en tamaño y variedad. Se llamaba ImageNet. Todas las imágenes fueron recopiladas de la web y anotadas manualmente. El conjunto de entrenamiento contenía **1,2 millones de imágenes** y el conjunto de prueba consistía en 200,000 imágenes de **1000 categorías**.\n"
   ]
  },
  {
   "cell_type": "markdown",
   "metadata": {},
   "source": [
    "Durante los próximos años, la comunidad de visión por computadora trabajó arduamente para resolver esta tarea de clasificación de imágenes increíblemente desafiante. Dada una imagen, la tarea consistía en asignarle una categoría, como gato, perro, coche, etc.\n"
   ]
  },
  {
   "cell_type": "markdown",
   "metadata": {},
   "source": [
    "#### <font style=\"color: rgb(50, 120, 229)\"> AlexNet (2012)</font>\n",
    "\n",
    "Octubre de 2012 marcó el comienzo de una nueva era en la industria. La revolución del aprendizaje profundo comenzó con AlexNet, la red neuronal profunda desarrollada por Alex Krizhevsky, que ganó el desafío de reconocimiento visual a gran escala de ImageNet.\n"
   ]
  },
  {
   "cell_type": "markdown",
   "metadata": {},
   "source": [
    "#### <font style=\"color: rgb(50, 120, 229)\"> ResNet (2015)</font>\n",
    "\n",
    "En 2015, Kaiming He y su equipo presentaron una arquitectura de red neuronal profunda llamada ResNet. ResNet fue la primera red neuronal profunda que superó la barrera de precisión del 100% en el conjunto de datos de ImageNet."
   ]
  },
  {
   "cell_type": "markdown",
   "metadata": {},
   "source": [
    "**Estamos fasinados por increíbles avances en la inteligencia artificial y te doy la bienvenida a esta revolución.**"
   ]
  },
  {
   "cell_type": "markdown",
   "metadata": {},
   "source": []
  }
 ],
 "metadata": {
  "language_info": {
   "name": "python"
  }
 },
 "nbformat": 4,
 "nbformat_minor": 2
}
