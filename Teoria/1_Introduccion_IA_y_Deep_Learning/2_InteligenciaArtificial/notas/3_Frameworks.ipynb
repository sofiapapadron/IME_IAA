{
 "cells": [
  {
   "cell_type": "markdown",
   "metadata": {},
   "source": [
    "# <font style=\"color:rgb(50,120, 229)\"> Frameworks de Deep Learning </font>\n",
    "\n",
    "Anteriormente hablamos sobre por qué el aprendizaje profundo se ha vuelto tan popular ahora. Las razones que dimos fueron, primero, la disponibilidad de grandes conjuntos de datos; segundo, buenos recursos computacionales; y tercero, mejores algoritmos. \n",
    "\n",
    "Pero para aprovechar estas mejoras, necesitamos un buen software que pueda unir todo esto para que un usuario promedio pueda construir y entrenar redes neuronales. **Aqui es donde entran en juego los Frameworks de aprendizaje profundo**."
   ]
  },
  {
   "cell_type": "markdown",
   "metadata": {},
   "source": [
    "## <font style=\"color:rgb(50,120, 229)\"> ¿Qué es un Framework de Deep Learning? </font>\n",
    "\n",
    "Los frameworks de aprendizaje profundo son software o bibliotecas que te permiten construir y entrenar redes neuronales utilizando una **API de alto nivel**. \n",
    "\n",
    "Un framework de aprendizaje profundo es un motor numérico rápido que admite el **procesamiento de tensores** en su núcleo.\n",
    "\n",
    "Un framework de aprendizaje profundo implementa algoritmos y funciones que se utilizan para construir y entrenar redes neuronales.\n",
    "\n",
    "Finalmente, un framework de aprendizaje profundo proporciona formas de manejar varios tipos de datos de manera eficiente.\n",
    "\n",
    "<center><img src=\"./images/frameworks.png\" width=600></center>"
   ]
  },
  {
   "cell_type": "markdown",
   "metadata": {},
   "source": [
    "## <font style=\"color:rgb(50,120, 229)\"> Frameworks de Deep Learning más populares </font>\n",
    "\n",
    "Aquí hay una lista de los frameworks de aprendizaje profundo más populares:\n",
    "\n",
    "1. **TensorFlow**\n",
    "2. **Keras**\n",
    "3. **PyTorch**\n",
    "4. **Caffe**\n",
    "5. **Theano**"
   ]
  },
  {
   "cell_type": "markdown",
   "metadata": {},
   "source": [
    "## <font style=\"color:rgb(50,120, 229)\"> TensorFlow vs PyTorch </font>\n",
    "\n",
    "TensorFlow y PyTorch son dos de los frameworks de aprendizaje profundo más populares. Ambos son muy populares y ampliamente utilizados en la comunidad de aprendizaje profundo.\n",
    "\n",
    "Pytorch | TensorFlow\n",
    "--- | ---\n",
    "Fácil de usar | Proporciona una API de alto nivel (Keras) que es fácil de usar\n",
    "Permite programación dinámica | Su programación dinámica fue introducida en TensorFlow 2.0\n",
    "Soporta TensorBoard | TensorBoard es una herramienta núcleo de TensorFlow\n",
    "Domina en academia | Domina en la industria\n"
   ]
  }
 ],
 "metadata": {
  "language_info": {
   "name": "python"
  }
 },
 "nbformat": 4,
 "nbformat_minor": 2
}
