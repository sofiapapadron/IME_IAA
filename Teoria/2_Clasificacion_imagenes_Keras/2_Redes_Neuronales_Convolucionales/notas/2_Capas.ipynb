{
 "cells": [
  {
   "cell_type": "markdown",
   "metadata": {},
   "source": [
    "# <font style=\"color:rgb(50,120,229)\"> Bloques de una CNN </font>"
   ]
  },
  {
   "cell_type": "markdown",
   "metadata": {},
   "source": [
    "Veamos las capas que constituyen una red neuronal convolucional moderna.\n"
   ]
  },
  {
   "cell_type": "markdown",
   "metadata": {},
   "source": [
    "## <font style=\"color:rgb(50,120,229)\"> 1. Capa Totalmente Conectada </font>\n",
    "\n",
    "Una capa completamente conectada es esencialmente una multiplicación de matrices seguida de una adición de sesgo opcional. \n",
    "\n",
    "En una red neuronal para clasificación, la última capa completamente conectada generalmente aprende la función no lineal de características de alto nivel y luego clasifica las imágenes en función del conocimiento obtenido. \n",
    "\n",
    "Tal capa produce una probabilidad, que es un número entre 0 y 1 para cada una de las etiquetas de clasificación que el modelo intenta predecir.\n",
    "\n",
    "<center>\n",
    "    <img src=\"./images/fully_connected.png\" width=400>\n",
    "</center>\n"
   ]
  },
  {
   "cell_type": "markdown",
   "metadata": {},
   "source": [
    "## <font style=\"color:rgb(50,120,229)\"> 2. Capa Convolucional </font>\n",
    "\n",
    "Las CNN operan en datos 2D. La entrada a una capa suele ser 3D con dimensiones W por H por C, donde W representa el ancho, H representa la altura y C representa el número de canales. W y H también se llaman resolución espacial y a veces C se llama profundidad.\n",
    "\n",
    "Estas matrices 3D que almacenan los resultados intermedios de las capas en la red a menudo se llaman **mapas de características** o mapas de activación. Por lo tanto, la entrada y la salida a una red neuronal convolucional son ambos mapas de características.\n",
    "\n",
    "<center>\n",
    "    <img src=\"./images/map.png\" width=300>\n",
    "</center>\n",
    "\n"
   ]
  },
  {
   "cell_type": "markdown",
   "metadata": {},
   "source": [
    "\n",
    "Una capa CNN consiste en varios kernels o filtros. La resolución espacial del filtro se llama tamaño del kernel. Por lo general, son pequeños, algo así como tres por tres o cinco por cinco. El número de canales de los filtros en una capa es exactamente el mismo que el número de canales de la entrada a la capa.\n",
    "\n",
    "<center>\n",
    "    <img src=\"./images/kernels.png\" width=200>\n",
    "</center>"
   ]
  },
  {
   "cell_type": "markdown",
   "metadata": {},
   "source": [
    "Un filtro produce un canal del mapa de características de salida. El número de canales en el mapa de características de salida es igual al número de filtros en la capa convolucional.\n",
    "\n",
    "<center>\n",
    "    <img src=\"./images/kernel_output.png\" width=500>\n",
    "</center>\n"
   ]
  },
  {
   "cell_type": "markdown",
   "metadata": {},
   "source": [
    "La salida de un filtro se calcula mediante la convolución del filtro con la entrada."
   ]
  },
  {
   "cell_type": "markdown",
   "metadata": {},
   "source": [
    "<font style=\"color:rgb(50,120,229)\"> **Stride** </font>\n",
    "\n",
    "Por lo general, el filtro se desliza por la entrada en pasos de un pixel a la vez. El tamaño de este paso se llama **stride** y podemos modificarlo.\n",
    "\n",
    "Entre más grande sea el stride, más pequeña será la salida. Por lo tanto, el stride controla la resolución espacial de la salida.\n",
    "\n",
    "<font style=\"color:rgb(50,120,229)\"> **Padding** </font>\n",
    "\n",
    "Para evitar que la salida sea más pequeña que la entrada y mantener información en las esquinas de la imagen podemos agregar pixeles alrededor de la entrada. Esto se llama **padding**.\n",
    "\n",
    "<center>\n",
    "    <img src=\"./images/padding.png\" width=800>\n",
    "</center>"
   ]
  },
  {
   "cell_type": "markdown",
   "metadata": {},
   "source": [
    "**En el siguiente enlace puedes encontrar una demostración interactiva de cómo funciona la convolución: [Convolution Demo](https://deeplizard.com/resource/pavq7noze2)**"
   ]
  },
  {
   "cell_type": "markdown",
   "metadata": {},
   "source": [
    "## <font style=\"color:rgb(50,120,229)\"> 3. Capa de Pooling </font>\n",
    "\n",
    "Una limitación de las salidas de la capa convolucional es que dependen de la posición precisa de las características en la entrada. Esto significa que un pequeño movimiento en la posición de la característica en la entrada resultará en un mapa de características diferente.\n",
    "\n",
    "Un enfoque común para abordar este problema es realizar un submuestreo de la imagen. Esto significa que queremos obtener una versión de menor resolución de una entrada que aún contenga los elementos estructurales grandes o importantes y suprima los elementos no importantes.\n",
    "\n",
    "El muestreo descendente se puede lograr con capas convolucionales utilizando un paso (stride) más grande, pero un enfoque más robusto y común es utilizar una capa de agrupación (pooling)."
   ]
  },
  {
   "cell_type": "markdown",
   "metadata": {},
   "source": [
    "### <font style=\"color:rgb(50,120,229)\"> 3.1. Max Pooling </font>\n",
    "\n",
    "Max pooling es una operación de agrupación que calcula el máximo o el valor más grande en cada parche de un mapa de características.\n",
    "\n",
    "<center>\n",
    "    <img src=\"./images/max_pooling.png\" width=500>\n",
    "</center>"
   ]
  },
  {
   "cell_type": "markdown",
   "metadata": {},
   "source": [
    "### <font style=\"color:rgb(50,120,229)\"> 3.2. Average Pooling </font>\n",
    "\n",
    "Average pooling elige un valor promedio entre píxeles a los que se aplica.\n",
    "\n",
    "<center>\n",
    "    <img src=\"./images/average_pooling.png\" width=500>\n",
    "</center>"
   ]
  },
  {
   "cell_type": "markdown",
   "metadata": {},
   "source": [
    "<font style=\"color:rgb(50,120,229)\"> ¿Por qué se necesita la capa de agrupación? </font>\n",
    "\n",
    "-  Las capas de agrupación reducen la dimensionalidad de las características extraídas en las capas convolucionales. Esto disminuye la cantidad de parámetros y, en consecuencia, la carga computacional, lo que permite entrenar modelos más grandes y complejos de manera eficiente.\n",
    "\n",
    "- Al reducir el tamaño espacial de las características, las capas de agrupación permiten que las capas posteriores de la red se enfoquen en patrones más globales de la imagen, mejorando la eficiencia en la detección de características a diferentes escalas.\n",
    "\n",
    "- Las capas de agrupación pueden ayudar a eliminar información no relevante o ruido al conservar solo las características más prominentes (como en max pooling). Esto mejora la capacidad de la red para enfocarse en los patrones más significativos en los datos.\n",
    "\n",
    "**En el siguiente enlace puedes encontrar una demostración interactiva de cómo funciona el pooling: [Pooling Demo](https://deeplizard.com/resource/pavq7noze3)**"
   ]
  },
  {
   "cell_type": "markdown",
   "metadata": {},
   "source": [
    "## <font style=\"color:rgb(50,120,229)\"> Entendiendo los bloques Convolucionales </font>"
   ]
  },
  {
   "cell_type": "markdown",
   "metadata": {},
   "source": [
    "En las redes neuronales convolucionales modernas, los bloques convolucionales generalmente se componen de una capa convolucional seguida de una función de activación y luego una capa de agrupación.\n",
    "\n",
    "Otra arquitectura común es tener múltiples capas convolucionale (por ejemplo, 2 o 3) seguidas de una función de activación y luego una capa de agrupación."
   ]
  },
  {
   "cell_type": "markdown",
   "metadata": {},
   "source": [
    "<center>\n",
    "    <img src=\"./images/tensorflow-keras-convolution-block-detail-1024x602.webp\" width=800>\n",
    "</center>"
   ]
  },
  {
   "cell_type": "markdown",
   "metadata": {},
   "source": [
    "## <font style=\"color:rgb(50,120,229)\"> Otros tipos de capas utilizadas en CNN </font>"
   ]
  },
  {
   "cell_type": "markdown",
   "metadata": {},
   "source": [
    "### <font style=\"color:rgb(50,120,229)\"> 4. Capa de Normalización por Lotes </font>\n",
    "\n",
    "Básicamente normaliza los resultados de las capas convolucionales y completamente conectadas en la red neuronal.\n",
    "\n",
    "Existe la posibilidad de que esta normalización afecte adversamente los resultados, y por eso los autores añadieron dos parámetros aprendibles. Uno se llama gamma, que es el parámetro de escala, y el otro es beta.\n",
    "\n",
    "\n",
    "<font style=\"color:rgb(50,120,229)\"> **Entendiendo Gamma y Sigma** </font>\n",
    "\n",
    "Ahora, si gamma es igual a la desviación estándar Sigma y beta es igual a mu, entonces obtenemos el X original de vuelta. Estos parámetros se añaden para que podamos simular la operación de identidad. \n",
    "\n",
    "Esto significa que supongamos que esta normalización está realmente perjudicando el proceso de entrenamiento, lo que significa que la pérdida aumentaría. Al añadir estos parámetros gamma y beta, se elegirá gamma y beta de manera que la pérdida se reduzca. Y si esta normalización está realmente perjudicando, en ese caso, gamma se elegiría para que sea igual a Sigma y beta sería igual a Mu, lo que significa que el efecto de esta capa de normalización por lotes se anularía.\n",
    "\n",
    "<center>\n",
    "    <img src=\"./images/batch_norm.png\" width=800>\n",
    "</center>\n"
   ]
  },
  {
   "cell_type": "markdown",
   "metadata": {},
   "source": [
    "<font style=\"color:rgb(50,120,229)\"> **¿Por qué se usa la normalización por lotes?** </font>\n",
    "\n",
    "- La primera ventaja es que el modelo converge más rápido, y esto se debe a que puedes usar una tasa de aprendizaje más alta cuando utilizas la normalización por lotes.\n",
    "- En segundo lugar, mitiga los problemas con funciones de activación no centradas en cero, como ReLU.\n",
    "- En tercer lugar, proporciona estabilidad y calidad al proceso de entrenamiento.\n",
    "- Finalmente, conduce a una mejor regularización, lo que significa que previene el sobreajuste."
   ]
  },
  {
   "cell_type": "markdown",
   "metadata": {},
   "source": [
    "<font style=\"color:rgb(50,120,229)\"> **¿Donde se coloca la normalización por lotes?** </font>\n",
    "\n",
    "<center>\n",
    "    <img src=\"./images/batch_place.png\" width=200>\n",
    "</center>"
   ]
  },
  {
   "cell_type": "markdown",
   "metadata": {},
   "source": []
  }
 ],
 "metadata": {
  "language_info": {
   "name": "python"
  }
 },
 "nbformat": 4,
 "nbformat_minor": 2
}
