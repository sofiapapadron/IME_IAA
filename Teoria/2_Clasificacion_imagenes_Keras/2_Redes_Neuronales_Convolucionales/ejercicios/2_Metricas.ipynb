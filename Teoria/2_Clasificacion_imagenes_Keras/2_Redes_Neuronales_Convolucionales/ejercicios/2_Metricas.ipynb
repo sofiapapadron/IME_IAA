{
 "cells": [
  {
   "cell_type": "markdown",
   "metadata": {},
   "source": [
    "# <font style=\"color:rgb(50,120,229)\"> Métricas de Evaluación con Keras </font>"
   ]
  },
  {
   "cell_type": "markdown",
   "metadata": {},
   "source": [
    "En el cuaderno anterior, aprendiste cómo implementar métricas de evaluación para clasificación desde cero. \n",
    "\n",
    "Bibliotecas como Scikit-Learn ya proporcionan tales funcionalidades. De hecho, también podemos usar todas esas métricas de Keras.\n"
   ]
  },
  {
   "cell_type": "code",
   "execution_count": null,
   "metadata": {},
   "outputs": [],
   "source": [
    "import numpy as np\n",
    "import matplotlib.pyplot as plt\n",
    "import matplotlib\n",
    "import pandas as pd\n",
    "\n",
    "\n",
    "matplotlib.style.use('ggplot')\n",
    "plt.rcParams[\"figure.figsize\"] = (10, 7)"
   ]
  },
  {
   "cell_type": "markdown",
   "metadata": {},
   "source": [
    "## <font style=\"color:rgb(50,120,229)\"> 1. Cargar los datos </font>"
   ]
  },
  {
   "cell_type": "markdown",
   "metadata": {},
   "source": [
    "Vamos a cargar un conjunto de datos aleatorio  para clasificación binaria."
   ]
  },
  {
   "cell_type": "code",
   "execution_count": null,
   "metadata": {},
   "outputs": [],
   "source": [
    "data = pd.read_csv('./data/metrics_data.csv')\n",
    "\n",
    "data.head()"
   ]
  },
  {
   "cell_type": "code",
   "execution_count": null,
   "metadata": {},
   "outputs": [],
   "source": [
    "X_train = data[['X1', 'X2']].values\n",
    "y_train = data['y'].values\n",
    "\n",
    "plt.scatter(X_train[y_train == 0, 0], X_train[y_train == 0, 1], label='Class 0')\n",
    "plt.scatter(X_train[y_train == 1, 0], X_train[y_train == 1, 1], label='Class 1')\n",
    "plt.xlabel('X1')\n",
    "plt.ylabel('X2')\n",
    "plt.legend()\n",
    "plt.show()"
   ]
  },
  {
   "cell_type": "markdown",
   "metadata": {},
   "source": [
    "## <font style=\"color:rgb(50,120,229)\"> 2. Definir el modelo </font>\n",
    "\n",
    "Vamos a crear un modelo simple con una capa lineal y una función de activación sigmoide."
   ]
  },
  {
   "cell_type": "code",
   "execution_count": null,
   "metadata": {},
   "outputs": [],
   "source": [
    "from keras.models import Sequential\n",
    "from keras.layers import Dense, Input\n",
    "\n",
    "model = Sequential()\n",
    "model.add(Input(shape=(2,)))\n",
    "#model.add(Dense(64, activation='relu'))\n",
    "model.add(Dense(32, activation='relu'))\n",
    "model.add(Dense(16, activation='relu'))\n",
    "model.add(Dense(1, activation='sigmoid'))"
   ]
  },
  {
   "cell_type": "markdown",
   "metadata": {},
   "source": [
    "### <font style=\"color:rgb(50,120,229)\"> 2.1. Compilar el modelo </font>\n",
    "\n",
    "Al compilar el modelo, podemos especificar las métricas que queremos usar.\n",
    "\n",
    "Keras proporciona una lista de métricas que se pueden usar. Puedes encontrar más información sobre las métricas de clasificación en la [documentación oficial de Keras](https://keras.io/api/metrics/classification_metrics/)."
   ]
  },
  {
   "cell_type": "code",
   "execution_count": null,
   "metadata": {},
   "outputs": [],
   "source": [
    "# Metricas de clasificación\n",
    "from keras.metrics import  Precision, Recall, BinaryAccuracy\n",
    "\n",
    "THRESHOLD = 0.6\n",
    "\n",
    "precision_metric = Precision(thresholds=THRESHOLD)\n",
    "recall_metric = Recall(thresholds=THRESHOLD)\n",
    "accuracy_metric = BinaryAccuracy(threshold=THRESHOLD)\n",
    "\n",
    "model.compile(optimizer='adam', loss='binary_crossentropy', metrics=[precision_metric, recall_metric, BinaryAccuracy])"
   ]
  },
  {
   "cell_type": "markdown",
   "metadata": {},
   "source": [
    "**Todas las métricas de clasificación estan usando los valores por defecto de `threshold=0.5`.**\n",
    "\n",
    "La idea de estas métricas es modificar el umbral de clasificación para ver cómo se comporta el modelo."
   ]
  },
  {
   "cell_type": "markdown",
   "metadata": {},
   "source": [
    "## <font style=\"color:rgb(50,120,229)\"> 3. Entrenar el modelo </font>"
   ]
  },
  {
   "cell_type": "code",
   "execution_count": null,
   "metadata": {},
   "outputs": [],
   "source": [
    "\n",
    "model.fit(X_train, y_train, epochs=50)"
   ]
  },
  {
   "cell_type": "markdown",
   "metadata": {},
   "source": [
    "## <font style=\"color:rgb(50,120,229)\"> 4. Matriz de Confusión </font>"
   ]
  },
  {
   "cell_type": "code",
   "execution_count": null,
   "metadata": {},
   "outputs": [],
   "source": [
    "from sklearn.metrics import confusion_matrix\n",
    "\n",
    "THRESHOLD = 0.7\n",
    "\n",
    "y_pred = model.predict(X_train)\n",
    "y_pred = (y_pred > THRESHOLD).astype(int)\n",
    "\n",
    "confusion_matrix(y_train, y_pred, normalize='all')"
   ]
  },
  {
   "cell_type": "code",
   "execution_count": null,
   "metadata": {},
   "outputs": [],
   "source": [
    "import seaborn as sns\n",
    "\n",
    "sns.heatmap(confusion_matrix(y_train, y_pred), annot=True, fmt='d', cmap='Blues')"
   ]
  },
  {
   "cell_type": "markdown",
   "metadata": {},
   "source": [
    "## <font style=\"color:rgb(50,120,229)\"> 5. Curva ROC </font>"
   ]
  },
  {
   "cell_type": "code",
   "execution_count": null,
   "metadata": {},
   "outputs": [],
   "source": [
    "from sklearn.metrics import roc_curve, auc\n",
    "\n",
    "THRESHOLD = 0.4\n",
    "\n",
    "y_pred = model.predict(X_train)\n",
    "y_pred = (y_pred > THRESHOLD).astype(int)\n",
    "\n",
    "fpr, tpr, _ = roc_curve(y_train, y_pred)\n",
    "\n",
    "roc_auc = auc(fpr, tpr)\n",
    "print(roc_auc)\n",
    "\n",
    "plt.figure()\n",
    "plt.plot(fpr, tpr, color='darkorange', lw=2, label='ROC curve (area = %0.2f)' % roc_auc)\n",
    "plt.plot([0, 1], [0, 1], color='navy', lw=2, linestyle='--')\n",
    "plt.xlim([0.0, 1.0])\n",
    "plt.ylim([0.0, 1.05])\n",
    "plt.xlabel('False Positive Rate')\n",
    "plt.ylabel('True Positive Rate')\n",
    "\n",
    "plt.legend(loc=\"lower right\")\n",
    "plt.show()"
   ]
  },
  {
   "cell_type": "code",
   "execution_count": null,
   "metadata": {},
   "outputs": [],
   "source": []
  }
 ],
 "metadata": {
  "kernelspec": {
   "display_name": ".venv",
   "language": "python",
   "name": "python3"
  },
  "language_info": {
   "codemirror_mode": {
    "name": "ipython",
    "version": 3
   },
   "file_extension": ".py",
   "mimetype": "text/x-python",
   "name": "python",
   "nbconvert_exporter": "python",
   "pygments_lexer": "ipython3",
   "version": "3.10.11"
  }
 },
 "nbformat": 4,
 "nbformat_minor": 2
}
