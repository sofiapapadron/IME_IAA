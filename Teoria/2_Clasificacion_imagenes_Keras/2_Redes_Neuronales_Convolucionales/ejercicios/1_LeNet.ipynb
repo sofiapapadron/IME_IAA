{
  "cells": [
    {
      "cell_type": "markdown",
      "metadata": {
        "id": "RKcYfG1JEWct"
      },
      "source": [
        "# <font style=\"color:rgb(50,120,229)\"> Implementando LeNet-5 </font>\n",
        "\n",
        "En este cuaderno, construiremos un modelo de la arquitectura CNN LenNet-5 en Keras y lo utilizaremos para realizar clasificación en el conjunto de datos MNIST.\n",
        "\n",
        "LenNet-5 es un modelo CNN pequeño que se presentó por primera vez en 1998. Aunque esta red es muy pequeña, tiene un rendimiento mucho mejor que una red MLP estándar porque las CNN son mucho más efectivas en el procesamiento de datos de imágenes.\n",
        "\n",
        "<center>\n",
        "<img src=\"https://github.com/sofiapapadron/IME_IAA/blob/main/Teoria/2_Clasificacion_imagenes_Keras/2_Redes_Neuronales_Convolucionales/ejercicios/images/LeNet-5_architecture.png?raw=1\" width=800px>\n",
        "</center>"
      ]
    },
    {
      "cell_type": "code",
      "execution_count": 43,
      "metadata": {
        "id": "NY-q-BiYEWcy"
      },
      "outputs": [],
      "source": [
        "EPOCHS = 5\n",
        "NUM_CLASSES = 10\n",
        "IMAGE_SIZE = (28, 28, 1)"
      ]
    },
    {
      "cell_type": "markdown",
      "metadata": {
        "id": "hdLGY2LVEWc0"
      },
      "source": [
        "### <font style=\"color:rgb(50,120,229)\"> 1. Cargar el conjunto de datos MNIST </font>\n",
        "\n",
        "Primero, cargaremos el conjunto de datos MNIST.\n",
        "\n",
        "<center>\n",
        "<img src=\"https://github.com/sofiapapadron/IME_IAA/blob/main/Teoria/2_Clasificacion_imagenes_Keras/2_Redes_Neuronales_Convolucionales/ejercicios/images/mnist.png?raw=1\" width=800px>\n",
        "</center>"
      ]
    },
    {
      "cell_type": "code",
      "execution_count": 44,
      "metadata": {
        "id": "pgyzJNmeEWc1"
      },
      "outputs": [],
      "source": [
        "from keras.datasets import mnist\n",
        "\n",
        "(x_train, y_train), (x_test, y_test) = mnist.load_data()"
      ]
    },
    {
      "cell_type": "markdown",
      "metadata": {
        "id": "MqkNSDyFEWc2"
      },
      "source": [
        "## <font style=\"color:rgb(50,120,229)\"> 2 Visualizar algunas imágenes </font>\n",
        "\n",
        "Vamos a crear una función para visualizar algunas imágenes del conjunto de datos MNIST."
      ]
    },
    {
      "cell_type": "code",
      "execution_count": 45,
      "metadata": {
        "id": "yUlNIv1JEWc2",
        "outputId": "1136a420-c065-4b22-e033-a2e3ede10926",
        "colab": {
          "base_uri": "https://localhost:8080/",
          "height": 406
        }
      },
      "outputs": [
        {
          "output_type": "display_data",
          "data": {
            "text/plain": [
              "<Figure size 640x480 with 9 Axes>"
            ],
            "image/png": "[encoded data removed]"
          },
          "metadata": {}
        }
      ],
      "source": [
        "from matplotlib import pyplot as plt\n",
        "plt.style.use(\"ggplot\")\n",
        "\n",
        "for i in range(9):\n",
        "    plt.subplot(330 + 1 + i)\n",
        "    plt.imshow(x_train[i], cmap='gray')\n",
        "    plt.axis('off')\n",
        "plt.show()"
      ]
    },
    {
      "cell_type": "code",
      "execution_count": 46,
      "metadata": {
        "id": "Dvq-1c6fEWc3"
      },
      "outputs": [],
      "source": [
        "#TODO: Importa la función to_categorical de keras.utils y convierte las etiquetas a one-hot encoding\n",
        "import numpy as np\n",
        "from keras.utils import to_categorical\n",
        "\n",
        "y_train = to_categorical(y_train, num_classes=NUM_CLASSES)\n",
        "y_test = to_categorical(y_test, num_classes=NUM_CLASSES)"
      ]
    },
    {
      "cell_type": "markdown",
      "metadata": {
        "id": "5XeLeNgpEWc3"
      },
      "source": [
        "## <font style=\"color:rgb(50,120,229)\"> 2. Modelar LenNet-5 </font>\n",
        "\n",
        "\n",
        "La arquitectura de LenNet-5 es:\n",
        "\n",
        "- **Capa de entrada**: La imagen de entrada es de tamaño `32x32x1`.\n",
        "- **Capa 1**: Convolucional con 6 filtros de tamaño `5x5` y función de activación `ReLU`.\n",
        "- **Capa 2**: MaxPooling con un filtro de tamaño `2x2`.\n",
        "- **Capa 3**: Convolucional con 16 filtros de tamaño `5x5` y función de activación `ReLU`.\n",
        "- **Capa 4**: MaxPooling con un filtro de tamaño `2x2`.\n",
        "- **Capa 5**: Aplanar la salida de la capa anterior.\n",
        "- **Capa 6**: Totalmente conectada con 120 neuronas y función de activación `ReLU`.\n",
        "- **Capa 7**: Totalmente conectada con 84 neuronas y función de activación `ReLU`.\n",
        "- **Capa de salida**: Totalmente conectada con 10 neuronas (número de clases en MNIST) y función de activación `Softmax`."
      ]
    },
    {
      "cell_type": "code",
      "execution_count": 47,
      "metadata": {
        "id": "ip_6c-uHEWc4"
      },
      "outputs": [],
      "source": [
        "#TODO: Crea un modelo Secuencial\n",
        "from keras.models import Sequential\n",
        "\n",
        "model = Sequential()"
      ]
    },
    {
      "cell_type": "markdown",
      "metadata": {
        "id": "w1kEAGAcEWc5"
      },
      "source": [
        "Recuerda que las imágenes del MNIST tienen un tamaño de `28x28`.\n",
        "\n",
        "Definiremos una capa de entrada que cumpla con estas dimensiones y luego las reescalaremos a `32x32` para que coincidan con las dimensiones de entrada esperadas por la red LenNet-5."
      ]
    },
    {
      "cell_type": "code",
      "execution_count": 48,
      "metadata": {
        "id": "v3yHnCHbEWc5",
        "outputId": "bf9227dd-47d3-487e-9c04-645dd3d6f44e",
        "colab": {
          "base_uri": "https://localhost:8080/"
        }
      },
      "outputs": [
        {
          "output_type": "stream",
          "name": "stderr",
          "text": [
            "/usr/local/lib/python3.10/dist-packages/keras/src/layers/core/input_layer.py:26: UserWarning: Argument `input_shape` is deprecated. Use `shape` instead.\n",
            "  warnings.warn(\n"
          ]
        }
      ],
      "source": [
        "#TODO: Define una capa de entrada que reciba una imagen de 28x28\n",
        "from keras.layers import InputLayer\n",
        "\n",
        "model.add(InputLayer(input_shape=IMAGE_SIZE))"
      ]
    },
    {
      "cell_type": "markdown",
      "metadata": {
        "id": "IszFWRWHEWc6"
      },
      "source": [
        "Como mencionamos anteriormente, la red LenNet-5 espera imágenes de tamaño `32x32`. Por lo tanto, necesitamos reescalar las imágenes de entrada de `28x28` a `32x32`.\n",
        "\n",
        "Esto se puede lograr utilizando la capa `Resizing` de Keras.\n",
        "\n",
        "```python\n",
        "from keras.layers import Resizing\n",
        "\n",
        "model.add(\n",
        "    Resizing(height, width, interpolation=\"bilinear\", crop_to_aspect_ratio=False, pad_to_aspect_ratio=False, fill_mode=\"constant\", fill_value=0.0)\n",
        ")\n",
        "```\n",
        "\n",
        "**Parámetros:**\n",
        "\n",
        "- `height`: Altura de la imagen de salida.\n",
        "- `width`: Ancho de la imagen de salida.\n",
        "- `interpolation`: Método de interpolación utilizado para redimensionar la imagen. Puede ser uno de los siguientes valores: `nearest`, `bilinear`, `bicubic`, `lanczos3`, `lanczos5`.\n",
        "- `crop_to_aspect_ratio`: Si es `True`, la imagen se recortará para que tenga la misma relación de aspecto que la imagen de entrada.\n",
        "- `pad_to_aspect_ratio`: Si es `True`, la imagen se rellenará para que tenga la misma relación de aspecto que la imagen de entrada.\n",
        "- `fill_mode`: Cuando pad_to_aspect_ratio es `True`, este parámetro especifica el método de relleno. Solo `constant` es compatible.\n",
        "- `fill_value`: Valor de relleno cuando `fill_mode` es `constant`."
      ]
    },
    {
      "cell_type": "code",
      "execution_count": 49,
      "metadata": {
        "id": "_bSYTq-LEWc6"
      },
      "outputs": [],
      "source": [
        "#TODO: Agrega una capa de resizing con fill_mode='constant' y valor de relleno 0\n",
        "from keras.layers import Resizing\n",
        "\n",
        "model.add(Resizing(height=32, width=32, fill_mode='constant', fill_value=0))"
      ]
    },
    {
      "cell_type": "markdown",
      "metadata": {
        "id": "bZWUzvnUEWc7"
      },
      "source": [
        "Otro paso importante es normalizar las imágenes. Cuando se trabaja con imágenes la normalización común es dividir por 255.0 para que los valores de píxeles estén en el rango `[0, 1]`.\n",
        "\n",
        "Este proceso se puede conseguir con la capa `Rescaling` de Keras.\n",
        "\n",
        "```python\n",
        "from keras.layers import Rescaling\n",
        "\n",
        "model.add(Rescaling(scale=1.0 / 255))\n",
        "```\n",
        "\n",
        "**Parámetros:**\n",
        "\n",
        "- `scale`: Factor de escala."
      ]
    },
    {
      "cell_type": "code",
      "execution_count": 50,
      "metadata": {
        "id": "Q109bnZMEWc7"
      },
      "outputs": [],
      "source": [
        "#TODO: Añade una capa Rescaling al modelo\n",
        "\n",
        "from keras.layers import Rescaling\n",
        "\n",
        "model.add(Rescaling(scale=1.0 / 255))"
      ]
    },
    {
      "cell_type": "markdown",
      "metadata": {
        "id": "tR6BLwjEEWc7"
      },
      "source": [
        "La siguiente capa es una capa convolucional con 6 filtros de tamaño `5x5` y función de activación `ReLU`.\n",
        "\n",
        "```python\n",
        "from keras.layers import Conv2D\n",
        "\n",
        "model.add(\n",
        "    Conv2D(\n",
        "        filters=6,\n",
        "        kernel_size=(5, 5),\n",
        "        strides=(1, 1),\n",
        "        padding=\"valid\",\n",
        "        activation=\"relu\",\n",
        "    )\n",
        ")\n",
        "```\n",
        "\n",
        "**Parámetros:**\n",
        "\n",
        "- `filters`: Número de filtros.\n",
        "- `kernel_size`: Tamaño del kernel.\n",
        "- `strides`: Desplazamiento del kernel.\n",
        "- `padding`: Método de relleno.\n",
        "- `activation`: Función de activación."
      ]
    },
    {
      "cell_type": "code",
      "execution_count": 51,
      "metadata": {
        "id": "ClG9yd_1EWc8"
      },
      "outputs": [],
      "source": [
        "#TODO: Agrega la primera capa convolucional al modelo\n",
        "from keras.layers import Conv2D\n",
        "model.add(Conv2D(filters=6, kernel_size=(5, 5), strides=(1, 1), padding=\"valid\", activation=\"relu\"))"
      ]
    },
    {
      "cell_type": "markdown",
      "metadata": {
        "id": "beZ_hL8yEWc8"
      },
      "source": [
        "Después de la capa convolucional, agregamos una capa de MaxPooling con un filtro de tamaño `2x2`.\n",
        "\n",
        "```python\n",
        "from keras.layers import MaxPooling2D\n",
        "\n",
        "model.add(MaxPooling2D(pool_size=(2, 2), strides=(2, 2)))\n",
        "```\n",
        "\n",
        "**Parámetros:**\n",
        "\n",
        "- `pool_size`: Tamaño del filtro.\n",
        "- `strides`: Desplazamiento del filtro."
      ]
    },
    {
      "cell_type": "code",
      "execution_count": 52,
      "metadata": {
        "id": "MEz7z7tzEWc8"
      },
      "outputs": [],
      "source": [
        "#TODO: Agrega una capa de MaxPooling2D al modelo\n",
        "from keras.layers import MaxPooling2D\n",
        "\n",
        "model.add(MaxPooling2D(pool_size=(2, 2), strides=(2, 2)))"
      ]
    },
    {
      "cell_type": "code",
      "execution_count": 53,
      "metadata": {
        "id": "mxUwK4tHEWc9"
      },
      "outputs": [],
      "source": [
        "#TODO: Agrega la segunda capa convolucional al modelo y la capa de MaxPooling2D\n",
        "\n",
        "model.add(Conv2D(filters=16, kernel_size=(5, 5), strides=(1, 1), padding=\"valid\", activation=\"relu\"))"
      ]
    },
    {
      "cell_type": "markdown",
      "metadata": {
        "id": "FmvKpEeTEWc9"
      },
      "source": [
        "Despues de la última capa de agrupación, aplanamos la salida de la capa anterior. Esto se puede hacer con la capa `Flatten` de Keras.\n",
        "\n",
        "```python\n",
        "from keras.layers import Flatten\n",
        "\n",
        "model.add(Flatten())\n",
        "```\n",
        "\n",
        "**Aplanar la salida es necesario para conectar la salida de la capa convolucional a la capa totalmente conectada.**"
      ]
    },
    {
      "cell_type": "code",
      "execution_count": 54,
      "metadata": {
        "id": "bWcuJS8QEWc-"
      },
      "outputs": [],
      "source": [
        "#TODO: Agrega una capa de Flatten al modelo\n",
        "from keras.layers import Flatten\n",
        "\n",
        "model.add(Flatten())"
      ]
    },
    {
      "cell_type": "code",
      "execution_count": 55,
      "metadata": {
        "id": "lESVUD4TEWc-"
      },
      "outputs": [],
      "source": [
        "#TODO: Agrega las capas densas al modelo\n",
        "from keras.layers import Dense\n",
        "model.add(Dense(units=120, activation='relu'))\n",
        "model.add(Dense(units=84, activation='relu'))\n",
        "model.add(Dense(units=10, activation='relu'))"
      ]
    },
    {
      "cell_type": "code",
      "execution_count": 56,
      "metadata": {
        "id": "EVfo_fgcEWc_",
        "outputId": "95112888-10d2-4ed0-cefb-b1af9d2812b2",
        "colab": {
          "base_uri": "https://localhost:8080/",
          "height": 424
        }
      },
      "outputs": [
        {
          "output_type": "display_data",
          "data": {
            "text/plain": [
              "\u001b[1mModel: \"sequential_2\"\u001b[0m\n"
            ],
            "text/html": [
              "<pre style=\"white-space:pre;overflow-x:auto;line-height:normal;font-family:Menlo,'DejaVu Sans Mono',consolas,'Courier New',monospace\"><span style=\"font-weight: bold\">Model: \"sequential_2\"</span>\n",
              "</pre>\n"
            ]
          },
          "metadata": {}
        },
        {
          "output_type": "display_data",
          "data": {
            "text/plain": [
              "┏━━━━━━━━━━━━━━━━━━━━━━━━━━━━━━━━━━━━━━┳━━━━━━━━━━━━━━━━━━━━━━━━━━━━━┳━━━━━━━━━━━━━━━━━┓\n",
              "┃\u001b[1m \u001b[0m\u001b[1mLayer (type)                        \u001b[0m\u001b[1m \u001b[0m┃\u001b[1m \u001b[0m\u001b[1mOutput Shape               \u001b[0m\u001b[1m \u001b[0m┃\u001b[1m \u001b[0m\u001b[1m        Param #\u001b[0m\u001b[1m \u001b[0m┃\n",
              "┡━━━━━━━━━━━━━━━━━━━━━━━━━━━━━━━━━━━━━━╇━━━━━━━━━━━━━━━━━━━━━━━━━━━━━╇━━━━━━━━━━━━━━━━━┩\n",
              "│ resizing_2 (\u001b[38;5;33mResizing\u001b[0m)                │ (\u001b[38;5;45mNone\u001b[0m, \u001b[38;5;34m32\u001b[0m, \u001b[38;5;34m32\u001b[0m, \u001b[38;5;34m1\u001b[0m)           │               \u001b[38;5;34m0\u001b[0m │\n",
              "├──────────────────────────────────────┼─────────────────────────────┼─────────────────┤\n",
              "│ rescaling_2 (\u001b[38;5;33mRescaling\u001b[0m)              │ (\u001b[38;5;45mNone\u001b[0m, \u001b[38;5;34m32\u001b[0m, \u001b[38;5;34m32\u001b[0m, \u001b[38;5;34m1\u001b[0m)           │               \u001b[38;5;34m0\u001b[0m │\n",
              "├──────────────────────────────────────┼─────────────────────────────┼─────────────────┤\n",
              "│ conv2d_4 (\u001b[38;5;33mConv2D\u001b[0m)                    │ (\u001b[38;5;45mNone\u001b[0m, \u001b[38;5;34m28\u001b[0m, \u001b[38;5;34m28\u001b[0m, \u001b[38;5;34m6\u001b[0m)           │             \u001b[38;5;34m156\u001b[0m │\n",
              "├──────────────────────────────────────┼─────────────────────────────┼─────────────────┤\n",
              "│ max_pooling2d_2 (\u001b[38;5;33mMaxPooling2D\u001b[0m)       │ (\u001b[38;5;45mNone\u001b[0m, \u001b[38;5;34m14\u001b[0m, \u001b[38;5;34m14\u001b[0m, \u001b[38;5;34m6\u001b[0m)           │               \u001b[38;5;34m0\u001b[0m │\n",
              "├──────────────────────────────────────┼─────────────────────────────┼─────────────────┤\n",
              "│ conv2d_5 (\u001b[38;5;33mConv2D\u001b[0m)                    │ (\u001b[38;5;45mNone\u001b[0m, \u001b[38;5;34m10\u001b[0m, \u001b[38;5;34m10\u001b[0m, \u001b[38;5;34m16\u001b[0m)          │           \u001b[38;5;34m2,416\u001b[0m │\n",
              "├──────────────────────────────────────┼─────────────────────────────┼─────────────────┤\n",
              "│ flatten_2 (\u001b[38;5;33mFlatten\u001b[0m)                  │ (\u001b[38;5;45mNone\u001b[0m, \u001b[38;5;34m1600\u001b[0m)                │               \u001b[38;5;34m0\u001b[0m │\n",
              "├──────────────────────────────────────┼─────────────────────────────┼─────────────────┤\n",
              "│ dense_12 (\u001b[38;5;33mDense\u001b[0m)                     │ (\u001b[38;5;45mNone\u001b[0m, \u001b[38;5;34m120\u001b[0m)                 │         \u001b[38;5;34m192,120\u001b[0m │\n",
              "├──────────────────────────────────────┼─────────────────────────────┼─────────────────┤\n",
              "│ dense_13 (\u001b[38;5;33mDense\u001b[0m)                     │ (\u001b[38;5;45mNone\u001b[0m, \u001b[38;5;34m84\u001b[0m)                  │          \u001b[38;5;34m10,164\u001b[0m │\n",
              "├──────────────────────────────────────┼─────────────────────────────┼─────────────────┤\n",
              "│ dense_14 (\u001b[38;5;33mDense\u001b[0m)                     │ (\u001b[38;5;45mNone\u001b[0m, \u001b[38;5;34m10\u001b[0m)                  │             \u001b[38;5;34m850\u001b[0m │\n",
              "└──────────────────────────────────────┴─────────────────────────────┴─────────────────┘\n"
            ],
            "text/html": [
              "<pre style=\"white-space:pre;overflow-x:auto;line-height:normal;font-family:Menlo,'DejaVu Sans Mono',consolas,'Courier New',monospace\">┏━━━━━━━━━━━━━━━━━━━━━━━━━━━━━━━━━━━━━━┳━━━━━━━━━━━━━━━━━━━━━━━━━━━━━┳━━━━━━━━━━━━━━━━━┓\n",
              "┃<span style=\"font-weight: bold\"> Layer (type)                         </span>┃<span style=\"font-weight: bold\"> Output Shape                </span>┃<span style=\"font-weight: bold\">         Param # </span>┃\n",
              "┡━━━━━━━━━━━━━━━━━━━━━━━━━━━━━━━━━━━━━━╇━━━━━━━━━━━━━━━━━━━━━━━━━━━━━╇━━━━━━━━━━━━━━━━━┩\n",
              "│ resizing_2 (<span style=\"color: #0087ff; text-decoration-color: #0087ff\">Resizing</span>)                │ (<span style=\"color: #00d7ff; text-decoration-color: #00d7ff\">None</span>, <span style=\"color: #00af00; text-decoration-color: #00af00\">32</span>, <span style=\"color: #00af00; text-decoration-color: #00af00\">32</span>, <span style=\"color: #00af00; text-decoration-color: #00af00\">1</span>)           │               <span style=\"color: #00af00; text-decoration-color: #00af00\">0</span> │\n",
              "├──────────────────────────────────────┼─────────────────────────────┼─────────────────┤\n",
              "│ rescaling_2 (<span style=\"color: #0087ff; text-decoration-color: #0087ff\">Rescaling</span>)              │ (<span style=\"color: #00d7ff; text-decoration-color: #00d7ff\">None</span>, <span style=\"color: #00af00; text-decoration-color: #00af00\">32</span>, <span style=\"color: #00af00; text-decoration-color: #00af00\">32</span>, <span style=\"color: #00af00; text-decoration-color: #00af00\">1</span>)           │               <span style=\"color: #00af00; text-decoration-color: #00af00\">0</span> │\n",
              "├──────────────────────────────────────┼─────────────────────────────┼─────────────────┤\n",
              "│ conv2d_4 (<span style=\"color: #0087ff; text-decoration-color: #0087ff\">Conv2D</span>)                    │ (<span style=\"color: #00d7ff; text-decoration-color: #00d7ff\">None</span>, <span style=\"color: #00af00; text-decoration-color: #00af00\">28</span>, <span style=\"color: #00af00; text-decoration-color: #00af00\">28</span>, <span style=\"color: #00af00; text-decoration-color: #00af00\">6</span>)           │             <span style=\"color: #00af00; text-decoration-color: #00af00\">156</span> │\n",
              "├──────────────────────────────────────┼─────────────────────────────┼─────────────────┤\n",
              "│ max_pooling2d_2 (<span style=\"color: #0087ff; text-decoration-color: #0087ff\">MaxPooling2D</span>)       │ (<span style=\"color: #00d7ff; text-decoration-color: #00d7ff\">None</span>, <span style=\"color: #00af00; text-decoration-color: #00af00\">14</span>, <span style=\"color: #00af00; text-decoration-color: #00af00\">14</span>, <span style=\"color: #00af00; text-decoration-color: #00af00\">6</span>)           │               <span style=\"color: #00af00; text-decoration-color: #00af00\">0</span> │\n",
              "├──────────────────────────────────────┼─────────────────────────────┼─────────────────┤\n",
              "│ conv2d_5 (<span style=\"color: #0087ff; text-decoration-color: #0087ff\">Conv2D</span>)                    │ (<span style=\"color: #00d7ff; text-decoration-color: #00d7ff\">None</span>, <span style=\"color: #00af00; text-decoration-color: #00af00\">10</span>, <span style=\"color: #00af00; text-decoration-color: #00af00\">10</span>, <span style=\"color: #00af00; text-decoration-color: #00af00\">16</span>)          │           <span style=\"color: #00af00; text-decoration-color: #00af00\">2,416</span> │\n",
              "├──────────────────────────────────────┼─────────────────────────────┼─────────────────┤\n",
              "│ flatten_2 (<span style=\"color: #0087ff; text-decoration-color: #0087ff\">Flatten</span>)                  │ (<span style=\"color: #00d7ff; text-decoration-color: #00d7ff\">None</span>, <span style=\"color: #00af00; text-decoration-color: #00af00\">1600</span>)                │               <span style=\"color: #00af00; text-decoration-color: #00af00\">0</span> │\n",
              "├──────────────────────────────────────┼─────────────────────────────┼─────────────────┤\n",
              "│ dense_12 (<span style=\"color: #0087ff; text-decoration-color: #0087ff\">Dense</span>)                     │ (<span style=\"color: #00d7ff; text-decoration-color: #00d7ff\">None</span>, <span style=\"color: #00af00; text-decoration-color: #00af00\">120</span>)                 │         <span style=\"color: #00af00; text-decoration-color: #00af00\">192,120</span> │\n",
              "├──────────────────────────────────────┼─────────────────────────────┼─────────────────┤\n",
              "│ dense_13 (<span style=\"color: #0087ff; text-decoration-color: #0087ff\">Dense</span>)                     │ (<span style=\"color: #00d7ff; text-decoration-color: #00d7ff\">None</span>, <span style=\"color: #00af00; text-decoration-color: #00af00\">84</span>)                  │          <span style=\"color: #00af00; text-decoration-color: #00af00\">10,164</span> │\n",
              "├──────────────────────────────────────┼─────────────────────────────┼─────────────────┤\n",
              "│ dense_14 (<span style=\"color: #0087ff; text-decoration-color: #0087ff\">Dense</span>)                     │ (<span style=\"color: #00d7ff; text-decoration-color: #00d7ff\">None</span>, <span style=\"color: #00af00; text-decoration-color: #00af00\">10</span>)                  │             <span style=\"color: #00af00; text-decoration-color: #00af00\">850</span> │\n",
              "└──────────────────────────────────────┴─────────────────────────────┴─────────────────┘\n",
              "</pre>\n"
            ]
          },
          "metadata": {}
        },
        {
          "output_type": "display_data",
          "data": {
            "text/plain": [
              "\u001b[1m Total params: \u001b[0m\u001b[38;5;34m205,706\u001b[0m (803.54 KB)\n"
            ],
            "text/html": [
              "<pre style=\"white-space:pre;overflow-x:auto;line-height:normal;font-family:Menlo,'DejaVu Sans Mono',consolas,'Courier New',monospace\"><span style=\"font-weight: bold\"> Total params: </span><span style=\"color: #00af00; text-decoration-color: #00af00\">205,706</span> (803.54 KB)\n",
              "</pre>\n"
            ]
          },
          "metadata": {}
        },
        {
          "output_type": "display_data",
          "data": {
            "text/plain": [
              "\u001b[1m Trainable params: \u001b[0m\u001b[38;5;34m205,706\u001b[0m (803.54 KB)\n"
            ],
            "text/html": [
              "<pre style=\"white-space:pre;overflow-x:auto;line-height:normal;font-family:Menlo,'DejaVu Sans Mono',consolas,'Courier New',monospace\"><span style=\"font-weight: bold\"> Trainable params: </span><span style=\"color: #00af00; text-decoration-color: #00af00\">205,706</span> (803.54 KB)\n",
              "</pre>\n"
            ]
          },
          "metadata": {}
        },
        {
          "output_type": "display_data",
          "data": {
            "text/plain": [
              "\u001b[1m Non-trainable params: \u001b[0m\u001b[38;5;34m0\u001b[0m (0.00 B)\n"
            ],
            "text/html": [
              "<pre style=\"white-space:pre;overflow-x:auto;line-height:normal;font-family:Menlo,'DejaVu Sans Mono',consolas,'Courier New',monospace\"><span style=\"font-weight: bold\"> Non-trainable params: </span><span style=\"color: #00af00; text-decoration-color: #00af00\">0</span> (0.00 B)\n",
              "</pre>\n"
            ]
          },
          "metadata": {}
        }
      ],
      "source": [
        "#TODO: Muestra un resumen del modelo\n",
        "model.summary()"
      ]
    },
    {
      "cell_type": "markdown",
      "metadata": {
        "id": "JKDfSGutEWc_"
      },
      "source": [
        "## <font style=\"color:rgb(50,120,229)\"> 4. Entrenar LenNet-5 </font>"
      ]
    },
    {
      "cell_type": "code",
      "execution_count": 57,
      "metadata": {
        "id": "5yRretD0EWdA"
      },
      "outputs": [],
      "source": [
        "#TODO: Compila el modelo utilizando el optimizador 'adam', la función de pérdida 'categorical_crossentropy' y la métrica 'accuracy'\n",
        "model.compile(optimizer='adam', loss='categorical_crossentropy', metrics=['accuracy'])"
      ]
    },
    {
      "cell_type": "code",
      "execution_count": 58,
      "metadata": {
        "id": "M0F_M54jEWdA",
        "outputId": "f29211e8-7b00-49cb-f77a-46ee0e5f3c6c",
        "colab": {
          "base_uri": "https://localhost:8080/"
        }
      },
      "outputs": [
        {
          "output_type": "stream",
          "name": "stdout",
          "text": [
            "Epoch 1/5\n",
            "\u001b[1m1500/1500\u001b[0m \u001b[32m━━━━━━━━━━━━━━━━━━━━\u001b[0m\u001b[37m\u001b[0m \u001b[1m68s\u001b[0m 43ms/step - accuracy: 0.1257 - loss: nan - val_accuracy: 0.0995 - val_loss: nan\n",
            "Epoch 2/5\n",
            "\u001b[1m1500/1500\u001b[0m \u001b[32m━━━━━━━━━━━━━━━━━━━━\u001b[0m\u001b[37m\u001b[0m \u001b[1m86s\u001b[0m 46ms/step - accuracy: 0.1001 - loss: nan - val_accuracy: 0.0995 - val_loss: nan\n",
            "Epoch 3/5\n",
            "\u001b[1m1500/1500\u001b[0m \u001b[32m━━━━━━━━━━━━━━━━━━━━\u001b[0m\u001b[37m\u001b[0m \u001b[1m74s\u001b[0m 41ms/step - accuracy: 0.1020 - loss: nan - val_accuracy: 0.0995 - val_loss: nan\n",
            "Epoch 4/5\n",
            "\u001b[1m1500/1500\u001b[0m \u001b[32m━━━━━━━━━━━━━━━━━━━━\u001b[0m\u001b[37m\u001b[0m \u001b[1m85s\u001b[0m 44ms/step - accuracy: 0.1005 - loss: nan - val_accuracy: 0.0995 - val_loss: nan\n",
            "Epoch 5/5\n",
            "\u001b[1m1500/1500\u001b[0m \u001b[32m━━━━━━━━━━━━━━━━━━━━\u001b[0m\u001b[37m\u001b[0m \u001b[1m66s\u001b[0m 44ms/step - accuracy: 0.1001 - loss: nan - val_accuracy: 0.0995 - val_loss: nan\n"
          ]
        }
      ],
      "source": [
        "#TODO: Entrena el modelo con los datos de entrenamiento, utiliza un validation_split del 0.2\n",
        "history = model.fit(x_train, y_train, epochs=EPOCHS, validation_split=0.2)"
      ]
    },
    {
      "cell_type": "code",
      "execution_count": 18,
      "metadata": {
        "id": "jcZ6O8ehEWdB",
        "outputId": "695449a3-ff32-4851-963a-ed1cf0654e0e",
        "colab": {
          "base_uri": "https://localhost:8080/",
          "height": 447
        }
      },
      "outputs": [
        {
          "output_type": "execute_result",
          "data": {
            "text/plain": [
              "[<matplotlib.lines.Line2D at 0x78377c2ed3c0>]"
            ]
          },
          "metadata": {},
          "execution_count": 18
        },
        {
          "output_type": "display_data",
          "data": {
            "text/plain": [
              "<Figure size 640x480 with 1 Axes>"
            ],
            "image/png": "[encoded data removed]"
          },
          "metadata": {}
        }
      ],
      "source": [
        "#TODO: Grafica la pérdida y la precisión del modelo\n",
        "import matplotlib.pyplot as plt\n",
        "\n",
        "plt.plot(history.history['loss'])\n",
        "plt.plot(history.history['accuracy'])"
      ]
    },
    {
      "cell_type": "markdown",
      "metadata": {
        "id": "BQF7fdDNEWdB"
      },
      "source": [
        "## <font style=\"color:rgb(50,120,229)\"> 5. Evaluación del modelo </font>\n",
        "\n",
        "Finalmente, evaluaremos el modelo en el conjunto de datos de prueba y visualizaremos algunas predicciones.\n",
        "\n",
        "Esto nos dará una idea de cómo se desempeña nuestro modelo en datos que nunca ha visto antes."
      ]
    },
    {
      "cell_type": "code",
      "execution_count": 19,
      "metadata": {
        "id": "rIgWy6uUEWdB",
        "outputId": "f9fff136-2fbe-49d5-f81d-c2a327547189",
        "colab": {
          "base_uri": "https://localhost:8080/"
        }
      },
      "outputs": [
        {
          "output_type": "stream",
          "name": "stdout",
          "text": [
            "\u001b[1m313/313\u001b[0m \u001b[32m━━━━━━━━━━━━━━━━━━━━\u001b[0m\u001b[37m\u001b[0m \u001b[1m9s\u001b[0m 27ms/step - accuracy: 0.0924 - loss: nan\n"
          ]
        }
      ],
      "source": [
        "#TODO: Evalúa el modelo con los datos de test\n",
        "score = model.evaluate(x_test, y_test)"
      ]
    },
    {
      "cell_type": "markdown",
      "metadata": {
        "id": "JnfP2BG2EWdC"
      },
      "source": [
        "### <font style=\"color:rgb(50,120,229)\"> 5.1. Visualizar algunas predicciones </font>"
      ]
    },
    {
      "cell_type": "code",
      "execution_count": 21,
      "metadata": {
        "id": "ciqNvjotEWdC",
        "outputId": "1015a56e-a8f0-4364-f64f-384697cdfb20",
        "colab": {
          "base_uri": "https://localhost:8080/",
          "height": 446
        }
      },
      "outputs": [
        {
          "output_type": "stream",
          "name": "stdout",
          "text": [
            "\u001b[1m313/313\u001b[0m \u001b[32m━━━━━━━━━━━━━━━━━━━━\u001b[0m\u001b[37m\u001b[0m \u001b[1m7s\u001b[0m 22ms/step\n"
          ]
        },
        {
          "output_type": "display_data",
          "data": {
            "text/plain": [
              "<Figure size 640x480 with 9 Axes>"
            ],
            "image/png": "[encoded data removed]"
          },
          "metadata": {}
        }
      ],
      "source": [
        "#TODO: Realiza algunas predicciones con los datos de test y muestra las imágenes y su predicción\n",
        "predictions = model.predict(x_test)\n",
        "\n",
        "import matplotlib.pyplot as plt\n",
        "import numpy as np\n",
        "for i in range(9):\n",
        "    plt.subplot(330 + 1 + i)\n",
        "    plt.imshow(x_test[i], cmap='gray')\n",
        "    plt.title(f\"Predicted: {np.argmax(predictions[i])}\")\n",
        "    plt.axis('off')\n",
        "plt.show()\n"
      ]
    }
  ],
  "metadata": {
    "kernelspec": {
      "display_name": ".venv",
      "language": "python",
      "name": "python3"
    },
    "language_info": {
      "codemirror_mode": {
        "name": "ipython",
        "version": 3
      },
      "file_extension": ".py",
      "mimetype": "text/x-python",
      "name": "python",
      "nbconvert_exporter": "python",
      "pygments_lexer": "ipython3",
      "version": "3.11.7"
    },
    "colab": {
      "provenance": []
    }
  },
  "nbformat": 4,
  "nbformat_minor": 0
}