{
 "cells": [
  {
   "cell_type": "markdown",
   "metadata": {},
   "source": [
    "# <font style=\"color:rgb(50, 120, 229);\"> Clasificador perro presidencial </font>"
   ]
  },
  {
   "cell_type": "markdown",
   "metadata": {},
   "source": [
    "En este cuaderno deberás implementar un clasificador de imágenes que determine si una imagen contiene o no a *Bo*, el perro de Barack Obama. \n",
    "\n",
    "Para ello, deberás implementar un modelo de clasificación de imágenes utilizando redes neuronales convolucionales (CNN).\n",
    "\n",
    "El ejercicio está dividido en cuatro partes:\n",
    "\n",
    "- Importar los datos de Kaggle.\n",
    "- Importar los datos utilizando `image_dataset_from_directory`.\n",
    "- Entrenar y validar un modelo de clasificación de imágenes.\n",
    "- Entrenar y validar un modelo con la misma arquitectura pero con Data Augmentation."
   ]
  },
  {
   "cell_type": "markdown",
   "metadata": {},
   "source": [
    "## <font style=\"color:rgb(50, 120, 229);\"> 1. Importar los datos de Kaggle </font>"
   ]
  },
  {
   "cell_type": "markdown",
   "metadata": {},
   "source": [
    "Realiza los siguientes pasos:\n",
    "\n",
    "1. Instala la API de Kaggle.\n",
    "2. Mueve el archivo `kaggle.json` a la carpeta `.kaggle` de tu directorio de usuario.\n",
    "3. Descarga el conjunto de datos de Kaggle.\n",
    "4. Descomprime el archivo descargado."
   ]
  },
  {
   "cell_type": "code",
   "execution_count": null,
   "metadata": {},
   "outputs": [],
   "source": [
    "%pip install -q kaggle"
   ]
  },
  {
   "cell_type": "code",
   "execution_count": null,
   "metadata": {},
   "outputs": [],
   "source": [
    "from google.colab import files\n",
    "\n",
    "uploaded = files.upload()"
   ]
  },
  {
   "cell_type": "code",
   "execution_count": null,
   "metadata": {},
   "outputs": [],
   "source": [
    "!mkdir -p ~/.kaggle\n",
    "!mv kaggle.json ~/.kaggle/\n",
    "!chmod 600 ~/.kaggle/kaggle.json"
   ]
  },
  {
   "cell_type": "code",
   "execution_count": null,
   "metadata": {},
   "outputs": [],
   "source": [
    "!kaggle datasets download -d pedrodavidjuarez/perro-presidencial-bo\n",
    "!unzip -o perro-presidencial-bo.zip"
   ]
  },
  {
   "cell_type": "markdown",
   "metadata": {},
   "source": [
    "## <font style=\"color:rgb(50, 120, 229);\"> 2. Importar los datos utilizando `image_dataset_from_directory` </font>\n",
    "\n",
    "Realiza los siguientes pasos:\n",
    "\n",
    "1. Importa las bibliotecas necesarias.\n",
    "2. Carga las imágenes de entrenamiento y validación utilizando `image_dataset_from_directory`.\n",
    "3. Visualiza las imágenes de un lote de datos."
   ]
  },
  {
   "cell_type": "code",
   "execution_count": null,
   "metadata": {},
   "outputs": [],
   "source": []
  },
  {
   "cell_type": "markdown",
   "metadata": {},
   "source": [
    "### <font style=\"color:rgb(50, 120, 229);\"> 2.1. Mostrar imágenes de un lote de datos </font>"
   ]
  },
  {
   "cell_type": "markdown",
   "metadata": {},
   "source": [
    "Puedes acceder a un lote de datos utilizando la función `take` de un `tf.data.Dataset`. Luego, puedes recorrer las imágenes y etiquetas de ese lote de datos.\n",
    "\n",
    "```python\n",
    "for images, labels in train_ds.take(1):\n",
    "    for i in range(9):\n",
    "        ax = plt.subplot(3, 3, i + 1)\n",
    "        plt.imshow(images[i].numpy().astype(\"uint8\"))\n",
    "        plt.title(int(labels[i]))\n",
    "        plt.axis(\"off\")\n",
    "    break\n",
    "plt.show()\n",
    "```"
   ]
  },
  {
   "cell_type": "code",
   "execution_count": null,
   "metadata": {},
   "outputs": [],
   "source": []
  },
  {
   "cell_type": "markdown",
   "metadata": {},
   "source": [
    "## <font style=\"color:rgb(50, 120, 229);\"> 3. Entrenar y validar un modelo de clasificación de imágenes </font>\n",
    "\n",
    "Realiza los siguientes pasos:\n",
    "\n",
    "1. Define la arquitectura de la red neuronal convolucional utilizando LeNet-5:\n",
    "    - Capa convolucional con 6 filtros de 5x5 y función de activación ReLU.\n",
    "    - Capa de pooling con filtro de 2x2 y stride de 2.\n",
    "    - Capa convolucional con 16 filtros de 5x5 y función de activación ReLU.\n",
    "    - Capa de pooling con filtro de 2x2 y stride de 2.\n",
    "    - Capa densa con 120 neuronas y función de activación ReLU.\n",
    "    - Capa densa con 84 neuronas y función de activación ReLU.\n",
    "    - Capa de salida\n",
    "2. Compila y entrena el modelo.\n",
    "3. Visualiza la pérdida y la precisión del modelo.\n",
    "\n",
    "**Para ambos modelos no olvides normalizar las imágenes.**"
   ]
  },
  {
   "cell_type": "code",
   "execution_count": null,
   "metadata": {},
   "outputs": [],
   "source": []
  },
  {
   "cell_type": "markdown",
   "metadata": {},
   "source": [
    "## <font style=\"color:rgb(50, 120, 229);\"> 4. Entrenar y validar un modelo con la misma arquitectura pero con Data Augmentation </font>\n",
    "\n",
    "Realiza los siguientes pasos:\n",
    "\n",
    "1. Agrega capas de Data Augmentation al modelo.\n",
    "2. Compila y entrena el modelo.\n",
    "3. Visualiza la pérdida y la precisión del modelo."
   ]
  },
  {
   "cell_type": "code",
   "execution_count": null,
   "metadata": {},
   "outputs": [],
   "source": []
  },
  {
   "cell_type": "markdown",
   "metadata": {},
   "source": [
    "**Explica ¿por qué elegiste esas capas de Data Augmentation?**"
   ]
  }
 ],
 "metadata": {
  "kernelspec": {
   "display_name": ".venv",
   "language": "python",
   "name": "python3"
  },
  "language_info": {
   "codemirror_mode": {
    "name": "ipython",
    "version": 3
   },
   "file_extension": ".py",
   "mimetype": "text/x-python",
   "name": "python",
   "nbconvert_exporter": "python",
   "pygments_lexer": "ipython3",
   "version": "3.11.9"
  }
 },
 "nbformat": 4,
 "nbformat_minor": 2
}
