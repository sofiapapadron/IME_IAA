{
 "cells": [
  {
   "cell_type": "markdown",
   "metadata": {},
   "source": [
    "# <font style=\"color:rgb(50, 120, 229);\"> Proyecto 1: Clasificación de frutas </font>\n",
    "\n",
    "**Objetivo:**\n",
    "\n",
    "El objetivo de este proyecto es utilizar el dataset **Fresh and Rotten Fruits** para crear un modelo de clasificación que permita diferenciar entre frutas frescas y frutas podridas.\n",
    "\n",
    "El dataset contiene imágenes de las siguientes frutas:\n",
    "\n",
    "- Fresh apples\n",
    "- Fresh bananas\n",
    "- Fresh oranges\n",
    "- Rotten apples\n",
    "- Rotten bananas\n",
    "- Rotten oranges\n",
    "\n",
    "**Puedes utilizar un modelo pre-entrenado o entrenar tu propio modelo desde cero.**"
   ]
  },
  {
   "cell_type": "markdown",
   "metadata": {},
   "source": [
    "<font style=\"color:rgb(50, 120, 229);\">Recomedaciones:</font>\n",
    "\n",
    "- Entrena el modelo en Google Colab.\n",
    "- Recuerda activar la GPU en Google Colab para acelerar el entrenamiento. Para hacerlo ve a `Entorno de ejecución` -> `Cambiar tipo de entorno de ejecución` -> Selecciona `GPU`."
   ]
  },
  {
   "cell_type": "code",
   "execution_count": null,
   "metadata": {},
   "outputs": [],
   "source": [
    "#Actualizar TensorFlow a la última versión\n",
    "%pip install tensorflow --upgrade -q"
   ]
  },
  {
   "cell_type": "markdown",
   "metadata": {},
   "source": [
    "## <font style=\"color:rgb(50, 120, 229);\"> 1. Descargar el dataset </font>\n",
    "\n",
    "El dataset se encuentra en kaggle por lo que es importante que cuentes con tu archivo `kaggle.json` para poder descargar el dataset."
   ]
  },
  {
   "cell_type": "code",
   "execution_count": null,
   "metadata": {},
   "outputs": [],
   "source": [
    "%pip install -q kaggle"
   ]
  },
  {
   "cell_type": "code",
   "execution_count": null,
   "metadata": {},
   "outputs": [],
   "source": [
    "from google.colab import files\n",
    "\n",
    "uploaded = files.upload()"
   ]
  },
  {
   "cell_type": "code",
   "execution_count": null,
   "metadata": {},
   "outputs": [],
   "source": [
    "!mkdir -p ~/.kaggle\n",
    "!mv kaggle.json ~/.kaggle/\n",
    "!chmod 600 ~/.kaggle/kaggle.json"
   ]
  },
  {
   "cell_type": "code",
   "execution_count": null,
   "metadata": {},
   "outputs": [],
   "source": [
    "!kaggle datasets download -d pedrodavidjuarez/fresh-vs-rotten-fruits\n",
    "!unzip fresh-vs-rotten-fruits.zip"
   ]
  },
  {
   "cell_type": "markdown",
   "metadata": {},
   "source": [
    "## <font style=\"color:rgb(50, 120, 229);\"> 2. Importar el dataset </font>\n",
    "\n",
    "Una vez descargado el dataset, importa las librerías necesarias y realiza la importación del dataset utilizando la función `image_dataset_from_directory` de Keras.\n",
    "\n",
    "El dataset tiene la siguiente estructura:\n",
    "\n",
    "```bash\n",
    "fruits/\n",
    "    │\n",
    "    └───train/\n",
    "    └───valid/\n",
    "```"
   ]
  },
  {
   "cell_type": "code",
   "execution_count": null,
   "metadata": {},
   "outputs": [],
   "source": []
  },
  {
   "cell_type": "markdown",
   "metadata": {},
   "source": [
    "## <font style=\"color:rgb(50, 120, 229);\"> 3. Explorar el dataset </font>"
   ]
  },
  {
   "cell_type": "markdown",
   "metadata": {},
   "source": [
    "Muestra las clases del dataset utilizando el atributo `class_names` del dataset.\n",
    "\n",
    "Con esto tendrás una idea de cuántas clases hay en el dataset y que orden siguen."
   ]
  },
  {
   "cell_type": "code",
   "execution_count": null,
   "metadata": {},
   "outputs": [],
   "source": []
  },
  {
   "cell_type": "markdown",
   "metadata": {},
   "source": [
    "Toma un `batch` de imágenes del dataset utilizando la función `take` y visualiza algunas imágenes.\n",
    "\n",
    "Esto te permitirá conocer la estructura del dataset y verificar que las imágenes se han importado correctamente."
   ]
  },
  {
   "cell_type": "code",
   "execution_count": null,
   "metadata": {},
   "outputs": [],
   "source": []
  },
  {
   "cell_type": "markdown",
   "metadata": {},
   "source": [
    "## <font style=\"color:rgb(50, 120, 229);\"> 4. Crear el modelo </font>\n",
    "\n",
    "Crea un modelo de clasificación que permita diferenciar entre frutas frescas y frutas podridas.\n",
    "\n",
    "**Se recomienda utilizar un modelo pre-entrenado.**"
   ]
  },
  {
   "cell_type": "code",
   "execution_count": null,
   "metadata": {},
   "outputs": [],
   "source": []
  },
  {
   "cell_type": "markdown",
   "metadata": {},
   "source": [
    "## <font style=\"color:rgb(50, 120, 229);\"> 5. Entrenar el modelo </font>\n",
    "\n",
    "Entrena el modelo utilizando el dataset de entrenamiento y valida el modelo utilizando el dataset de validación.\n",
    "\n",
    "Debes incluir lo siguiente:\n",
    "\n",
    "- El uso de `EarlyStopping` para evitar el sobreajuste.\n",
    "- El uso de `ModelCheckpoint` para guardar el mejor modelo.\n",
    "\n",
    "El modelo debe de guardarse con la extensión `.keras`. Para versiones anteriores de TensorFlow, el modelo se guarda con la extensión `.h5`."
   ]
  },
  {
   "cell_type": "code",
   "execution_count": null,
   "metadata": {},
   "outputs": [],
   "source": []
  },
  {
   "cell_type": "markdown",
   "metadata": {},
   "source": [
    "## <font style=\"color:rgb(50, 120, 229);\"> 6. Descargar el modelo </font>\n",
    "\n",
    "Descarga el modelo y guárdalo en tu computadora. Esto puede tardar unos minutos."
   ]
  },
  {
   "cell_type": "markdown",
   "metadata": {},
   "source": [
    "## <font style=\"color:rgb(50, 120, 229);\"> 7. Prueba el modelo </font>\n",
    "\n",
    "El siguiente código carga un grupo de imágenes de prueba y las clasifica utilizando el modelo que acabas de entrenar."
   ]
  },
  {
   "cell_type": "code",
   "execution_count": null,
   "metadata": {},
   "outputs": [],
   "source": [
    "uploaded = files.upload()\n",
    "\n",
    "files = [file for file in uploaded.keys()]\n",
    "print(\"Files uploaded:\", files)"
   ]
  },
  {
   "cell_type": "code",
   "execution_count": null,
   "metadata": {},
   "outputs": [],
   "source": [
    "from keras.models import load_model\n",
    "\n",
    "model = load_model('./best_model.keras') #Cargar el mejor modelo guardado"
   ]
  },
  {
   "cell_type": "code",
   "execution_count": null,
   "metadata": {},
   "outputs": [],
   "source": [
    "from PIL import Image\n",
    "import numpy as np\n",
    "\n",
    "plt.figure(figsize=(4, 4))\n",
    "\n",
    "for file in files:\n",
    "  image = Image.open(file)\n",
    "  image = image.resize((224, 224)) #Redimensionar la imagen a las dimensiones de entrada del modelo\n",
    "  image = np.array(image)\n",
    "  image = np.expand_dims(image, axis=0) # Agregar una dimensión extra para que sea un lote de un solo elemento\n",
    "\n",
    "  prediction = model.predict(image)\n",
    "  class_index = np.argmax(prediction)\n",
    "  class_name = train_dataset.class_names[class_index]\n",
    "\n",
    "  plt.imshow(image[0])\n",
    "  plt.title(f'Prediction: {class_name}')\n",
    "  plt.axis('off')\n",
    "  plt.show()"
   ]
  }
 ],
 "metadata": {
  "kernelspec": {
   "display_name": ".venv",
   "language": "python",
   "name": "python3"
  },
  "language_info": {
   "codemirror_mode": {
    "name": "ipython",
    "version": 3
   },
   "file_extension": ".py",
   "mimetype": "text/x-python",
   "name": "python",
   "nbconvert_exporter": "python",
   "pygments_lexer": "ipython3",
   "version": "3.11.9"
  }
 },
 "nbformat": 4,
 "nbformat_minor": 2
}
