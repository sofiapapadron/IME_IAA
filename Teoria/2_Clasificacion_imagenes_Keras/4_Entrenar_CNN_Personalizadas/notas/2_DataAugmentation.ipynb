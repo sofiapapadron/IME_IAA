{
 "cells": [
  {
   "cell_type": "markdown",
   "metadata": {},
   "source": [
    "# <font style=\"color:rgb(50, 120, 229);\"> Data Augmentation </font>"
   ]
  },
  {
   "cell_type": "markdown",
   "metadata": {},
   "source": [
    "En este cuaderno, aprenderemos cómo usar el Data Augmentation para mitigar el sobreajuste durante el entrenamiento.\n"
   ]
  },
  {
   "cell_type": "markdown",
   "metadata": {},
   "source": [
    "<font style=\"color:rgb(50, 120, 229);\"> Recordemos ¿por qué sucede el sobreajuste? </font>\n",
    "\n",
    "El sobreajuste es un problema común en el aprendizaje automático, donde un modelo se ajusta demasiado a los datos de entrenamiento y, por lo tanto, no puede generalizar bien a los datos de prueba. \n",
    "\n",
    "El sobreajuste ocurre cuando un modelo es demasiado complejo en relación con la cantidad de datos de entrenamiento disponibles. En otras palabras, el modelo memoriza los datos de entrenamiento en lugar de aprender patrones generales."
   ]
  },
  {
   "cell_type": "markdown",
   "metadata": {},
   "source": [
    "<font style=\"color:rgb(50, 120, 229);\"> ¿Qué es el Data Augmentation? </font>\n",
    "\n",
    "Una forma común de mitigar el sobreajuste es incrementando la cantidad de datos de entrenamiento.\n",
    "\n",
    "En el caso de tareas de visión por computadora, podríamos pensar en tomar más fotos de los objetos que queremos clasificar. Sin embargo, esto no siempre es posible.\n",
    "\n",
    "**Data Augmentation es una técnica que nos permite aumentar la cantidad de datos de entrenamiento sin necesidad de recolectar más datos.**\n",
    "\n",
    "Esta técnica consiste en aplicar transformaciones aleatorias a los datos de entrenamiento, como rotaciones, traslaciones, zoom, etc. De esta manera, el modelo ve diferentes versiones de los mismos datos de entrenamiento, lo que le permite generalizar mejor.\n",
    "\n",
    "<center>\n",
    "<figure>\n",
    "    <figcaption>Rotactión:</figcaption>\n",
    "  <img src=\"./images/rotacion.png\" alt=\"Data Augmentation\" style=\"width:1000px\">\n",
    "</figure>\n",
    "\n",
    "<figure>\n",
    "    <figcaption> Espejado:</figcaption>\n",
    "  <img src=\"./images/flip.png\" alt=\"Data Augmentation\" style=\"width:1000px\">\n",
    "</figure>\n",
    "\n",
    "<figure>\n",
    "    <figcaption>Zoom:</figcaption>\n",
    "  <img src=\"./images/zoom.png\" alt=\"Data Augmentation\" style=\"width:1000px\">\n",
    "</figure>\n",
    "</center>"
   ]
  },
  {
   "cell_type": "markdown",
   "metadata": {},
   "source": [
    "## <font style=\"color:rgb(50, 120, 229);\"> Data Augmentation en Keras </font>"
   ]
  },
  {
   "cell_type": "markdown",
   "metadata": {},
   "source": [
    "Keras proporciona diferentes capas de preprocesamiento de imágenes que se pueden usar para aplicar Data Augmentation.\n",
    "\n",
    "La lista completa de capas de preprocesamiento de imágenes se puede encontrar en la [documentación oficial de Keras](https://keras.io/api/layers/preprocessing_layers/image_augmentation/)."
   ]
  },
  {
   "cell_type": "markdown",
   "metadata": {},
   "source": [
    "Vamos a ver cómo usar algunas de estas capas en el siguiente ejemplo."
   ]
  },
  {
   "cell_type": "code",
   "execution_count": null,
   "metadata": {},
   "outputs": [],
   "source": [
    "#Función para visualizar los datos aumentados\n",
    "import matplotlib.pyplot as plt\n",
    "\n",
    "def plot_images(dataset, data_augmentation_pipeline, rows, cols):\n",
    "    for image_batch, _ in dataset.take(1):\n",
    "        plt.figure(figsize=(15, 8))\n",
    "\n",
    "        for i in range(rows * cols):\n",
    "            augmented_images = data_augmentation_pipeline(image_batch)\n",
    "\n",
    "            # Display just the first augmented image from the batch of augmented images.\n",
    "            plt.subplot(rows, cols, i + 1)\n",
    "            plt.imshow(augmented_images[0].numpy().astype(\"uint8\"))\n",
    "            plt.axis(\"off\")\n",
    "    plt.show()"
   ]
  },
  {
   "cell_type": "code",
   "execution_count": null,
   "metadata": {},
   "outputs": [],
   "source": [
    "from keras.utils import image_dataset_from_directory\n",
    "\n",
    "dataset = image_dataset_from_directory(\n",
    "    \"./data\",\n",
    "    labels=\"inferred\",\n",
    "    label_mode=\"categorical\",\n",
    "    batch_size=1,\n",
    "    image_size=(224, 224)\n",
    ")"
   ]
  },
  {
   "cell_type": "markdown",
   "metadata": {},
   "source": [
    "### <font style=\"color:rgb(50, 120, 229);\"> RandomFlip </font>\n",
    "\n",
    "La capa `RandomFlip` se puede usar para aplicar aleatoriamente el espejado horizontal o vertical a las imágenes.\n",
    "\n",
    "```python\n",
    "keras.layers.experimental.preprocessing.RandomFlip(mode=\"horizontal\")\n",
    "```\n",
    "\n",
    "**Parámetros:**\n",
    "\n",
    "- `mode`: Puede ser \"horizontal\" o \"vertical\" o \"horizontal_and_vertical\".\n",
    "  "
   ]
  },
  {
   "cell_type": "code",
   "execution_count": null,
   "metadata": {},
   "outputs": [],
   "source": [
    "from keras.layers import RandomFlip \n",
    "from keras.models import Sequential\n",
    "\n",
    "data_augmentation_pipeline = Sequential([\n",
    "    RandomFlip(\"horizontal_and_vertical\"),\n",
    "])\n",
    "\n",
    "plot_images(dataset, data_augmentation_pipeline, 3, 3)\n"
   ]
  },
  {
   "cell_type": "markdown",
   "metadata": {},
   "source": [
    "### <font style=\"color:rgb(50, 120, 229);\"> RandomRotation </font>\n",
    "\n",
    "La capa `RandomRotation` se puede usar para aplicar aleatoriamente rotaciones a las imágenes.\n",
    "\n",
    "```python\n",
    "from keras.layers import RandomRotation\n",
    "\n",
    "RandomRotation(\n",
    "    factor=0.15,\n",
    "    fill_mode=\"constant\",\n",
    "    interpolation=\"bilinear\",\n",
    "    fill_value=0.0,\n",
    ")\n",
    "```\n",
    "\n",
    "**Parámetros:**\n",
    "\n",
    "- `factor`: Un flotante entre 0 y 1 que representa una fracción de 2pi, es decir, 360 grados. Por ejemplo, un valor de 0.2 significa que las imágenes se rotarán aleatoriamente en el rango de $-0.2 * 2pi$ a $0.2 * 2pi$.\n",
    "\n",
    "    También puede pasar una tupla de dos flotantes, por ejemplo [a, b], donde la rotación será aleatoria en el rango $[-a * 2pi, b * 2pi]$.\n",
    "\n",
    "- `fill_mode`: Una cadena que especifica el modo de relleno. Puede ser \"constant\", \"reflect\", \"wrap\" o \"nearest\".\n",
    "- `interpolation`: Una cadena que especifica el modo de interpolación. Puede ser \"bilinear\" o \"nearest\".\n",
    "- `fill_value`: Un flotante que representa el valor de relleno si `fill_mode=\"constant\"`.\n",
    "- "
   ]
  },
  {
   "cell_type": "code",
   "execution_count": null,
   "metadata": {},
   "outputs": [],
   "source": [
    "from keras.layers import RandomRotation\n",
    "\n",
    "data_augmentation_pipeline = Sequential([\n",
    "    RandomRotation([-0.5, 0.5]),\n",
    "])\n",
    "\n",
    "plot_images(dataset, data_augmentation_pipeline, 5, 5)"
   ]
  },
  {
   "cell_type": "markdown",
   "metadata": {},
   "source": [
    "### <font style=\"color:rgb(50, 120, 229);\"> RandomZoom </font>\n",
    "\n",
    "La capa `RandomZoom` se puede usar para aplicar aleatoriamente zoom a las imágenes.\n",
    "\n",
    "```python\n",
    "from keras.layers import RandomZoom\n",
    "\n",
    "RandomZoom(\n",
    "    height_factor=0.2,\n",
    "    width_factor=0.2,\n",
    "    fill_mode=\"constant\",\n",
    "    interpolation=\"bilinear\",\n",
    "    fill_value=0.0,\n",
    ")\n",
    "```\n",
    "\n",
    "**Parámetros:**\n",
    "\n",
    "- `height_factor`: Un flotante que representa la fracción de zoom en la dirección vertical.\n",
    "- `width_factor`: Un flotante que representa la fracción de zoom en la dirección horizontal.\n",
    "- `fill_mode`: Una cadena que especifica el modo de relleno. Puede ser \"constant\", \"reflect\", \"wrap\" o \"nearest\".\n",
    "- `interpolation`: Una cadena que especifica el modo de interpolación. Puede ser \"bilinear\" o \"nearest\".\n",
    "- `fill_value`: Un flotante que representa el valor de relleno si `fill_mode=\"constant\"`.\n"
   ]
  },
  {
   "cell_type": "code",
   "execution_count": null,
   "metadata": {},
   "outputs": [],
   "source": [
    "from keras.layers import RandomZoom\n",
    "\n",
    "data_augmentation_pipeline = Sequential([\n",
    "    RandomZoom(\n",
    "        height_factor=(-0.5, 0.5),\n",
    "        width_factor=(-0.5, 0.5),\n",
    "        fill_mode=\"constant\",\n",
    "        fill_value=0.0\n",
    "    ),\n",
    "])\n",
    "\n",
    "plot_images(dataset, data_augmentation_pipeline, 5, 5)"
   ]
  },
  {
   "cell_type": "markdown",
   "metadata": {},
   "source": [
    "## <font style=\"color:red\"> Importante </font>\n",
    "\n",
    "**Debes elegir cuidadosamente las transformaciones que aplicas a tus datos.** Por ejemplo, si estás trabajando con letras, no tendría sentido aplicar rotaciones a las imágenes, ya que las letras no se ven igual si las rotas."
   ]
  }
 ],
 "metadata": {
  "kernelspec": {
   "display_name": "Python 3",
   "language": "python",
   "name": "python3"
  },
  "language_info": {
   "codemirror_mode": {
    "name": "ipython",
    "version": 3
   },
   "file_extension": ".py",
   "mimetype": "text/x-python",
   "name": "python",
   "nbconvert_exporter": "python",
   "pygments_lexer": "ipython3",
   "version": "3.10.11"
  }
 },
 "nbformat": 4,
 "nbformat_minor": 2
}
