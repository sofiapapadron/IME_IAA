{
 "cells": [
  {
   "cell_type": "markdown",
   "metadata": {},
   "source": [
    "# <font style=\"color:rgb(50, 120, 229);\"> Importar mis propias imágenes en Keras </font>"
   ]
  },
  {
   "cell_type": "markdown",
   "metadata": {},
   "source": [
    "Hasta ahora, hemos estado utilizando conjuntos de datos que pueden cargarse directamente desde los módulos de TensorFlow (por ejemplo, tf.keras.datasets). \n",
    "\n",
    "Esta es una forma muy conveniente de comenzar, pero en última instancia necesitarás aprender cómo usar tus propios datos o datos que descargues de varias fuentes en internet. \n",
    "\n",
    "Esto significa aprender sobre las utilidades en TensorFlow y Keras que pueden ayudarte a gestionar de manera eficiente conjuntos de datos locales que pueden estar en una variedad de formatos.\n"
   ]
  },
  {
   "cell_type": "markdown",
   "metadata": {},
   "source": [
    "Este cuaderno introducirá una clase de utilidad en Keras llamada **`image_dataset_from_directory()`** que proporciona mucha flexibilidad para manejar conjuntos de datos locales que residen en tu sistema de archivos. "
   ]
  },
  {
   "cell_type": "markdown",
   "metadata": {},
   "source": [
    "## <font style=\"color:rgb(50, 120, 229);\"> ¿Qué es `image_dataset_from_directory()`? </font>"
   ]
  },
  {
   "cell_type": "markdown",
   "metadata": {},
   "source": [
    "Keras cuenta con la función de utilidad [image_dataset_from_directory()](https://keras.io/api/data_loading/image/) que te permite configurar rápidamente un canal de datos que puede convertir automáticamente archivos de imagen en disco en lotes de tensores preprocesados.\n"
   ]
  },
  {
   "cell_type": "markdown",
   "metadata": {},
   "source": [
    "Llamar a **`image_dataset_from_directory(directory)`** primero enumerará los subdirectorios del directorio y asumirá que cada uno contiene imágenes de una de nuestras clases. \n",
    "\n",
    "Luego indexará los archivos de imagen en cada subdirectorio. Finalmente, creará y devolverá un objeto **`BatchDataset`** (que es una subclase de **`tf.data.Dataset`**), configurado para leer estos archivos, mezclarlos, decodificarlos a tensores, redimensionarlos a un tamaño compartido y agruparlos en lotes.\n"
   ]
  },
  {
   "cell_type": "markdown",
   "metadata": {},
   "source": [
    "```python\n",
    "from keras.utils import image_dataset_from_directory\n",
    "\n",
    "data = image_dataset_from_directory(\n",
    "    directory, \n",
    "    labels='inferred', \n",
    "    label_mode='int',\n",
    "    class_names=None, \n",
    "    color_mode='rgb', \n",
    "    batch_size=32, \n",
    "    image_size=(256, 256), \n",
    "    shuffle=True, \n",
    "    seed=None, \n",
    "    validation_split=None, \n",
    "    subset=None,\n",
    "    interpolation='bilinear', \n",
    "    follow_links=False,\n",
    "    crop_to_aspect_ratio=False, **kwargs\n",
    ")\n",
    "```"
   ]
  },
  {
   "cell_type": "markdown",
   "metadata": {},
   "source": [
    "**Parámetros:**\n",
    "\n",
    "- **`directory`**: Ruta al directorio que contiene subdirectorios de imágenes. Cada subdirectorio, en su lugar, contiene imágenes de una clase específica, por ejemplo:\n",
    "  \n",
    "    ```bash\n",
    "    |-- directory/\n",
    "        |-- class_a/\n",
    "            |-- 1.jpg\n",
    "            |-- 2.jpg\n",
    "        |-- class_b/\n",
    "            |-- 3.jpg\n",
    "            |-- 4.jpg\n",
    "    ```\n",
    "\n",
    "- **`labels`**: Forma en que se etiquetan los datos. Puede ser \"inferred\" (inferido) para inferir las etiquetas de los subdirectorios, \"explicit\" (explícito) para leer las etiquetas de los subdirectorios, o una lista de etiquetas.\n",
    "- **`label_mode`**: Forma en que se devuelven las etiquetas. Puede ser \"int\" (entero) o \"categorical\" (categórico).\n",
    "- **`class_names`**: Lista opcional de nombres de clases (por ejemplo, ['dogs', 'cats']). Si no se proporciona, se inferirán automáticamente a partir de los nombres de los subdirectorios.\n",
    "- **`color_mode`**: Si se establece en \"grayscale\" (escala de grises), las imágenes se convertirán a una sola cadena de canales. Si se establece en \"rgb\", las imágenes se convertirán a tres canales de color.\n",
    "- **`batch_size`**: Tamaño de los lotes de datos (por defecto 32).\n",
    "- **`image_size`**: Tamaño de las imágenes de salida después de redimensionarlas.\n",
    "- **`shuffle`**: Booleano, si se deben mezclar los datos.\n",
    "- **`seed`**: Semilla aleatoria para mezclar y transformar.\n",
    "- **`validation_split`**: Flotante entre 0 y 1 que indica la proporción de datos a reservar para la validación.\n",
    "- **`subset`**: Una de \"training\" o \"validation\". Solo se devolverán imágenes de este subconjunto.\n",
    "- **`interpolation`**: Método de interpolación utilizado para redimensionar las imágenes. Puede ser \"bilinear\", \"nearest\", \"bicubic\", o \"area\".\n",
    "- **`follow_links`**: Si se deben seguir los enlaces simbólicos al recorrer el directorio.\n",
    "- **`crop_to_aspect_ratio`**: Si se debe recortar la imagen para que tenga el mismo aspecto que el tamaño de la imagen solicitado.\n"
   ]
  },
  {
   "cell_type": "markdown",
   "metadata": {},
   "source": [
    "<font style=\"color:rgb(50, 120, 229);\"> **Mostrar algunas imágenes de ejemplo** </font>\n",
    "\n",
    "```python\n",
    "import matplotlib.pyplot as plt\n",
    "\n",
    "plt.figure(figsize=(10, 10))\n",
    "\n",
    "images, labels = data.take(1) #Tomar un lote de imágenes\n",
    "\n",
    "# Mostrar la primera imagen y su etiqueta\n",
    "img = images[0]\n",
    "label = labels[0]\n",
    "\n",
    "plt.imshow(img.numpy().astype(\"uint8\"))\n",
    "plt.title(label.numpy())\n",
    "plt.axis(\"off\")\n",
    "\n",
    "plt.show()\n",
    "```"
   ]
  }
 ],
 "metadata": {
  "language_info": {
   "name": "python"
  }
 },
 "nbformat": 4,
 "nbformat_minor": 2
}
