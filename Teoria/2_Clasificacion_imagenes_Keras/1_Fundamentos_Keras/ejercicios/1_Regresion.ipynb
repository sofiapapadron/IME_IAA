{
 "cells": [
  {
   "cell_type": "markdown",
   "metadata": {},
   "source": [
    "# <font style=\"color: rgb(50, 120, 229)\"> Regresión Lineal en Keras </font>"
   ]
  },
  {
   "cell_type": "markdown",
   "metadata": {},
   "source": [
    "En este cuaderno vamos a implementar dos modelos de regresión lineal en Keras."
   ]
  },
  {
   "cell_type": "code",
   "execution_count": 1,
   "metadata": {},
   "outputs": [
    {
     "name": "stderr",
     "output_type": "stream",
     "text": [
      "Matplotlib is building the font cache; this may take a moment.\n"
     ]
    }
   ],
   "source": [
    "import numpy as np\n",
    "from matplotlib import pyplot as plt\n",
    "\n",
    "plt.style.use('ggplot')\n",
    "plt.rcParams[\"figure.figsize\"] = (12, 6)\n",
    "plt.rcParams['axes.titlesize'] = 18\n",
    "plt.rcParams['axes.labelsize'] = 16"
   ]
  },
  {
   "cell_type": "markdown",
   "metadata": {},
   "source": [
    "<font style=\"color: rgb(50, 120, 229)\"> **Definir los parámetros** </font>\n",
    "\n",
    "Durante el curso vamos a configurar muchos parámetros para los modelos de aprendizaje automático.\n",
    "\n",
    "Para facilitar la configuración de los modelos, vamos a definir en la siguiente celda los parámetros que vamos a utilizar en este cuaderno."
   ]
  },
  {
   "cell_type": "code",
   "execution_count": 3,
   "metadata": {},
   "outputs": [],
   "source": [
    "EPOCHS = 50\n",
    "DATA_PATH = \"./data/regression_data.npy\"\n",
    "INPUT_SHAPE = (1, )"
   ]
  },
  {
   "cell_type": "markdown",
   "metadata": {},
   "source": [
    "En la celda anterior definimos dos clases:\n",
    "\n",
    "- **DatasetConfig**: Contiene los parámetros relacionados con el dataset, como el número de clases, la ruta del dataset, el tamaño de los datos de entrada, etc.\n",
    "- **TrainConfig**: Contiene los parámetros relacionados con el entrenamiento, como el tamaño del batch, el número de épocas, el tamaño del conjunto de validación, etc.\n",
    "\n",
    "Se entenderá el propósito de cada parámetro a medida que avancemos en el curso."
   ]
  },
  {
   "cell_type": "markdown",
   "metadata": {},
   "source": [
    "## <font style=\"color: rgb(50, 120, 229)\"> Cargar el conjunto de datos </font>"
   ]
  },
  {
   "cell_type": "markdown",
   "metadata": {},
   "source": [
    "Los datos datos que vamos a utilizar se generaron utilizando TensorFlow y fueron guardados en un archivo NumPy."
   ]
  },
  {
   "cell_type": "code",
   "execution_count": 4,
   "metadata": {},
   "outputs": [
    {
     "data": {
      "image/png": "[encoded data removed]",
      "text/plain": [
       "<Figure size 1200x600 with 1 Axes>"
      ]
     },
     "metadata": {},
     "output_type": "display_data"
    }
   ],
   "source": [
    "data = np.load(DATA_PATH)\n",
    "\n",
    "X = data[:, 0]\n",
    "Y = data[:, 1]\n",
    "\n",
    "#Graficar los datos\n",
    "plt.scatter(X, Y)\n",
    "plt.title(\"Datos de regresión\")\n",
    "plt.xlabel(\"X\")\n",
    "plt.ylabel(\"Y\")\n",
    "plt.show()"
   ]
  },
  {
   "cell_type": "markdown",
   "metadata": {},
   "source": [
    "## <font style=\"color: rgb(50, 120, 229)\"> Modelo 1: Regresión Lineal sin bias </font>"
   ]
  },
  {
   "cell_type": "markdown",
   "metadata": {},
   "source": [
    "### <font style=\"color: rgb(50, 120, 229)\"> 1.1 Entendiendo el modelo matemático </font>"
   ]
  },
  {
   "cell_type": "markdown",
   "metadata": {},
   "source": [
    "Crearemos un modelo lineal simple con un parámetro (la pendiente) para modelar una línea recta que pase por el origen.\n",
    "\n",
    "**El objetivo es predecir $y$ dada algún valor de $x$.**\n",
    "\n",
    "Para hacer esto, ajustaremos una línea que pase por los puntos de datos $(x_i, y_i)$. La ecuación para tal línea es:\n",
    "\n",
    "$$\n",
    "y = mx + b\n",
    "$$\n",
    "\n",
    "Tenemos un conjunto de puntos de datos $(x_i, y_i)$, y todos deberían satisfacer la ecuación anterior. Por lo tanto,\n",
    "\n",
    "$$\n",
    "y_i = m x_i + b\n",
    "$$\n",
    "\n",
    "El modelo tiene dos parámetros: $m$ y $b$. Nuestro objetivo es encontrar los valores de $m$ y $b$ que minimicen el error cuadrático medio (MSE) entre las predicciones del modelo y los valores reales de $y$.\n"
   ]
  },
  {
   "cell_type": "markdown",
   "metadata": {},
   "source": [
    "### <font style=\"color: rgb(50, 120, 229)\"> 1.2 Implementación en Keras </font>"
   ]
  },
  {
   "cell_type": "markdown",
   "metadata": {},
   "source": [
    "Restringimos el modelo a una línea recta que pasa por el origen.\n",
    "\n",
    "El diagrama de red a continuación representa la red neuronal más simple posible.\n",
    "\n",
    "<center>\n",
    "    <img src=\"./images/linear_regression_wx_b.webp\" width=800>\n",
    "</center>\n",
    "\n",
    "- Tiene una capa de entrada que consiste en una única característica. Técnicamente, la capa de entrada no se cuenta como una capa ya que no hay parámetros entrenables asociados con ella.\n",
    "\n",
    "- La red tiene solo una capa que consiste en una solo neurona. **La capa única ES la capa de salida.**\n",
    "\n",
    "- La neurona tiene una función de activación lineal que simplemente multiplica la característica de entrada $x$ por el peso $w$ y suma el sesgo $b$.\n",
    "\n",
    "- Para cada muestra de entrenamiento, la salida predicha $y'$ se compara con el valor real de los datos de entrenamiento, y se calcula la pérdida. Esto nos permite calcular el gradiente con respecto a $w$ y actualizar el peso (pendiente) según una tasa de aprendizaje de entrada.\n",
    "\n",
    "Todos estos detalles son manejados por Keras una vez que definimos el modelo de red y llamamos a una función para entrenar la red.\n"
   ]
  },
  {
   "cell_type": "markdown",
   "metadata": {},
   "source": [
    "### <font style=\"color: rgb(50, 120, 229)\"> 1.3 Entendiendo el flujo de trabajo </font>\n",
    "\n",
    "Los siguientes pasos resumen el flujo de trabajo en Keras:\n",
    "\n",
    "1. Construir/Definir un modelo de red utilizando ya sea la API Secuencial o la API Funcional en Keras.\n",
    "2. Compilar el modelo con `model.compile()`\n",
    "3. Entrenar el modelo con `model.fit()`\n",
    "4. Predecir la salida `model.predict()`\n",
    "\n",
    "\n",
    "<center>\n",
    "    <img src=\"./images/keras_workflow_basic.webp\" width=800>\n",
    "</center>"
   ]
  },
  {
   "cell_type": "markdown",
   "metadata": {},
   "source": [
    "#### <font style=\"color: rgb(50, 120, 229)\"> **Creamos el modelo de regresión lineal en Keras.** </font>"
   ]
  },
  {
   "cell_type": "code",
   "execution_count": 5,
   "metadata": {},
   "outputs": [],
   "source": [
    "#TODO: Crea un modelo sequencial de Keras"
   ]
  },
  {
   "cell_type": "code",
   "execution_count": null,
   "metadata": {},
   "outputs": [],
   "source": [
    "#TODO: Agrega una capa de entrada con el número de dimensiones correcto"
   ]
  },
  {
   "cell_type": "code",
   "execution_count": null,
   "metadata": {},
   "outputs": [],
   "source": [
    "#TODO: Agrega una capa densa con una sola neurona y la función de activación debe ser lineal (None)"
   ]
  },
  {
   "cell_type": "code",
   "execution_count": null,
   "metadata": {},
   "outputs": [],
   "source": [
    "#TODO: Imprime un resumen del modelo (summary)"
   ]
  },
  {
   "cell_type": "markdown",
   "metadata": {},
   "source": [
    "#### <font style=\"color: rgb(50, 120, 229)\"> **Compilamos el modelo.** </font>\n",
    "\n",
    "Compilar el modelo requiere que especifiques el tipo de función de pérdida (en este caso, el error cuadrático medio: 'mse') y también especificar el tipo específico de optimizador a utilizar.\n"
   ]
  },
  {
   "cell_type": "code",
   "execution_count": null,
   "metadata": {},
   "outputs": [],
   "source": [
    "#TODO: Compila el modelo con el optimizador SGD (sgd) y la función de pérdida de error cuadrático medio (mse)\n",
    "\n",
    "#Ambos valores se pasan como cadenas de texto"
   ]
  },
  {
   "cell_type": "markdown",
   "metadata": {},
   "source": [
    "#### <font style=\"color: rgb(50, 120, 229)\"> **Entrenamos el modelo.** </font>\n",
    "\n",
    "Una vez que el modelo está compilado, podemos llamar al método `fit` para entrenar el modelo. \n",
    "\n",
    "Los argumentos requeridos incluyen los datos de entrenamiento y el número de épocas para entrenar. \n",
    "\n",
    "El método `fit` devuelve un objeto `history` que podemos usar para acceder a la pérdida de cada época.\n"
   ]
  },
  {
   "cell_type": "code",
   "execution_count": null,
   "metadata": {},
   "outputs": [],
   "source": [
    "#TODO: Entrena el modelo con los datos de entrada y salida por 50 épocas. Guarda el historial del entrenamiento en la variable history"
   ]
  },
  {
   "cell_type": "code",
   "execution_count": null,
   "metadata": {},
   "outputs": [],
   "source": [
    "#Graficar el error cuadrático medio\n",
    "history_dict = history.history\n",
    "loss_values = history_dict[\"loss\"]\n",
    "epochs = range(1, len(loss_values) + 1)\n",
    "\n",
    "plt.figure(figsize=[15, 5])\n",
    "plt.plot(epochs, loss_values, \"orange\", label=\"Training loss\")\n",
    "plt.title(\"Training and validation loss\")\n",
    "plt.xlabel(\"Epochs\")\n",
    "plt.ylabel(\"Loss\")\n",
    "plt.legend()\n",
    "plt.show()"
   ]
  },
  {
   "cell_type": "markdown",
   "metadata": {},
   "source": [
    "#### <font style=\"color: rgb(50, 120, 229)\"> **Hacemos predicciones.** </font>\n",
    "\n",
    "Después de que el modelo haya sido entrenado, podemos acceder a los parámetros entrenados directamente desde el objeto `model`."
   ]
  },
  {
   "cell_type": "code",
   "execution_count": null,
   "metadata": {},
   "outputs": [],
   "source": [
    "slope = model.layers[0].weights[0]\n",
    "print('Pendiente: ', slope[0].numpy())"
   ]
  },
  {
   "cell_type": "markdown",
   "metadata": {},
   "source": [
    "En la práctica no solemos acceder a los pesos directamente, sino que usamos el método `predict` para hacer predicciones en nuevos datos.\n",
    "\n",
    "Este metodo toma un `tensor` de entrada y devuelve un tensor de salida."
   ]
  },
  {
   "cell_type": "code",
   "execution_count": null,
   "metadata": {},
   "outputs": [],
   "source": [
    "pred_y = model.predict(X)"
   ]
  },
  {
   "cell_type": "code",
   "execution_count": null,
   "metadata": {},
   "outputs": [],
   "source": [
    "plt.plot(X, Y, 'b.')\n",
    "plt.plot(X, pred_y, 'c-') \n",
    "plt.text(1, 7.0, 'Slope = ' + str(slope[0].numpy()), fontsize=14, family=\"Consolas\")\n",
    "plt.xlim(0, 10)\n",
    "plt.ylim(0, 10)\n",
    "plt.show()"
   ]
  },
  {
   "cell_type": "markdown",
   "metadata": {},
   "source": [
    "## <font style=\"color: rgb(50, 120, 229)\"> Preguntas de comprensión </font>\n",
    "\n",
    "1. ¿Qué es la regresión lineal?\n",
    "2. ¿Cuántas neuronas en su capa de salida tiene un modelo de regresión lineal simple?\n",
    "3. ¿Qué función de activación se utiliza en la capa de salida de un modelo de regresión lineal?\n",
    "4. ¿En qué consiste la compilación de un modelo en Keras?\n",
    "5. ¿Qué función de pérdida se utiliza comúnmente en un modelo de regresión lineal?\n",
    "6. ¿Qué devuelve el método `fit` en Keras?"
   ]
  }
 ],
 "metadata": {
  "kernelspec": {
   "display_name": ".venv",
   "language": "python",
   "name": "python3"
  },
  "language_info": {
   "codemirror_mode": {
    "name": "ipython",
    "version": 3
   },
   "file_extension": ".py",
   "mimetype": "text/x-python",
   "name": "python",
   "nbconvert_exporter": "python",
   "pygments_lexer": "ipython3",
   "version": "3.10.11"
  }
 },
 "nbformat": 4,
 "nbformat_minor": 2
}
