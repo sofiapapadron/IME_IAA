{
  "cells": [
    {
      "cell_type": "markdown",
      "metadata": {
        "id": "qNmFY4gh7W_1"
      },
      "source": [
        "# <font style=\"color: rgb(50, 120, 229)\"> Regresión Lineal en Keras </font>"
      ]
    },
    {
      "cell_type": "markdown",
      "metadata": {
        "id": "gYX7eGBv7W_3"
      },
      "source": [
        "En este cuaderno vamos a implementar dos modelos de regresión lineal en Keras."
      ]
    },
    {
      "cell_type": "code",
      "execution_count": 1,
      "metadata": {
        "id": "4-W5-9LZ7W_4"
      },
      "outputs": [],
      "source": [
        "import numpy as np\n",
        "from matplotlib import pyplot as plt\n",
        "\n",
        "plt.style.use('ggplot')\n",
        "plt.rcParams[\"figure.figsize\"] = (12, 6)\n",
        "plt.rcParams['axes.titlesize'] = 18\n",
        "plt.rcParams['axes.labelsize'] = 16"
      ]
    },
    {
      "cell_type": "markdown",
      "metadata": {
        "id": "qRk95qD17W_5"
      },
      "source": [
        "<font style=\"color: rgb(50, 120, 229)\"> **Definir los parámetros** </font>\n",
        "\n",
        "Durante el curso vamos a configurar muchos parámetros para los modelos de aprendizaje automático.\n",
        "\n",
        "Para facilitar la configuración de los modelos, vamos a definir en la siguiente celda los parámetros que vamos a utilizar en este cuaderno."
      ]
    },
    {
      "cell_type": "code",
      "execution_count": 2,
      "metadata": {
        "id": "7ZV5LlQv7W_5"
      },
      "outputs": [],
      "source": [
        "EPOCHS = 50\n",
        "DATA_PATH = \"./data/regression_data.npy\"\n",
        "INPUT_SHAPE = (1, )"
      ]
    },
    {
      "cell_type": "markdown",
      "metadata": {
        "id": "KYhoAYsI7W_5"
      },
      "source": [
        "En la celda anterior definimos dos clases:\n",
        "\n",
        "- **DatasetConfig**: Contiene los parámetros relacionados con el dataset, como el número de clases, la ruta del dataset, el tamaño de los datos de entrada, etc.\n",
        "- **TrainConfig**: Contiene los parámetros relacionados con el entrenamiento, como el tamaño del batch, el número de épocas, el tamaño del conjunto de validación, etc.\n",
        "\n",
        "Se entenderá el propósito de cada parámetro a medida que avancemos en el curso."
      ]
    },
    {
      "cell_type": "markdown",
      "metadata": {
        "id": "_Vw5hIMI7W_6"
      },
      "source": [
        "## <font style=\"color: rgb(50, 120, 229)\"> Cargar el conjunto de datos </font>"
      ]
    },
    {
      "cell_type": "markdown",
      "metadata": {
        "id": "c_kG3Mzg7W_6"
      },
      "source": [
        "Los datos datos que vamos a utilizar se generaron utilizando TensorFlow y fueron guardados en un archivo NumPy."
      ]
    },
    {
      "cell_type": "code",
      "execution_count": 3,
      "metadata": {
        "id": "eEi22mxt7W_6",
        "outputId": "f6a4e941-caf8-46d6-d7c0-a83a9c95eb87",
        "colab": {
          "base_uri": "https://localhost:8080/",
          "height": 577
        }
      },
      "outputs": [
        {
          "output_type": "display_data",
          "data": {
            "text/plain": [
              "<Figure size 1200x600 with 1 Axes>"
            ],
            "image/png": "[encoded data removed]"
          },
          "metadata": {}
        }
      ],
      "source": [
        "data = np.load(DATA_PATH)\n",
        "\n",
        "X = data[:, 0]\n",
        "Y = data[:, 1]\n",
        "\n",
        "#Graficar los datos\n",
        "plt.scatter(X, Y)\n",
        "plt.title(\"Datos de regresión\")\n",
        "plt.xlabel(\"X\")\n",
        "plt.ylabel(\"Y\")\n",
        "plt.show()"
      ]
    },
    {
      "cell_type": "markdown",
      "metadata": {
        "id": "e-ZqAY9P7W_6"
      },
      "source": [
        "## <font style=\"color: rgb(50, 120, 229)\"> Modelo 1: Regresión Lineal sin bias </font>"
      ]
    },
    {
      "cell_type": "markdown",
      "metadata": {
        "id": "RU5b-7oW7W_6"
      },
      "source": [
        "### <font style=\"color: rgb(50, 120, 229)\"> 1.1 Entendiendo el modelo matemático </font>"
      ]
    },
    {
      "cell_type": "markdown",
      "metadata": {
        "id": "-zFXhQGV7W_6"
      },
      "source": [
        "Crearemos un modelo lineal simple con un parámetro (la pendiente) para modelar una línea recta que pase por el origen.\n",
        "\n",
        "**El objetivo es predecir $y$ dada algún valor de $x$.**\n",
        "\n",
        "Para hacer esto, ajustaremos una línea que pase por los puntos de datos $(x_i, y_i)$. La ecuación para tal línea es:\n",
        "\n",
        "$$\n",
        "y = mx + b\n",
        "$$\n",
        "\n",
        "Tenemos un conjunto de puntos de datos $(x_i, y_i)$, y todos deberían satisfacer la ecuación anterior. Por lo tanto,\n",
        "\n",
        "$$\n",
        "y_i = m x_i + b\n",
        "$$\n",
        "\n",
        "El modelo tiene dos parámetros: $m$ y $b$. Nuestro objetivo es encontrar los valores de $m$ y $b$ que minimicen el error cuadrático medio (MSE) entre las predicciones del modelo y los valores reales de $y$.\n"
      ]
    },
    {
      "cell_type": "markdown",
      "metadata": {
        "id": "yzTFfZMp7W_6"
      },
      "source": [
        "### <font style=\"color: rgb(50, 120, 229)\"> 1.2 Implementación en Keras </font>"
      ]
    },
    {
      "cell_type": "markdown",
      "metadata": {
        "id": "m71tclJp7W_7"
      },
      "source": [
        "Restringimos el modelo a una línea recta que pasa por el origen.\n",
        "\n",
        "El diagrama de red a continuación representa la red neuronal más simple posible.\n",
        "\n",
        "<center>\n",
        "    <img src=\"https://github.com/sofiapapadron/IME_IAA/blob/main/Teoria/2_Clasificacion_imagenes_Keras/1_Fundamentos_Keras/ejercicios/images/linear_regression_wx_b.webp?raw=1\" width=800>\n",
        "</center>\n",
        "\n",
        "- Tiene una capa de entrada que consiste en una única característica. Técnicamente, la capa de entrada no se cuenta como una capa ya que no hay parámetros entrenables asociados con ella.\n",
        "\n",
        "- La red tiene solo una capa que consiste en una solo neurona. **La capa única ES la capa de salida.**\n",
        "\n",
        "- La neurona tiene una función de activación lineal que simplemente multiplica la característica de entrada $x$ por el peso $w$ y suma el sesgo $b$.\n",
        "\n",
        "- Para cada muestra de entrenamiento, la salida predicha $y'$ se compara con el valor real de los datos de entrenamiento, y se calcula la pérdida. Esto nos permite calcular el gradiente con respecto a $w$ y actualizar el peso (pendiente) según una tasa de aprendizaje de entrada.\n",
        "\n",
        "Todos estos detalles son manejados por Keras una vez que definimos el modelo de red y llamamos a una función para entrenar la red.\n"
      ]
    },
    {
      "cell_type": "markdown",
      "metadata": {
        "id": "pD_W77ry7W_7"
      },
      "source": [
        "### <font style=\"color: rgb(50, 120, 229)\"> 1.3 Entendiendo el flujo de trabajo </font>\n",
        "\n",
        "Los siguientes pasos resumen el flujo de trabajo en Keras:\n",
        "\n",
        "1. Construir/Definir un modelo de red utilizando ya sea la API Secuencial o la API Funcional en Keras.\n",
        "2. Compilar el modelo con `model.compile()`\n",
        "3. Entrenar el modelo con `model.fit()`\n",
        "4. Predecir la salida `model.predict()`\n",
        "\n",
        "\n",
        "<center>\n",
        "    <img src=\"https://github.com/sofiapapadron/IME_IAA/blob/main/Teoria/2_Clasificacion_imagenes_Keras/1_Fundamentos_Keras/ejercicios/images/keras_workflow_basic.webp?raw=1\" width=800>\n",
        "</center>"
      ]
    },
    {
      "cell_type": "markdown",
      "metadata": {
        "id": "_MubrfRt7W_7"
      },
      "source": [
        "#### <font style=\"color: rgb(50, 120, 229)\"> **Creamos el modelo de regresión lineal en Keras.** </font>"
      ]
    },
    {
      "cell_type": "code",
      "execution_count": 5,
      "metadata": {
        "id": "knr-zU6F7W_7"
      },
      "outputs": [],
      "source": [
        "#TODO: Crea un modelo sequencial de Keras\n",
        "import tensorflow as tf\n",
        "from tensorflow.keras.models import Sequential\n",
        "from tensorflow.keras.layers import Dense\n",
        "\n",
        "model = Sequential()"
      ]
    },
    {
      "cell_type": "code",
      "execution_count": 6,
      "metadata": {
        "id": "IRP1hdfw7W_7",
        "outputId": "ce3aeaf2-5314-4ba4-d988-3b2e1bb7b214",
        "colab": {
          "base_uri": "https://localhost:8080/"
        }
      },
      "outputs": [
        {
          "output_type": "stream",
          "name": "stderr",
          "text": [
            "/usr/local/lib/python3.10/dist-packages/keras/src/layers/core/dense.py:87: UserWarning: Do not pass an `input_shape`/`input_dim` argument to a layer. When using Sequential models, prefer using an `Input(shape)` object as the first layer in the model instead.\n",
            "  super().__init__(activity_regularizer=activity_regularizer, **kwargs)\n"
          ]
        }
      ],
      "source": [
        "#TODO: Agrega una capa de entrada con el número de dimensiones correcto\n",
        "model.add(Dense(1, input_shape=INPUT_SHAPE))"
      ]
    },
    {
      "cell_type": "code",
      "execution_count": 7,
      "metadata": {
        "id": "RUqaX35B7W_7"
      },
      "outputs": [],
      "source": [
        "#TODO: Agrega una capa densa con una sola neurona y la función de activación debe ser lineal (None)\n",
        "model.add(Dense(1, activation=None))"
      ]
    },
    {
      "cell_type": "code",
      "execution_count": 8,
      "metadata": {
        "id": "6OxexLLf7W_7",
        "outputId": "b44e5399-c18f-437b-8e50-4ba0d37d0d48",
        "colab": {
          "base_uri": "https://localhost:8080/",
          "height": 196
        }
      },
      "outputs": [
        {
          "output_type": "display_data",
          "data": {
            "text/plain": [
              "\u001b[1mModel: \"sequential\"\u001b[0m\n"
            ],
            "text/html": [
              "<pre style=\"white-space:pre;overflow-x:auto;line-height:normal;font-family:Menlo,'DejaVu Sans Mono',consolas,'Courier New',monospace\"><span style=\"font-weight: bold\">Model: \"sequential\"</span>\n",
              "</pre>\n"
            ]
          },
          "metadata": {}
        },
        {
          "output_type": "display_data",
          "data": {
            "text/plain": [
              "┏━━━━━━━━━━━━━━━━━━━━━━━━━━━━━━━━━━━━━━┳━━━━━━━━━━━━━━━━━━━━━━━━━━━━━┳━━━━━━━━━━━━━━━━━┓\n",
              "┃\u001b[1m \u001b[0m\u001b[1mLayer (type)                        \u001b[0m\u001b[1m \u001b[0m┃\u001b[1m \u001b[0m\u001b[1mOutput Shape               \u001b[0m\u001b[1m \u001b[0m┃\u001b[1m \u001b[0m\u001b[1m        Param #\u001b[0m\u001b[1m \u001b[0m┃\n",
              "┡━━━━━━━━━━━━━━━━━━━━━━━━━━━━━━━━━━━━━━╇━━━━━━━━━━━━━━━━━━━━━━━━━━━━━╇━━━━━━━━━━━━━━━━━┩\n",
              "│ dense (\u001b[38;5;33mDense\u001b[0m)                        │ (\u001b[38;5;45mNone\u001b[0m, \u001b[38;5;34m1\u001b[0m)                   │               \u001b[38;5;34m2\u001b[0m │\n",
              "├──────────────────────────────────────┼─────────────────────────────┼─────────────────┤\n",
              "│ dense_1 (\u001b[38;5;33mDense\u001b[0m)                      │ (\u001b[38;5;45mNone\u001b[0m, \u001b[38;5;34m1\u001b[0m)                   │               \u001b[38;5;34m2\u001b[0m │\n",
              "└──────────────────────────────────────┴─────────────────────────────┴─────────────────┘\n"
            ],
            "text/html": [
              "<pre style=\"white-space:pre;overflow-x:auto;line-height:normal;font-family:Menlo,'DejaVu Sans Mono',consolas,'Courier New',monospace\">┏━━━━━━━━━━━━━━━━━━━━━━━━━━━━━━━━━━━━━━┳━━━━━━━━━━━━━━━━━━━━━━━━━━━━━┳━━━━━━━━━━━━━━━━━┓\n",
              "┃<span style=\"font-weight: bold\"> Layer (type)                         </span>┃<span style=\"font-weight: bold\"> Output Shape                </span>┃<span style=\"font-weight: bold\">         Param # </span>┃\n",
              "┡━━━━━━━━━━━━━━━━━━━━━━━━━━━━━━━━━━━━━━╇━━━━━━━━━━━━━━━━━━━━━━━━━━━━━╇━━━━━━━━━━━━━━━━━┩\n",
              "│ dense (<span style=\"color: #0087ff; text-decoration-color: #0087ff\">Dense</span>)                        │ (<span style=\"color: #00d7ff; text-decoration-color: #00d7ff\">None</span>, <span style=\"color: #00af00; text-decoration-color: #00af00\">1</span>)                   │               <span style=\"color: #00af00; text-decoration-color: #00af00\">2</span> │\n",
              "├──────────────────────────────────────┼─────────────────────────────┼─────────────────┤\n",
              "│ dense_1 (<span style=\"color: #0087ff; text-decoration-color: #0087ff\">Dense</span>)                      │ (<span style=\"color: #00d7ff; text-decoration-color: #00d7ff\">None</span>, <span style=\"color: #00af00; text-decoration-color: #00af00\">1</span>)                   │               <span style=\"color: #00af00; text-decoration-color: #00af00\">2</span> │\n",
              "└──────────────────────────────────────┴─────────────────────────────┴─────────────────┘\n",
              "</pre>\n"
            ]
          },
          "metadata": {}
        },
        {
          "output_type": "display_data",
          "data": {
            "text/plain": [
              "\u001b[1m Total params: \u001b[0m\u001b[38;5;34m4\u001b[0m (16.00 B)\n"
            ],
            "text/html": [
              "<pre style=\"white-space:pre;overflow-x:auto;line-height:normal;font-family:Menlo,'DejaVu Sans Mono',consolas,'Courier New',monospace\"><span style=\"font-weight: bold\"> Total params: </span><span style=\"color: #00af00; text-decoration-color: #00af00\">4</span> (16.00 B)\n",
              "</pre>\n"
            ]
          },
          "metadata": {}
        },
        {
          "output_type": "display_data",
          "data": {
            "text/plain": [
              "\u001b[1m Trainable params: \u001b[0m\u001b[38;5;34m4\u001b[0m (16.00 B)\n"
            ],
            "text/html": [
              "<pre style=\"white-space:pre;overflow-x:auto;line-height:normal;font-family:Menlo,'DejaVu Sans Mono',consolas,'Courier New',monospace\"><span style=\"font-weight: bold\"> Trainable params: </span><span style=\"color: #00af00; text-decoration-color: #00af00\">4</span> (16.00 B)\n",
              "</pre>\n"
            ]
          },
          "metadata": {}
        },
        {
          "output_type": "display_data",
          "data": {
            "text/plain": [
              "\u001b[1m Non-trainable params: \u001b[0m\u001b[38;5;34m0\u001b[0m (0.00 B)\n"
            ],
            "text/html": [
              "<pre style=\"white-space:pre;overflow-x:auto;line-height:normal;font-family:Menlo,'DejaVu Sans Mono',consolas,'Courier New',monospace\"><span style=\"font-weight: bold\"> Non-trainable params: </span><span style=\"color: #00af00; text-decoration-color: #00af00\">0</span> (0.00 B)\n",
              "</pre>\n"
            ]
          },
          "metadata": {}
        }
      ],
      "source": [
        "#TODO: Imprime un resumen del modelo (summary)\n",
        "model.summary()"
      ]
    },
    {
      "cell_type": "markdown",
      "metadata": {
        "id": "kiQNuLjq7W_7"
      },
      "source": [
        "#### <font style=\"color: rgb(50, 120, 229)\"> **Compilamos el modelo.** </font>\n",
        "\n",
        "Compilar el modelo requiere que especifiques el tipo de función de pérdida (en este caso, el error cuadrático medio: 'mse') y también especificar el tipo específico de optimizador a utilizar.\n"
      ]
    },
    {
      "cell_type": "code",
      "execution_count": 9,
      "metadata": {
        "id": "ys1cNRPC7W_8"
      },
      "outputs": [],
      "source": [
        "#TODO: Compila el modelo con el optimizador SGD (sgd) y la función de pérdida de error cuadrático medio (mse)\n",
        "model.compile(optimizer='sgd', loss='mse')\n",
        "\n",
        "#Ambos valores se pasan como cadenas de texto\n"
      ]
    },
    {
      "cell_type": "markdown",
      "metadata": {
        "id": "tfJ_R0N27W_8"
      },
      "source": [
        "#### <font style=\"color: rgb(50, 120, 229)\"> **Entrenamos el modelo.** </font>\n",
        "\n",
        "Una vez que el modelo está compilado, podemos llamar al método `fit` para entrenar el modelo.\n",
        "\n",
        "Los argumentos requeridos incluyen los datos de entrenamiento y el número de épocas para entrenar.\n",
        "\n",
        "El método `fit` devuelve un objeto `history` que podemos usar para acceder a la pérdida de cada época.\n"
      ]
    },
    {
      "cell_type": "code",
      "execution_count": 10,
      "metadata": {
        "id": "MYPcaUbb7W_8",
        "outputId": "183e7ac5-b1b0-4e96-dd0b-071c2816882e",
        "colab": {
          "base_uri": "https://localhost:8080/"
        }
      },
      "outputs": [
        {
          "output_type": "stream",
          "name": "stdout",
          "text": [
            "Epoch 1/50\n",
            "\u001b[1m4/4\u001b[0m \u001b[32m━━━━━━━━━━━━━━━━━━━━\u001b[0m\u001b[37m\u001b[0m \u001b[1m1s\u001b[0m 236ms/step - loss: 22.1620\n",
            "Epoch 2/50\n",
            "\u001b[1m4/4\u001b[0m \u001b[32m━━━━━━━━━━━━━━━━━━━━\u001b[0m\u001b[37m\u001b[0m \u001b[1m1s\u001b[0m 3ms/step - loss: 0.0874  \n",
            "Epoch 3/50\n",
            "\u001b[1m4/4\u001b[0m \u001b[32m━━━━━━━━━━━━━━━━━━━━\u001b[0m\u001b[37m\u001b[0m \u001b[1m0s\u001b[0m 3ms/step - loss: 0.0840 \n",
            "Epoch 4/50\n",
            "\u001b[1m4/4\u001b[0m \u001b[32m━━━━━━━━━━━━━━━━━━━━\u001b[0m\u001b[37m\u001b[0m \u001b[1m0s\u001b[0m 2ms/step - loss: 0.0854 \n",
            "Epoch 5/50\n",
            "\u001b[1m4/4\u001b[0m \u001b[32m━━━━━━━━━━━━━━━━━━━━\u001b[0m\u001b[37m\u001b[0m \u001b[1m0s\u001b[0m 3ms/step - loss: 0.0882 \n",
            "Epoch 6/50\n",
            "\u001b[1m4/4\u001b[0m \u001b[32m━━━━━━━━━━━━━━━━━━━━\u001b[0m\u001b[37m\u001b[0m \u001b[1m1s\u001b[0m 434ms/step - loss: 0.0854\n",
            "Epoch 7/50\n",
            "\u001b[1m4/4\u001b[0m \u001b[32m━━━━━━━━━━━━━━━━━━━━\u001b[0m\u001b[37m\u001b[0m \u001b[1m0s\u001b[0m 2ms/step - loss: 0.2579 \n",
            "Epoch 8/50\n",
            "\u001b[1m4/4\u001b[0m \u001b[32m━━━━━━━━━━━━━━━━━━━━\u001b[0m\u001b[37m\u001b[0m \u001b[1m1s\u001b[0m 271ms/step - loss: 0.1012\n",
            "Epoch 9/50\n",
            "\u001b[1m4/4\u001b[0m \u001b[32m━━━━━━━━━━━━━━━━━━━━\u001b[0m\u001b[37m\u001b[0m \u001b[1m1s\u001b[0m 148ms/step - loss: 0.0906\n",
            "Epoch 10/50\n",
            "\u001b[1m4/4\u001b[0m \u001b[32m━━━━━━━━━━━━━━━━━━━━\u001b[0m\u001b[37m\u001b[0m \u001b[1m0s\u001b[0m 81ms/step - loss: 0.1039 \n",
            "Epoch 11/50\n",
            "\u001b[1m4/4\u001b[0m \u001b[32m━━━━━━━━━━━━━━━━━━━━\u001b[0m\u001b[37m\u001b[0m \u001b[1m0s\u001b[0m 5ms/step - loss: 0.0793 \n",
            "Epoch 12/50\n",
            "\u001b[1m4/4\u001b[0m \u001b[32m━━━━━━━━━━━━━━━━━━━━\u001b[0m\u001b[37m\u001b[0m \u001b[1m0s\u001b[0m 7ms/step - loss: 0.0750  \n",
            "Epoch 13/50\n",
            "\u001b[1m4/4\u001b[0m \u001b[32m━━━━━━━━━━━━━━━━━━━━\u001b[0m\u001b[37m\u001b[0m \u001b[1m0s\u001b[0m 20ms/step - loss: 0.2654\n",
            "Epoch 14/50\n",
            "\u001b[1m4/4\u001b[0m \u001b[32m━━━━━━━━━━━━━━━━━━━━\u001b[0m\u001b[37m\u001b[0m \u001b[1m0s\u001b[0m 9ms/step - loss: 0.0795  \n",
            "Epoch 15/50\n",
            "\u001b[1m4/4\u001b[0m \u001b[32m━━━━━━━━━━━━━━━━━━━━\u001b[0m\u001b[37m\u001b[0m \u001b[1m0s\u001b[0m 99ms/step - loss: 0.1430 \n",
            "Epoch 16/50\n",
            "\u001b[1m4/4\u001b[0m \u001b[32m━━━━━━━━━━━━━━━━━━━━\u001b[0m\u001b[37m\u001b[0m \u001b[1m0s\u001b[0m 8ms/step - loss: 0.1370  \n",
            "Epoch 17/50\n",
            "\u001b[1m4/4\u001b[0m \u001b[32m━━━━━━━━━━━━━━━━━━━━\u001b[0m\u001b[37m\u001b[0m \u001b[1m0s\u001b[0m 5ms/step - loss: 0.1305  \n",
            "Epoch 18/50\n",
            "\u001b[1m4/4\u001b[0m \u001b[32m━━━━━━━━━━━━━━━━━━━━\u001b[0m\u001b[37m\u001b[0m \u001b[1m0s\u001b[0m 4ms/step - loss: 0.0780  \n",
            "Epoch 19/50\n",
            "\u001b[1m4/4\u001b[0m \u001b[32m━━━━━━━━━━━━━━━━━━━━\u001b[0m\u001b[37m\u001b[0m \u001b[1m0s\u001b[0m 8ms/step - loss: 0.3067  \n",
            "Epoch 20/50\n",
            "\u001b[1m4/4\u001b[0m \u001b[32m━━━━━━━━━━━━━━━━━━━━\u001b[0m\u001b[37m\u001b[0m \u001b[1m1s\u001b[0m 294ms/step - loss: 0.0958\n",
            "Epoch 21/50\n",
            "\u001b[1m4/4\u001b[0m \u001b[32m━━━━━━━━━━━━━━━━━━━━\u001b[0m\u001b[37m\u001b[0m \u001b[1m1s\u001b[0m 189ms/step - loss: 0.0967\n",
            "Epoch 22/50\n",
            "\u001b[1m4/4\u001b[0m \u001b[32m━━━━━━━━━━━━━━━━━━━━\u001b[0m\u001b[37m\u001b[0m \u001b[1m1s\u001b[0m 91ms/step - loss: 0.1616 \n",
            "Epoch 23/50\n",
            "\u001b[1m4/4\u001b[0m \u001b[32m━━━━━━━━━━━━━━━━━━━━\u001b[0m\u001b[37m\u001b[0m \u001b[1m0s\u001b[0m 64ms/step - loss: 0.0738 \n",
            "Epoch 24/50\n",
            "\u001b[1m4/4\u001b[0m \u001b[32m━━━━━━━━━━━━━━━━━━━━\u001b[0m\u001b[37m\u001b[0m \u001b[1m0s\u001b[0m 3ms/step - loss: 0.1129 \n",
            "Epoch 25/50\n",
            "\u001b[1m4/4\u001b[0m \u001b[32m━━━━━━━━━━━━━━━━━━━━\u001b[0m\u001b[37m\u001b[0m \u001b[1m0s\u001b[0m 3ms/step - loss: 0.0847 \n",
            "Epoch 26/50\n",
            "\u001b[1m4/4\u001b[0m \u001b[32m━━━━━━━━━━━━━━━━━━━━\u001b[0m\u001b[37m\u001b[0m \u001b[1m0s\u001b[0m 3ms/step - loss: 0.1291 \n",
            "Epoch 27/50\n",
            "\u001b[1m4/4\u001b[0m \u001b[32m━━━━━━━━━━━━━━━━━━━━\u001b[0m\u001b[37m\u001b[0m \u001b[1m0s\u001b[0m 2ms/step - loss: 0.0852 \n",
            "Epoch 28/50\n",
            "\u001b[1m4/4\u001b[0m \u001b[32m━━━━━━━━━━━━━━━━━━━━\u001b[0m\u001b[37m\u001b[0m \u001b[1m0s\u001b[0m 2ms/step - loss: 0.0879 \n",
            "Epoch 29/50\n",
            "\u001b[1m4/4\u001b[0m \u001b[32m━━━━━━━━━━━━━━━━━━━━\u001b[0m\u001b[37m\u001b[0m \u001b[1m0s\u001b[0m 2ms/step - loss: 0.0893 \n",
            "Epoch 30/50\n",
            "\u001b[1m4/4\u001b[0m \u001b[32m━━━━━━━━━━━━━━━━━━━━\u001b[0m\u001b[37m\u001b[0m \u001b[1m0s\u001b[0m 3ms/step - loss: 0.0998 \n",
            "Epoch 31/50\n",
            "\u001b[1m4/4\u001b[0m \u001b[32m━━━━━━━━━━━━━━━━━━━━\u001b[0m\u001b[37m\u001b[0m \u001b[1m0s\u001b[0m 2ms/step - loss: 0.0873 \n",
            "Epoch 32/50\n",
            "\u001b[1m4/4\u001b[0m \u001b[32m━━━━━━━━━━━━━━━━━━━━\u001b[0m\u001b[37m\u001b[0m \u001b[1m0s\u001b[0m 2ms/step - loss: 0.0851 \n",
            "Epoch 33/50\n",
            "\u001b[1m4/4\u001b[0m \u001b[32m━━━━━━━━━━━━━━━━━━━━\u001b[0m\u001b[37m\u001b[0m \u001b[1m0s\u001b[0m 2ms/step - loss: 0.1743 \n",
            "Epoch 34/50\n",
            "\u001b[1m4/4\u001b[0m \u001b[32m━━━━━━━━━━━━━━━━━━━━\u001b[0m\u001b[37m\u001b[0m \u001b[1m0s\u001b[0m 2ms/step - loss: 0.0753 \n",
            "Epoch 35/50\n",
            "\u001b[1m4/4\u001b[0m \u001b[32m━━━━━━━━━━━━━━━━━━━━\u001b[0m\u001b[37m\u001b[0m \u001b[1m0s\u001b[0m 2ms/step - loss: 0.1243 \n",
            "Epoch 36/50\n",
            "\u001b[1m4/4\u001b[0m \u001b[32m━━━━━━━━━━━━━━━━━━━━\u001b[0m\u001b[37m\u001b[0m \u001b[1m0s\u001b[0m 3ms/step - loss: 0.0902 \n",
            "Epoch 37/50\n",
            "\u001b[1m4/4\u001b[0m \u001b[32m━━━━━━━━━━━━━━━━━━━━\u001b[0m\u001b[37m\u001b[0m \u001b[1m0s\u001b[0m 2ms/step - loss: 0.0808 \n",
            "Epoch 38/50\n",
            "\u001b[1m4/4\u001b[0m \u001b[32m━━━━━━━━━━━━━━━━━━━━\u001b[0m\u001b[37m\u001b[0m \u001b[1m0s\u001b[0m 63ms/step - loss: 0.0915 \n",
            "Epoch 39/50\n",
            "\u001b[1m4/4\u001b[0m \u001b[32m━━━━━━━━━━━━━━━━━━━━\u001b[0m\u001b[37m\u001b[0m \u001b[1m0s\u001b[0m 3ms/step - loss: 0.1075  \n",
            "Epoch 40/50\n",
            "\u001b[1m4/4\u001b[0m \u001b[32m━━━━━━━━━━━━━━━━━━━━\u001b[0m\u001b[37m\u001b[0m \u001b[1m0s\u001b[0m 3ms/step - loss: 0.0924 \n",
            "Epoch 41/50\n",
            "\u001b[1m4/4\u001b[0m \u001b[32m━━━━━━━━━━━━━━━━━━━━\u001b[0m\u001b[37m\u001b[0m \u001b[1m0s\u001b[0m 3ms/step - loss: 0.0831 \n",
            "Epoch 42/50\n",
            "\u001b[1m4/4\u001b[0m \u001b[32m━━━━━━━━━━━━━━━━━━━━\u001b[0m\u001b[37m\u001b[0m \u001b[1m0s\u001b[0m 3ms/step - loss: 0.0966 \n",
            "Epoch 43/50\n",
            "\u001b[1m4/4\u001b[0m \u001b[32m━━━━━━━━━━━━━━━━━━━━\u001b[0m\u001b[37m\u001b[0m \u001b[1m0s\u001b[0m 3ms/step - loss: 0.0918 \n",
            "Epoch 44/50\n",
            "\u001b[1m4/4\u001b[0m \u001b[32m━━━━━━━━━━━━━━━━━━━━\u001b[0m\u001b[37m\u001b[0m \u001b[1m0s\u001b[0m 2ms/step - loss: 0.0844 \n",
            "Epoch 45/50\n",
            "\u001b[1m4/4\u001b[0m \u001b[32m━━━━━━━━━━━━━━━━━━━━\u001b[0m\u001b[37m\u001b[0m \u001b[1m0s\u001b[0m 3ms/step - loss: 0.0958 \n",
            "Epoch 46/50\n",
            "\u001b[1m4/4\u001b[0m \u001b[32m━━━━━━━━━━━━━━━━━━━━\u001b[0m\u001b[37m\u001b[0m \u001b[1m0s\u001b[0m 2ms/step - loss: 0.0870 \n",
            "Epoch 47/50\n",
            "\u001b[1m4/4\u001b[0m \u001b[32m━━━━━━━━━━━━━━━━━━━━\u001b[0m\u001b[37m\u001b[0m \u001b[1m0s\u001b[0m 3ms/step - loss: 0.1136 \n",
            "Epoch 48/50\n",
            "\u001b[1m4/4\u001b[0m \u001b[32m━━━━━━━━━━━━━━━━━━━━\u001b[0m\u001b[37m\u001b[0m \u001b[1m0s\u001b[0m 3ms/step - loss: 0.1403 \n",
            "Epoch 49/50\n",
            "\u001b[1m4/4\u001b[0m \u001b[32m━━━━━━━━━━━━━━━━━━━━\u001b[0m\u001b[37m\u001b[0m \u001b[1m0s\u001b[0m 3ms/step - loss: 0.0805 \n",
            "Epoch 50/50\n",
            "\u001b[1m4/4\u001b[0m \u001b[32m━━━━━━━━━━━━━━━━━━━━\u001b[0m\u001b[37m\u001b[0m \u001b[1m0s\u001b[0m 2ms/step - loss: 0.1019 \n"
          ]
        }
      ],
      "source": [
        "#TODO: Entrena el modelo con los datos de entrada y salida por 50 épocas. Guarda el historial del entrenamiento en la variable history\n",
        "history = model.fit(X, Y, epochs=EPOCHS)"
      ]
    },
    {
      "cell_type": "code",
      "execution_count": 11,
      "metadata": {
        "id": "_j-HWvzl7W_8",
        "outputId": "6737191a-7782-4a92-f773-56ef2eb1e2cd",
        "colab": {
          "base_uri": "https://localhost:8080/",
          "height": 429
        }
      },
      "outputs": [
        {
          "output_type": "display_data",
          "data": {
            "text/plain": [
              "<Figure size 1500x500 with 1 Axes>"
            ],
            "image/png": "[encoded data removed]"
          },
          "metadata": {}
        }
      ],
      "source": [
        "#Graficar el error cuadrático medio\n",
        "history_dict = history.history\n",
        "loss_values = history_dict[\"loss\"]\n",
        "epochs = range(1, len(loss_values) + 1)\n",
        "\n",
        "plt.figure(figsize=[15, 5])\n",
        "plt.plot(epochs, loss_values, \"orange\", label=\"Training loss\")\n",
        "plt.title(\"Training and validation loss\")\n",
        "plt.xlabel(\"Epochs\")\n",
        "plt.ylabel(\"Loss\")\n",
        "plt.legend()\n",
        "plt.show()"
      ]
    },
    {
      "cell_type": "markdown",
      "metadata": {
        "id": "CqHpDoCm7W_8"
      },
      "source": [
        "#### <font style=\"color: rgb(50, 120, 229)\"> **Hacemos predicciones.** </font>\n",
        "\n",
        "Después de que el modelo haya sido entrenado, podemos acceder a los parámetros entrenados directamente desde el objeto `model`."
      ]
    },
    {
      "cell_type": "code",
      "execution_count": 12,
      "metadata": {
        "id": "hfYzCC4n7W_8",
        "outputId": "05e1c66c-fe84-40d2-cdd3-9c4ea10d77f6",
        "colab": {
          "base_uri": "https://localhost:8080/"
        }
      },
      "outputs": [
        {
          "output_type": "stream",
          "name": "stdout",
          "text": [
            "Pendiente:  [1.2314988]\n"
          ]
        }
      ],
      "source": [
        "slope = model.layers[0].weights[0]\n",
        "print('Pendiente: ', slope[0].numpy())"
      ]
    },
    {
      "cell_type": "markdown",
      "metadata": {
        "id": "QON-Otrd7W_9"
      },
      "source": [
        "En la práctica no solemos acceder a los pesos directamente, sino que usamos el método `predict` para hacer predicciones en nuevos datos.\n",
        "\n",
        "Este metodo toma un `tensor` de entrada y devuelve un tensor de salida."
      ]
    },
    {
      "cell_type": "code",
      "execution_count": 13,
      "metadata": {
        "id": "KiEF8bT37W_9",
        "outputId": "36c6267d-2afa-4f07-9ea9-afc7e2c2b9ee",
        "colab": {
          "base_uri": "https://localhost:8080/"
        }
      },
      "outputs": [
        {
          "output_type": "stream",
          "name": "stdout",
          "text": [
            "\u001b[1m4/4\u001b[0m \u001b[32m━━━━━━━━━━━━━━━━━━━━\u001b[0m\u001b[37m\u001b[0m \u001b[1m0s\u001b[0m 10ms/step\n"
          ]
        }
      ],
      "source": [
        "pred_y = model.predict(X)"
      ]
    },
    {
      "cell_type": "code",
      "execution_count": 14,
      "metadata": {
        "id": "CikbzHay7W_9",
        "outputId": "1a5c81df-6937-46e1-d74f-e797eaea6e31",
        "colab": {
          "base_uri": "https://localhost:8080/",
          "height": 615
        }
      },
      "outputs": [
        {
          "output_type": "stream",
          "name": "stderr",
          "text": [
            "WARNING:matplotlib.font_manager:findfont: Font family 'Consolas' not found.\n",
            "WARNING:matplotlib.font_manager:findfont: Font family 'Consolas' not found.\n",
            "WARNING:matplotlib.font_manager:findfont: Font family 'Consolas' not found.\n",
            "WARNING:matplotlib.font_manager:findfont: Font family 'Consolas' not found.\n",
            "WARNING:matplotlib.font_manager:findfont: Font family 'Consolas' not found.\n"
          ]
        },
        {
          "output_type": "display_data",
          "data": {
            "text/plain": [
              "<Figure size 1200x600 with 1 Axes>"
            ],
            "image/png": "[encoded data removed]"
          },
          "metadata": {}
        }
      ],
      "source": [
        "plt.plot(X, Y, 'b.')\n",
        "plt.plot(X, pred_y, 'c-')\n",
        "plt.text(1, 7.0, 'Slope = ' + str(slope[0].numpy()), fontsize=14, family=\"Consolas\")\n",
        "plt.xlim(0, 10)\n",
        "plt.ylim(0, 10)\n",
        "plt.show()"
      ]
    },
    {
      "cell_type": "markdown",
      "metadata": {
        "id": "FYRcOlEh7W_9"
      },
      "source": [
        "## <font style=\"color: rgb(50, 120, 229)\"> Preguntas de comprensión </font>\n",
        "\n",
        "1. ¿Qué es la regresión lineal? La regresión lineal es un modelo estadístico que se utiliza para predecir el valor de una variable dependiente (salida) basándose en una o más variables independientes (entradas).\n",
        "2. ¿Cuántas neuronas en su capa de salida tiene un modelo de regresión lineal simple? Un modelo de regresión lineal simple tiene una sola neurona en su capa de salida, ya que predice un único valor continuo.\n",
        "3. ¿Qué función de activación se utiliza en la capa de salida de un modelo de regresión lineal? En un modelo de regresión lineal no se utiliza ninguna función de activación o se utiliza la función de activación lineal, que simplemente devuelve el valor de entrada sin cambios.\n",
        "4. ¿En qué consiste la compilación de un modelo en Keras? La compilación de un modelo en Keras consiste en definir la función de pérdida, el optimizador y las métricas que se utilizarán para entrenar el modelo. Este paso prepara el modelo para el proceso de entrenamiento.\n",
        "5. ¿Qué función de pérdida se utiliza comúnmente en un modelo de regresión lineal? La función de pérdida comúnmente utilizada en un modelo de regresión lineal es el error cuadrático medio (MSE, por sus siglas en inglés).\n",
        "6. ¿Qué devuelve el método `fit` en Keras? El método fit en Keras devuelve un objeto de tipo History, que contiene información sobre el entrenamiento del modelo, como los valores de la pérdida y las métricas en cada época."
      ]
    }
  ],
  "metadata": {
    "kernelspec": {
      "display_name": ".venv",
      "language": "python",
      "name": "python3"
    },
    "language_info": {
      "codemirror_mode": {
        "name": "ipython",
        "version": 3
      },
      "file_extension": ".py",
      "mimetype": "text/x-python",
      "name": "python",
      "nbconvert_exporter": "python",
      "pygments_lexer": "ipython3",
      "version": "3.10.11"
    },
    "colab": {
      "provenance": []
    }
  },
  "nbformat": 4,
  "nbformat_minor": 0
}