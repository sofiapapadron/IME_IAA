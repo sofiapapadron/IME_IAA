{
 "cells": [
  {
   "cell_type": "markdown",
   "metadata": {},
   "source": [
    "# <font style=\"color:rgb(50, 120, 229);\"> Fashion MNIST con Keras </font>"
   ]
  },
  {
   "cell_type": "markdown",
   "metadata": {},
   "source": [
    "Ya has visto cómo implementar MLPs (Perceptrones Multicapa) utilizando Keras. \n",
    "\n",
    "En esta tarea, vamos a seguir adelante e implementar un MLP (Perceptrón Multicapa) simple.\n",
    "\n",
    "Estaremos utilizando el **Conjunto de Datos Fashion MNIST**, que es un conjunto de datos muy popular y simple para llevar a cabo tareas de clasificación. Realizaremos una tarea de clasificación multiclase utilizando este conjunto de datos.\n",
    "\n",
    "<center>\n",
    "<img src=\"./images/fashion_mnist.jpg\" width=600px>\n",
    "</center>\n"
   ]
  },
  {
   "cell_type": "markdown",
   "metadata": {},
   "source": [
    "Hay 10 clases. Cada ejemplo de entrenamiento y prueba es una imagen de `28x28` y se asigna a una de las siguientes etiquetas:\n",
    "\n",
    "| Etiqueta | Descripción |\n",
    "| --- | --- |\n",
    "| 0 | Camiseta/top |\n",
    "| 1 | Pantalón |\n",
    "| 2 | Pullover |\n",
    "| 3 | Vestido |\n",
    "| 4 | Abrigo |\n",
    "| 5 | Sandalia |\n",
    "| 6 | Camisa |\n",
    "| 7 | Zapatilla |\n",
    "| 8 | Bolso |\n",
    "| 9 | Bota de tobillo |"
   ]
  },
  {
   "cell_type": "markdown",
   "metadata": {},
   "source": [
    "### <font style=\"color:rgb(50,120,230)\">1. Implementar el Modelo MLP</font>\n",
    "\n",
    "Aquí, la tarea es clasificar objetos en un conjunto de datos, así que necesitas implementar un modelo MLP simple con 10 clases de salida. Asegúrate de que sea un modelo muy simple que contenga solo unas pocas capas `Dense`, con un número mínimo de nodos/unidades.\n",
    "\n",
    "**Nota: Recuerda usar la activación `softmax` para la última capa Dense.**\n"
   ]
  },
  {
   "cell_type": "markdown",
   "metadata": {},
   "source": [
    "### <font style=\"color:rgb(50,120,230)\">2. Obtención de la precisión deseada en los datos de prueba</font>\n",
    "\n",
    "Una vez que hayas definido el modelo, puedes entrenarlo. Para obtener una mejor precisión, experimenta con la tasa de aprendizaje y el número de épocas. También es posible que necesites ajustar un poco la arquitectura del modelo.\n",
    "\n",
    "La ventaja de optar por un conjunto de datos muy simple es que tu modelo puede funcionar muy bien incluso con muy pocas capas `Dense`.\n",
    "\n",
    "Aquí tienes algunos consejos para mejorar la precisión:\n",
    "- Entrenar durante más tiempo\n",
    "- Probar con diferentes tasas de aprendizaje (intenta reducir la tasa de aprendizaje también)\n",
    "\n",
    "Necesitas alcanzar **al menos un 82% de precisión en los datos de prueba**.\n"
   ]
  },
  {
   "cell_type": "code",
   "execution_count": null,
   "metadata": {},
   "outputs": [],
   "source": [
    "IMG_SIZE = (28, 28)\n",
    "NUM_CLASSES = 10\n",
    "BATCH_SIZE = 1\n",
    "EPOCHS = 1\n",
    "VAL_SPLIT = 0.1"
   ]
  },
  {
   "cell_type": "code",
   "execution_count": null,
   "metadata": {},
   "outputs": [],
   "source": [
    "class_names = ['T-shirt/top', 'Trouser', 'Pullover', 'Dress', 'Coat',\n",
    "               'Sandal', 'Shirt', 'Sneaker', 'Bag', 'Ankle boot']"
   ]
  },
  {
   "cell_type": "markdown",
   "metadata": {},
   "source": [
    "### <font style=\"color:rgb(50,120,230)\">3. Predicción del Modelo</font>\n",
    "\n",
    "Una vez que completes el entrenamiento y obtengas la precisión deseada, necesitas implementar una función de predicción simple. Aquí es donde tu modelo entrenado debe generar la etiqueta de clase, dada una entrada de muestra.\n"
   ]
  },
  {
   "cell_type": "code",
   "execution_count": 1,
   "metadata": {},
   "outputs": [],
   "source": [
    "from keras.datasets import fashion_mnist\n",
    "import matplotlib.pyplot as plt\n",
    "\n",
    "plt.style.use(\"ggplot\")"
   ]
  },
  {
   "cell_type": "markdown",
   "metadata": {},
   "source": [
    "**Cargar el conjunto de datos Fashion MNIST desde `tensorflow.keras.datasets`**\n",
    "\n",
    "El conjunto de entrenamiento contiene `60000` ejemplos, mientras que el conjunto de prueba contiene `10000` ejemplos.\n"
   ]
  },
  {
   "cell_type": "code",
   "execution_count": 2,
   "metadata": {},
   "outputs": [],
   "source": [
    "(X_train, y_train), (X_test, y_test) = fashion_mnist.load_data()"
   ]
  },
  {
   "cell_type": "code",
   "execution_count": null,
   "metadata": {},
   "outputs": [],
   "source": [
    "#TODO: Muestra algunas imágenes de los datos de entrenamiento"
   ]
  },
  {
   "cell_type": "code",
   "execution_count": null,
   "metadata": {},
   "outputs": [],
   "source": [
    "#TODO: Prepara los datos de entrenamiento y prueba para poder ser procesados por una red neuronal"
   ]
  },
  {
   "cell_type": "markdown",
   "metadata": {},
   "source": [
    "Aquí necesitas definir tu modelo. Recuerda que cada imagen en el conjunto de datos tiene un tamaño de `28 x 28`, así que tu `Input` debería tener un tamaño de: `(28,28)`. \n",
    "\n",
    "Además, no olvides que necesitas implementar un MLP muy simple aquí, con solo unas pocas capas `Dense`. Echa un vistazo a este diagrama de bloques que representa un MLP simple.\n"
   ]
  },
  {
   "cell_type": "markdown",
   "metadata": {},
   "source": [
    "<center>\n",
    "<img src=\"./images/mlps_fashion_mnist.webp\" width=800px>\n",
    "</center>"
   ]
  },
  {
   "cell_type": "code",
   "execution_count": null,
   "metadata": {},
   "outputs": [],
   "source": [
    "#TODO: Define el modelo y muestra un resumen del mismo"
   ]
  },
  {
   "cell_type": "markdown",
   "metadata": {},
   "source": [
    "En esta ocasión agregaremos otro argumento al método compile, que es `metrics=['accuracy']`. Esto nos permitirá ver la precisión del modelo en cada época.\n",
    "\n",
    "**La precisión es una métrica importante para evaluar el rendimiento de un modelo de clasificación y será revisada en futuros cuadernos.**"
   ]
  },
  {
   "cell_type": "code",
   "execution_count": 6,
   "metadata": {},
   "outputs": [],
   "source": [
    "#TODO: Compila el modelo con optimizador adam, función de pérdida categorical_crossentropy  y métrica accuracy"
   ]
  },
  {
   "cell_type": "code",
   "execution_count": 5,
   "metadata": {},
   "outputs": [],
   "source": [
    "#TODO: Entrena la red neuronal con un 20% de los datos de entrenamiento como datos de validación (validation_split=0.2)"
   ]
  },
  {
   "cell_type": "code",
   "execution_count": null,
   "metadata": {},
   "outputs": [],
   "source": [
    "plt.figure(figsize=[15,5])\n",
    "plt.plot(training_results.history['loss'], 'g')\n",
    "plt.plot(training_results.history['val_loss'], 'b')\n",
    "\n",
    "plt.xlabel('Epochs')\n",
    "plt.ylabel('Loss')\n",
    "\n",
    "plt.legend(['Training', 'Validation'], loc='upper right');\n",
    "plt.grid(True)"
   ]
  },
  {
   "cell_type": "code",
   "execution_count": null,
   "metadata": {},
   "outputs": [],
   "source": [
    "plt.figure(figsize=[15,5])\n",
    "plt.plot(training_results.history['accuracy'], 'g')\n",
    "plt.plot(training_results.history['val_accuracy'], 'b')\n",
    "\n",
    "plt.ylim([0.5, 1])\n",
    "\n",
    "plt.xlabel('Epochs')\n",
    "plt.ylabel('Acc')\n",
    "\n",
    "plt.legend(['Training', 'Validation'], loc='lower right');\n",
    "plt.grid(True)"
   ]
  },
  {
   "cell_type": "markdown",
   "metadata": {},
   "source": [
    "A continuación, usa tu modelo entrenado para obtener predicciones para 25 datos de muestra. \n",
    "\n",
    "Puedes encontrar útiles las funciones [model.predict](https://keras.io/api/models/model_training_apis/), [np.argmax](https://numpy.org/doc/stable/reference/generated/numpy.argmax.html), [np.expand_dims](https://numpy.org/doc/stable/reference/generated/numpy.expand_dims.html) y [np.squeeze](https://numpy.org/doc/stable/reference/generated/numpy.squeeze.html).\n"
   ]
  },
  {
   "cell_type": "code",
   "execution_count": null,
   "metadata": {},
   "outputs": [],
   "source": [
    "#TODO: Realiza predicciones con el modelo entrenado"
   ]
  },
  {
   "cell_type": "code",
   "execution_count": null,
   "metadata": {},
   "outputs": [],
   "source": [
    "#TODO: Muestra algunas imágenes de prueba y sus predicciones como labels"
   ]
  }
 ],
 "metadata": {
  "kernelspec": {
   "display_name": ".venv",
   "language": "python",
   "name": "python3"
  },
  "language_info": {
   "codemirror_mode": {
    "name": "ipython",
    "version": 3
   },
   "file_extension": ".py",
   "mimetype": "text/x-python",
   "name": "python",
   "nbconvert_exporter": "python",
   "pygments_lexer": "ipython3",
   "version": "3.11.9"
  }
 },
 "nbformat": 4,
 "nbformat_minor": 2
}
