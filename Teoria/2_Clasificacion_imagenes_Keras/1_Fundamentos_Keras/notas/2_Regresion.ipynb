{
 "cells": [
  {
   "cell_type": "markdown",
   "metadata": {},
   "source": [
    "# <font style=\"color:rgb(50,120,229)\"> Regresión </font>\n",
    "\n",
    "Regresión es un tipo de problema de aprendizaje supervisado en el que se intenta predecir un valor numérico a partir de un conjunto de características. \n",
    "\n",
    "El objetivo es encontrar una función que se ajuste lo mejor posible a los datos de entrenamiento.\n",
    "\n",
    "<center style=\"display: flex; justify-content: center; align-items: center; gap: 32px;\">\n",
    "<img src=\"./images/data_regresion.png\" width=600>\n",
    "<img src=\"./images/result_regresion.png\" width=600>\n",
    "</center>"
   ]
  },
  {
   "cell_type": "markdown",
   "metadata": {},
   "source": [
    "Observa que los datos predecidos puede ser cualquier **valor continuo**"
   ]
  },
  {
   "cell_type": "markdown",
   "metadata": {},
   "source": [
    "## <font style=\"color:rgb(50,120,229)\"> Arquitectura de una red neuronal para regresión </font>"
   ]
  },
  {
   "cell_type": "markdown",
   "metadata": {},
   "source": [
    "Para que una red neuronal pueda resolver un problema de regresión debe de cumplir con las siguientes características:\n",
    "\n",
    "1. **Capa de entrada**: El número de neuronas en la capa de entrada debe ser igual al número de características en los datos de entrada.\n",
    "2. **Capa de salida**: La capa de salida debe tener una sola neurona, ya que estamos prediciendo un solo valor.\n",
    "3. **Función de activación**: La función de activación en la capa de salida debe ser una función lineal, ya que estamos prediciendo un valor continuo."
   ]
  },
  {
   "cell_type": "markdown",
   "metadata": {},
   "source": [
    "## <font style=\"color:rgb(50,120,229)\"> Función de Costo utilizada en Regresión </font>"
   ]
  },
  {
   "cell_type": "markdown",
   "metadata": {},
   "source": [
    "### <font style=\"color:rgb(50,120,229)\"> Error Cuadrático Medio (MSE) </font>"
   ]
  },
  {
   "cell_type": "markdown",
   "metadata": {},
   "source": [
    "La formula matemática para el error cuadrático medio es:\n",
    "\n",
    "$$\n",
    "MSE = \\frac{1}{n} \\sum_{i=1}^{n} (y_i - \\hat{y}_i)^2\n",
    "$$\n",
    "\n",
    "Donde:\n",
    "\n",
    "- $n$ es el número de ejemplos o muestras.\n",
    "- $y_i$ es el valor real.\n",
    "- $\\hat{y}_i$ es el valor predicho por el modelo."
   ]
  },
  {
   "cell_type": "markdown",
   "metadata": {},
   "source": [
    "Aquí, tomamos la media de la diferencia al cuadrado entre el valor real y los valores predichos, por eso el nombre, Error Cuadrático Medio. \n",
    "\n",
    "Como esta es una función de error, nos gustaría que este valor fuera lo más pequeño posible. Un valor más pequeño indica que el valor real y los valores predichos están más cerca entre sí.\n",
    "\n",
    "Sin embargo, hay algunas desventajas al usar MSE:\n",
    "\n",
    "- Es sensible a los valores atípicos.\n",
    "\n",
    "Un valor atípico es un valor que es significativamente diferente de los otros valores en el conjunto de datos.\n"
   ]
  },
  {
   "cell_type": "markdown",
   "metadata": {},
   "source": [
    "<font style=\"color:rgb(8,133,37)\">**MSE en Keras**</font>\n",
    "\n",
    "En Keras, podemos utilizar la función de costo `mean_squared_error` para calcular el error cuadrático medio.\n",
    "\n",
    "```python\n",
    "from keras.losses import mean_squared_error\n",
    "```"
   ]
  },
  {
   "cell_type": "markdown",
   "metadata": {},
   "source": [
    "### <font style=\"color:rgb(50,120,229)\"> Error Absoluto Medio (MAE) </font>"
   ]
  },
  {
   "cell_type": "markdown",
   "metadata": {},
   "source": [
    "MAE es otra forma común de calcular el error entre los valores reales y los valores predichos. Aquí, en lugar de elevar al cuadrado el error, promediamos el error sobre el valor absoluto de la diferencia entre los valores reales y los valores predichos.\n",
    "\n",
    "$$\n",
    "MAE = \\frac{1}{n} \\sum_{i=1}^{n} |y_i - \\hat{y}_i|\n",
    "$$\n",
    "\n",
    "Donde:\n",
    "\n",
    "- $n$ es el número de ejemplos o muestras.\n",
    "- $y_i$ es el valor real.\n",
    "- $\\hat{y}_i$ es el valor predicho por el modelo."
   ]
  },
  {
   "cell_type": "markdown",
   "metadata": {},
   "source": [
    "Aquí también, un valor más bajo indica un modelo mejor.\n",
    "\n",
    "Supera algunas de las desventajas del MSE:\n",
    "\n",
    "- Menos sensible a los valores atípicos en comparación con el MSE."
   ]
  },
  {
   "cell_type": "markdown",
   "metadata": {},
   "source": [
    "<font style=\"color:rgb(8,133,37)\">**MAE en Keras**</font>\n",
    "\n",
    "En Keras, podemos utilizar la función de costo `mean_absolute_error` para calcular el error absoluto medio.\n",
    "\n",
    "```python\n",
    "from keras.losses import mean_absolute_error\n",
    "```\n"
   ]
  }
 ],
 "metadata": {
  "kernelspec": {
   "display_name": ".venv",
   "language": "python",
   "name": "python3"
  },
  "language_info": {
   "codemirror_mode": {
    "name": "ipython",
    "version": 3
   },
   "file_extension": ".py",
   "mimetype": "text/x-python",
   "name": "python",
   "nbconvert_exporter": "python",
   "pygments_lexer": "ipython3",
   "version": "3.11.9"
  }
 },
 "nbformat": 4,
 "nbformat_minor": 2
}
