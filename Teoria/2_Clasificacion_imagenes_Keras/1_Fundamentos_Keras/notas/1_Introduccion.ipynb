{
 "cells": [
  {
   "cell_type": "markdown",
   "metadata": {},
   "source": [
    "# <font style=\"color: rgb(50, 120, 229)\"> Introduction a Keras </font>"
   ]
  },
  {
   "cell_type": "markdown",
   "metadata": {},
   "source": [
    "Keras es una API de aprendizaje profundo escrita en Python, capaz de ejecutarse sobre JAX, TensorFlow o PyTorch.\n",
    "\n",
    "<center>\n",
    "<img src=\"./images/keras.jpg\" width=\"600\">\n",
    "</center>"
   ]
  },
  {
   "cell_type": "markdown",
   "metadata": {},
   "source": [
    "Keras es:\n",
    "\n",
    "- **Simple** – pero no simplista. Keras reduce la carga cognitiva del desarrollador para liberarte y permitirte enfocarte en las partes del problema que realmente importan.\n",
    "\n",
    "- **Flexible** – Keras adopta el principio de divulgación progresiva de la complejidad: los flujos de trabajo simples deben ser rápidos y fáciles, mientras que los flujos de trabajo arbitrariamente avanzados deben ser posibles a través de un camino claro que se construye sobre lo que ya has aprendido.\n",
    "\n",
    "- **Poderoso** – Keras proporciona rendimiento y escalabilidad a nivel industrial: es utilizado por organizaciones como la NASA, YouTube o Waymo.\n"
   ]
  },
  {
   "cell_type": "markdown",
   "metadata": {},
   "source": [
    "## <font style=\"color: rgb(50, 120, 229)\">Keras vs TensorFlow</font>"
   ]
  },
  {
   "cell_type": "markdown",
   "metadata": {},
   "source": [
    "La mayoría de los usuarios encuentran que construir redes neuronales profundas es mucho más fácil con Keras, ya que envuelve muchas líneas de código de uno de estos backends en solo unas pocas líneas. \n",
    "\n",
    "Sin embargo, ten en cuenta que Keras está destinado a **ser utilizado con redes neuronales**. Como tal, desarrollar otros algoritmos de aprendizaje automático (por ejemplo, máquinas de vectores de soporte, regresión) es difícil o no es compatible con Keras.\n"
   ]
  },
  {
   "cell_type": "markdown",
   "metadata": {},
   "source": [
    "Por otro lado, los frameworks como TensorFlow, están diseñados para ayudar a los usuarios a construir todo tipo de algoritmos. \n",
    "\n",
    "Se centran en hacer que cosas como las operaciones de matriz sean más fáciles, pero construir redes profundas aún puede requerir muchas líneas de código.\n"
   ]
  },
  {
   "cell_type": "markdown",
   "metadata": {},
   "source": [
    "Dado que TensorFlow es actualmente el framework más popular para el aprendizaje profundo, nos adheriremos a usarlo como backend para Keras. **En este momento, TensorFlow 2.0 viene incluido con Keras, lo que facilita mucho la instalación.**"
   ]
  },
  {
   "cell_type": "markdown",
   "metadata": {},
   "source": [
    "**Keras 3 agregó muchas características nuevas, te recomendamos que las revises en la [documentación oficial](https://keras.io/keras_3/).**"
   ]
  },
  {
   "cell_type": "markdown",
   "metadata": {},
   "source": [
    "## <font style=\"color: rgb(50, 120, 229)\"> Ecosistema de Keras </font>"
   ]
  },
  {
   "cell_type": "markdown",
   "metadata": {},
   "source": [
    "El proyecto Keras no se limita a la API principal de Keras para construir y entrenar redes neuronales. Abarca una amplia gama de iniciativas relacionadas que cubren cada paso del flujo de trabajo de aprendizaje automático.\n"
   ]
  },
  {
   "cell_type": "markdown",
   "metadata": {},
   "source": [
    "- **[Keras Tuner](https://keras.io/keras_tuner/)**: Keras Tuner es una biblioteca de optimización de hiperparámetros que te permite realizar ajustes de hiperparámetros de manera eficiente y escalable.\n",
    "\n",
    "- **[Keras NLP](https://keras.io/keras_nlp/)**: Keras NLP es una biblioteca de procesamiento de lenguaje natural que te permite construir modelos de procesamiento de lenguaje natural con Keras.\n",
    "\n",
    "- **[Keras CV](https://keras.io/keras_cv/)**: Keras CV es una biblioteca de visión por computadora que te permite construir modelos de visión por computadora con Keras."
   ]
  },
  {
   "cell_type": "markdown",
   "metadata": {},
   "source": [
    "## <font style=\"color: rgb(50, 120, 229)\">Instalación de Keras</font>\n",
    "\n",
    "Para instalar Keras, simplemente ejecuta el siguiente comando en tu terminal:\n",
    "\n",
    "```bash\n",
    "pip install keras\n",
    "```\n",
    "\n",
    "Si estas en un entorno como Google Colab, no necesitas instalar Keras, ya que viene preinstalado, pero puedes actualizarlo a la última versión con el siguiente comando:\n",
    "\n",
    "```bash\n",
    "pip install --upgrade keras\n",
    "```"
   ]
  },
  {
   "cell_type": "markdown",
   "metadata": {},
   "source": [
    "**El material de este curso se basa en Keras 3.3.3 y TensorFlow 2.16.0.**"
   ]
  },
  {
   "cell_type": "markdown",
   "metadata": {},
   "source": [
    "## <font style=\"color: rgb(50, 120, 229)\"> ¿Cómo crear una red neuronal con Keras? </font>"
   ]
  },
  {
   "cell_type": "markdown",
   "metadata": {},
   "source": [
    "Vamos a construir la siguiente red neuronal con Keras\n",
    "\n",
    "<center>\n",
    "<img src=\"./images/multiclassification_model.jpg\" width=\"600\">\n",
    "</center>"
   ]
  },
  {
   "cell_type": "markdown",
   "metadata": {},
   "source": [
    "### <font style=\"color: rgb(50, 120, 229)\">Paso 1: Modelo secuencial</font>\n",
    "\n",
    "Keras nos permite crear modelos de diferentes maneras. La forma más simple es creando un modelo secuencial.\n",
    "\n",
    "Un modelo secuencial es una pila lineal de capas, en donde cada capa tiene exactamente un tensor de entrada y un tensor de salida y va conectada a la siguiente capa.\n",
    "\n",
    "```python\n",
    "from keras.models import Sequential\n",
    "\n",
    "model = Sequential()\n",
    "```"
   ]
  },
  {
   "cell_type": "markdown",
   "metadata": {},
   "source": [
    "### <font style=\"color: rgb(50, 120, 229)\">Paso 2: Añadir capas</font>\n",
    "\n",
    "Luego, podemos añadir capas a nuestro modelo con el método `add`.\n",
    "\n",
    "```python\n",
    "model.add(layer)\n",
    "```"
   ]
  },
  {
   "cell_type": "markdown",
   "metadata": {},
   "source": [
    "#### <font style=\"color: rgb(50, 120, 229)\">Capa de entrada</font>\n",
    "\n",
    "La primera capa que añadimos a nuestro modelo es la capa de entrada. \n",
    "\n",
    "```python\n",
    "from keras.layers import Input \n",
    "\n",
    "model.add(Input(shape=(4,)))\n",
    "```\n",
    "\n",
    "**Parámetros:**\n",
    "\n",
    "- `shape`: Especifica la forma de los datos de entrada. En este caso, tenemos 4 características en un vector unidimensional."
   ]
  },
  {
   "cell_type": "markdown",
   "metadata": {},
   "source": [
    "#### <font style=\"color: rgb(50, 120, 229)\">Capa Densa</font>\n",
    "\n",
    "La capa densa es una capa de red neuronal que realiza la operación $z = Wx + b$, donde $W$ es la matriz de pesos, $x$ es el vector de entrada y $b$ es el vector de sesgo.\n",
    "\n",
    "```python\n",
    "from keras.layers import Dense\n",
    "\n",
    "model.add(Dense(units=8, activation='relu))\n",
    "```\n",
    "\n",
    "**Parámetros:**\n",
    "\n",
    "- `units`: Número de neuronas en la capa.\n",
    "- `activation`: Función de activación que se aplica a la salida de la capa.\n"
   ]
  },
  {
   "cell_type": "markdown",
   "metadata": {},
   "source": [
    "### <font style=\"color: rgb(50, 120, 229)\"> Paso 3: Compilar el modelo</font>\n",
    "\n",
    "Antes de entrenar el modelo, debemos configurar el proceso de aprendizaje con el método `compile`.\n",
    "\n",
    "```python\n",
    "model.compile(optimizer='adam', loss='categorical_crossentropy', metrics=['accuracy'])\n",
    "```\n",
    "\n",
    "**Parámetros:**\n",
    "\n",
    "- `optimizer`: Algoritmo de optimización.\n",
    "- `loss`: Función de pérdida.\n",
    "- `metrics`: Lista de métricas para evaluar el modelo.\n"
   ]
  },
  {
   "cell_type": "markdown",
   "metadata": {},
   "source": [
    "### <font style=\"color: rgb(50, 120, 229)\"> Paso 4: Entrenar el modelo</font>\n",
    "\n",
    "Finalmente, podemos entrenar nuestro modelo con el método `fit`.\n",
    "\n",
    "```python\n",
    "history = model.fit(X_train, y_train, epochs=100, batch_size=32)\n",
    "```\n",
    "\n",
    "**Parámetros:**\n",
    "\n",
    "- `X_train`: Datos de entrenamiento.\n",
    "- `y_train`: Etiquetas de entrenamiento.\n",
    "- `epochs`: Número de épocas.\n",
    "- `batch_size`: Tamaño del lote."
   ]
  },
  {
   "cell_type": "markdown",
   "metadata": {},
   "source": [
    "### <font style=\"color: rgb(50, 120, 229)\"> Paso 5: Evaluar el modelo</font>\n",
    "\n",
    "Podemos evaluar nuestro modelo con el método `evaluate`.\n",
    "\n",
    "```python\n",
    "loss, accuracy = model.evaluate(X_test, y_test)\n",
    "```\n",
    "\n",
    "**Parámetros:**\n",
    "\n",
    "- `X_test`: Datos de prueba.\n",
    "- `y_test`: Etiquetas de prueba."
   ]
  },
  {
   "cell_type": "markdown",
   "metadata": {},
   "source": [
    "### <font style=\"color: rgb(50, 120, 229)\"> Paso 6: Hacer predicciones</font>\n",
    "\n",
    "Finalmente, podemos hacer predicciones con el método `predict`.\n",
    "\n",
    "```python\n",
    "predictions = model.predict(X_test)\n",
    "```\n",
    "\n",
    "**Parámetros:**\n",
    "\n",
    "- `X_test`: Datos de prueba."
   ]
  }
 ],
 "metadata": {
  "language_info": {
   "name": "python"
  }
 },
 "nbformat": 4,
 "nbformat_minor": 2
}
