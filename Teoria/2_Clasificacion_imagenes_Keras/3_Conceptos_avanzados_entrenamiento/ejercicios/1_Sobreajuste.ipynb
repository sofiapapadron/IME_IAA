{
  "cells": [
    {
      "cell_type": "markdown",
      "metadata": {
        "id": "QXIibFaKMcW1"
      },
      "source": [
        "# <font style=\"color:rgb(50, 120, 229);\"> Entendiendo el sobreajuste </font>\n",
        "\n",
        "En este cuaderno exploraremos algunos ejemplos utilizando TensorFlow Playground para entender los conceptos de sobreajuste y subajuste."
      ]
    },
    {
      "cell_type": "markdown",
      "metadata": {
        "id": "2fjh0ihNMcW3"
      },
      "source": [
        "## <font style=\"color:rgb(50, 120, 229);\"> Ejemplo 1: </font>\n",
        "\n",
        "Abre el siguiente [ejemplo](https://playground.tensorflow.org/#activation=relu&batchSize=10&dataset=spiral&regDataset=reg-plane&learningRate=0.03&regularizationRate=0&noise=0&networkShape=4,2&seed=0.93949&showTestData=false&discretize=true&percTrainData=20&x=true&y=true&xTimesY=false&xSquared=false&ySquared=false&cosX=false&sinX=false&cosY=false&sinY=false&collectStats=false&problem=classification&initZero=false&hideText=false) en tu navegador."
      ]
    },
    {
      "cell_type": "markdown",
      "metadata": {
        "id": "-di3kVciMcW4"
      },
      "source": [
        "Responde las siguientes preguntas:\n",
        "\n",
        "1. ¿El modelo es capaz de ajustarse a los datos de entrenamiento? ¿Por qué?  El modelo parece estar subajustado. Esto se puede deducir porque tanto la pérdida en los datos de entrenamiento (training loss) como la pérdida en los datos de prueba (test loss) son relativamente altas (alrededor de 0.5).\n",
        "2. ¿Si incrementamos los datos de entrenamiento, el modelo se ajustará mejor? ¿Por qué? Incrementar los datos de entrenamiento podría mejorar el ajuste del modelo si el problema radica en que los datos actuales son insuficientes para aprender los patrones.\n",
        "3. ¿El modelo está sobreajustado o subajustado? ¿Por qué?  El modelo está subajustado. Esto se puede observar porque tanto el error en el conjunto de entrenamiento como en el de prueba son relativamente altos, lo que indica que el modelo no tiene la capacidad suficiente para aprender los patrones de los datos.\n",
        "4. ¿Cómo es el error de entrenamiento y el error de validación?  El error de entrenamiento es de 0.512, mientras que el error de prueba (test loss) es de 0.500. Ambos errores son altos y cercanos entre sí, lo que refuerza la conclusión de que el modelo está subajustado"
      ]
    },
    {
      "cell_type": "markdown",
      "metadata": {
        "id": "reggOEWmMcW4"
      },
      "source": [
        "## <font style=\"color:rgb(50, 120, 229);\"> Ejemplo 2: </font>\n",
        "\n",
        "Abre el siguiente [ejemplo](https://playground.tensorflow.org/#activation=relu&batchSize=10&dataset=spiral&regDataset=reg-plane&learningRate=0.03&regularizationRate=0&noise=0&networkShape=8,8,8,4,4,2&seed=0.00420&showTestData=false&discretize=true&percTrainData=60&x=true&y=true&xTimesY=false&xSquared=false&ySquared=false&cosX=false&sinX=false&cosY=false&sinY=false&collectStats=false&problem=classification&initZero=false&hideText=false) en tu navegador.\n",
        "\n",
        "Responde las siguientes preguntas:\n",
        "\n",
        "1. ¿El modelo es capaz de ajustarse a los datos de entrenamiento? ¿Por qué? El modelo parece ajustarse de manera razonable, pero no perfectamente, a los datos de entrenamiento. La pérdida de entrenamiento es 0.505, lo cual indica que el modelo está capturando parte de los patrones, aunque no con una precisión muy alta.\n",
        "2. ¿Qué cambio con respecto al ejemplo anterior? El modelo ahora tiene una red más profunda y más neuronas en las capas ocultas (6 capas ocultas con entre 2 y 8 neuronas por capa), lo que incrementa su capacidad para aprender patrones más complejos. Además, el conjunto de datos ha sido modificado para incluir un 60% de datos de entrenamiento en lugar del 80% en el ejemplo anterior\n",
        "3. Observas alguna zona donde el modelo no se ajusta bien a los datos de entrenamiento? Sí, se puede observar que en el área central del espiral, el modelo tiene dificultad para ajustarse bien a los datos, ya que algunos puntos naranjas están en la región azul, lo que indica errores en la predicción de esas clases.\n",
        "4. ¿Cómo es el error de entrenamiento y el error de validación? El error de entrenamiento es 0.505 y el error de validación (test loss) es 0.511."
      ]
    },
    {
      "cell_type": "markdown",
      "metadata": {
        "id": "5ENfaKS7McW5"
      },
      "source": [
        "## <font style=\"color:rgb(50, 120, 229);\"> Ejemplo 3: </font>\n",
        "\n",
        "El siguiente ejemplo utiliza el mismo modelo que el ejemplo anterior, pero para un problema más sencillo. Abre el siguiente [ejemplo](https://playground.tensorflow.org/#activation=relu&batchSize=10&dataset=circle&regDataset=reg-plane&learningRate=0.03&regularizationRate=0&noise=0&networkShape=8,8,8,4,4,2&seed=0.91379&showTestData=false&discretize=true&percTrainData=60&x=true&y=true&xTimesY=false&xSquared=false&ySquared=false&cosX=false&sinX=false&cosY=false&sinY=false&collectStats=false&problem=classification&initZero=false&hideText=false) en tu navegador.\n",
        "\n",
        "Responde las siguientes preguntas:\n",
        "\n",
        "1. ¿El modelo es capaz de ajustarse a los datos de entrenamiento? ¿Por qué? El modelo se ajusta razonablemente a los datos de entrenamiento, aunque no de manera perfecta. Esto se refleja en la pérdida de entrenamiento de 0.515, lo que indica que el modelo está capturando algunos patrones de los datos pero no con un alto grado de precisión.\n",
        "2. ¿Los datos en la vida real se parecen a este ejemplo? Los datos en la vida real pueden no parecerse a este ejemplo. En la imagen, los datos parecen artificiales y bastante bien distribuidos en un patrón concéntrico (círculos). En problemas reales, los datos suelen ser mucho más desordenados y pueden tener más ruido, outliers y relaciones complejas, lo que haría que fueran más difíciles de modelar.\n",
        "3. ¿Cómo es el error de entrenamiento y el error de validación? El error de entrenamiento es de 0.515, mientras que el error de validación es de 0.506."
      ]
    },
    {
      "cell_type": "markdown",
      "metadata": {
        "id": "s_7Z46CtMcW5"
      },
      "source": [
        "## <font style=\"color:rgb(50, 120, 229);\"> Ejemplo 4: </font>\n",
        "\n",
        "Al ejemplo anterior se le ha añadido ruido. Abre el siguiente [ejemplo](https://playground.tensorflow.org/#activation=relu&batchSize=10&dataset=circle&regDataset=reg-plane&learningRate=0.03&regularizationRate=0&noise=35&networkShape=8,8,8,4,4,2&seed=0.16178&showTestData=false&discretize=true&percTrainData=60&x=true&y=true&xTimesY=false&xSquared=false&ySquared=false&cosX=false&sinX=false&cosY=false&sinY=false&collectStats=false&problem=classification&initZero=false&hideText=false) en tu navegador.\n",
        "\n",
        "Responde las siguientes preguntas:\n",
        "\n",
        "1. ¿Qué pasa con el error de entrenamiento y el error de validación al añadir ruido? Con la adición de ruido (35 en la escala de ruido), el error de entrenamiento es 0.515 y el error de validación es 0.527. Esto indica que el ruido ha aumentado la dificultad para que el modelo se ajuste perfectamente a los datos, lo que ha elevado ligeramente ambos errores.\n",
        "2. ¿El modelo está sobreajustado o subajustado? ¿Por qué? El modelo parece estar subajustado. Tanto el error de entrenamiento como el de validación son altos y cercanos entre sí\n",
        "3. En la vida real, ¿a que se debe el ruido en los datos? En la vida real, el ruido en los datos puede deberse a varios factores, como errores de medición, variabilidad en los procesos de adquisición de datos, factores externos no controlados, errores humanos o inconsistencias en los sensores o equipos utilizados para recolectar los datos.\n",
        "4. ¿Cómo mejorarías el modelo para que se ajuste mejor a los datos? Para mejorar el ajuste del modelo: agregar regularización (L1 o L2) para controlar mejor el impacto del ruido, aumentar la complejidad del modelo, ajustar la tasa de aprendizaje o probar con diferentes optimizadores para mejorar la convergencia, aplicar técnicas de reducción de ruido, como el filtrado de datos, para eliminar o suavizar las señales ruidosas en los datos de entrada."
      ]
    }
  ],
  "metadata": {
    "language_info": {
      "name": "python"
    },
    "colab": {
      "provenance": []
    }
  },
  "nbformat": 4,
  "nbformat_minor": 0
}