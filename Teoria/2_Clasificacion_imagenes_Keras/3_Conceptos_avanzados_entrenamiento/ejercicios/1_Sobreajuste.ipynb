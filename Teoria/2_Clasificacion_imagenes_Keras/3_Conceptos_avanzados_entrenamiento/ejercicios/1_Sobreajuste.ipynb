{
 "cells": [
  {
   "cell_type": "markdown",
   "metadata": {},
   "source": [
    "# <font style=\"color:rgb(50, 120, 229);\"> Entendiendo el sobreajuste </font>\n",
    "\n",
    "En este cuaderno exploraremos algunos ejemplos utilizando TensorFlow Playground para entender los conceptos de sobreajuste y subajuste."
   ]
  },
  {
   "cell_type": "markdown",
   "metadata": {},
   "source": [
    "## <font style=\"color:rgb(50, 120, 229);\"> Ejemplo 1: </font>\n",
    "\n",
    "Abre el siguiente [ejemplo](https://playground.tensorflow.org/#activation=relu&batchSize=10&dataset=spiral&regDataset=reg-plane&learningRate=0.03&regularizationRate=0&noise=0&networkShape=4,2&seed=0.93949&showTestData=false&discretize=true&percTrainData=20&x=true&y=true&xTimesY=false&xSquared=false&ySquared=false&cosX=false&sinX=false&cosY=false&sinY=false&collectStats=false&problem=classification&initZero=false&hideText=false) en tu navegador."
   ]
  },
  {
   "cell_type": "markdown",
   "metadata": {},
   "source": [
    "Responde las siguientes preguntas:\n",
    "\n",
    "1. ¿El modelo es capaz de ajustarse a los datos de entrenamiento? ¿Por qué?\n",
    "2. ¿Si incrementamos los datos de entrenamiento, el modelo se ajustará mejor? ¿Por qué?\n",
    "3. ¿El modelo está sobreajustado o subajustado? ¿Por qué?\n",
    "4. ¿Cómo es el error de entrenamiento y el error de validación?"
   ]
  },
  {
   "cell_type": "markdown",
   "metadata": {},
   "source": [
    "## <font style=\"color:rgb(50, 120, 229);\"> Ejemplo 2: </font>\n",
    "\n",
    "Abre el siguiente [ejemplo](https://playground.tensorflow.org/#activation=relu&batchSize=10&dataset=spiral&regDataset=reg-plane&learningRate=0.03&regularizationRate=0&noise=0&networkShape=8,8,8,4,4,2&seed=0.00420&showTestData=false&discretize=true&percTrainData=60&x=true&y=true&xTimesY=false&xSquared=false&ySquared=false&cosX=false&sinX=false&cosY=false&sinY=false&collectStats=false&problem=classification&initZero=false&hideText=false) en tu navegador.\n",
    "\n",
    "Responde las siguientes preguntas:\n",
    "\n",
    "1. ¿El modelo es capaz de ajustarse a los datos de entrenamiento? ¿Por qué?\n",
    "2. ¿Qué cambio con respecto al ejemplo anterior?\n",
    "3. Observas alguna zona donde el modelo no se ajusta bien a los datos de entrenamiento?\n",
    "4. ¿Cómo es el error de entrenamiento y el error de validación?"
   ]
  },
  {
   "cell_type": "markdown",
   "metadata": {},
   "source": [
    "## <font style=\"color:rgb(50, 120, 229);\"> Ejemplo 3: </font>\n",
    "\n",
    "El siguiente ejemplo utiliza el mismo modelo que el ejemplo anterior, pero para un problema más sencillo. Abre el siguiente [ejemplo](https://playground.tensorflow.org/#activation=relu&batchSize=10&dataset=circle&regDataset=reg-plane&learningRate=0.03&regularizationRate=0&noise=0&networkShape=8,8,8,4,4,2&seed=0.91379&showTestData=false&discretize=true&percTrainData=60&x=true&y=true&xTimesY=false&xSquared=false&ySquared=false&cosX=false&sinX=false&cosY=false&sinY=false&collectStats=false&problem=classification&initZero=false&hideText=false) en tu navegador.\n",
    "\n",
    "Responde las siguientes preguntas:\n",
    "\n",
    "1. ¿El modelo es capaz de ajustarse a los datos de entrenamiento? ¿Por qué?\n",
    "2. ¿Los datos en la vida real se parecen a este ejemplo?\n",
    "3. ¿Cómo es el error de entrenamiento y el error de validación?"
   ]
  },
  {
   "cell_type": "markdown",
   "metadata": {},
   "source": [
    "## <font style=\"color:rgb(50, 120, 229);\"> Ejemplo 4: </font>\n",
    "\n",
    "Al ejemplo anterior se le ha añadido ruido. Abre el siguiente [ejemplo](https://playground.tensorflow.org/#activation=relu&batchSize=10&dataset=circle&regDataset=reg-plane&learningRate=0.03&regularizationRate=0&noise=35&networkShape=8,8,8,4,4,2&seed=0.16178&showTestData=false&discretize=true&percTrainData=60&x=true&y=true&xTimesY=false&xSquared=false&ySquared=false&cosX=false&sinX=false&cosY=false&sinY=false&collectStats=false&problem=classification&initZero=false&hideText=false) en tu navegador.\n",
    "\n",
    "Responde las siguientes preguntas:\n",
    "\n",
    "1. ¿Qué pasa con el error de entrenamiento y el error de validación al añadir ruido?\n",
    "2. ¿El modelo está sobreajustado o subajustado? ¿Por qué?\n",
    "3. En la vida real, ¿a que se debe el ruido en los datos?\n",
    "4. ¿Cómo mejorarías el modelo para que se ajuste mejor a los datos?"
   ]
  }
 ],
 "metadata": {
  "language_info": {
   "name": "python"
  }
 },
 "nbformat": 4,
 "nbformat_minor": 2
}
