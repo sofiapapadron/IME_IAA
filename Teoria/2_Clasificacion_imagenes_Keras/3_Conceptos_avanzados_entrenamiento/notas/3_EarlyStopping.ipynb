{
 "cells": [
  {
   "cell_type": "markdown",
   "metadata": {},
   "source": [
    "# <font style=\"color:rgb(50, 120, 229);\"> Early Stopping en Keras </font>\n",
    "\n",
    "Sabemos que el sobreajuste es un problema común en el aprendizaje profundo.\n",
    "\n",
    "Si observamos la curva de aprendizaje de nuestro modelo, podemos identificar el sobreajuste si el error de validación es mucho mayor que el error de entrenamiento.\n",
    "\n",
    "<center>\n",
    "<img src=\"./images/sobreajuste.png\" width=\"500px\">\n",
    "</center>"
   ]
  },
  {
   "cell_type": "markdown",
   "metadata": {},
   "source": [
    "<font style=\"color:rgb(50, 120, 229);\">**¿Podemos detener el entrenamiento en una época fija para evitar el sobreajuste?**</font>\n",
    "\n",
    "Imaginemos que el sobreajuste del modelo anterior sucede en la época 100, podríamos pensar en detener el entrenamiento en la época 100 para evitar el sobreajuste. \n",
    "\n",
    "Sin embargo debido a que los parámetros del modelo se inicializan aleatoriamente, el sobreajuste puede ocurrir en diferentes épocas en diferentes ejecuciones. Por lo tanto, no podemos detener el entrenamiento en una época fija."
   ]
  },
  {
   "cell_type": "markdown",
   "metadata": {},
   "source": [
    "<font style=\"color:rgb(50, 120, 229);\">**¿Podemos detener el entrenamiento cuando el error de validación comienza a aumentar?**</font>\n",
    "\n",
    "Keras proporciona una técnica llamada \"Early Stopping\" que detiene el entrenamiento cuando el error de validación comienza a aumentar, es decir, cuando el modelo comienza a sobreajustarse.\n",
    "\n",
    "<font style=\"color:rgb(8, 133, 37);\">**Sintaxis:**</font>\n",
    "\n",
    "```python\n",
    "from keras.callbacks import EarlyStopping\n",
    "\n",
    "early_stopping = EarlyStopping(monitor='val_loss', patience=5)\n",
    "\n",
    "model.fit(X_train, y_train, validation_data=(X_valid, y_valid), epochs=100, callbacks=[early_stopping])\n",
    "```\n",
    "\n",
    "**Parámetros:**\n",
    "\n",
    "- **monitor:** La métrica que se utilizará para monitorear el modelo. En este caso, estamos monitoreando la pérdida de validación.\n",
    "- **patience:** Número de épocas sin mejora después de las cuales el entrenamiento se detendrá. En este caso, si el error de validación no mejora durante 5 épocas, el entrenamiento se detendrá."
   ]
  },
  {
   "cell_type": "markdown",
   "metadata": {},
   "source": [
    "<font style=\"color:rgb(50, 120, 229);\">**Entendiendo el parámetro \"patience\"**</font>\n",
    "\n",
    "Supongamos que configuramos \"patience\" en 2. Esto significa que el entrenamiento se detendrá si el error de validación no mejora durante 2 épocas consecutivas.\n",
    "\n",
    "Supongamos que entrenamos el modelo durante 100 épocas y obtenemos los siguientes errores de validación en cada época:\n",
    "\n",
    "<table>\n",
    "    <tr>\n",
    "        <th>Época</th>\n",
    "        <th>Error de Validación</th>\n",
    "        <th> Epochs sin mejora </th>\n",
    "    </tr>\n",
    "    <tr style=\"color:green\">\n",
    "        <td>1</td>\n",
    "        <td>0.1</td>\n",
    "        <td>0</td>\n",
    "    </tr>\n",
    "    <tr style=\"color:green\">\n",
    "        <td>2</td>\n",
    "        <td>0.09</td>\n",
    "        <td>0</td>\n",
    "    </tr>\n",
    "    <tr style=\"color:green\">\n",
    "        <td>3</td>\n",
    "        <td>0.08</td>\n",
    "        <td>0</td>\n",
    "    </tr>\n",
    "    <tr style=\"color:red\">\n",
    "        <td>4</td>\n",
    "        <td>0.09</td>\n",
    "        <td>1</td>\n",
    "    </tr>\n",
    "    <tr style=\"color:red\">\n",
    "        <td>5</td>\n",
    "        <td>0.08</td>\n",
    "        <td>2</td>\n",
    "    </tr>\n",
    "<table>\n"
   ]
  },
  {
   "cell_type": "markdown",
   "metadata": {},
   "source": [
    "Observa que aun que hayamos especificado 100 épocas, el entrenamiento se detiene en la época 5 porque el error de validación no ha mejorado durante 2 épocas."
   ]
  }
 ],
 "metadata": {
  "language_info": {
   "name": "python"
  }
 },
 "nbformat": 4,
 "nbformat_minor": 2
}
