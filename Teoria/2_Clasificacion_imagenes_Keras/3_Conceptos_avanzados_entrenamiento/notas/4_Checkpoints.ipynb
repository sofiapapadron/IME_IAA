{
 "cells": [
  {
   "cell_type": "markdown",
   "metadata": {},
   "source": [
    "# <font style=\"color:rgb(50, 120, 229);\"> Model Checkpoint en Keras </font>"
   ]
  },
  {
   "cell_type": "markdown",
   "metadata": {},
   "source": [
    "Cuando entrenamos un modelo de aprendizaje profundo, nos intersa guardar el modelo para poder utilizarlo en el futuro.\n",
    "\n",
    "El problema es que no siempre sabemos en que momento deberiamos guardar el modelo, si esperamos al final del entrenamiento, puede que el modelo haya sobreajustado los datos y no sea muy bueno.\n",
    "\n",
    "Para solucionar este problema Keras nos ofrece la clase `ModelCheckpoint` que nos permite guardar el modelo en un archivo en el disco en cualquier momento del entrenamiento."
   ]
  },
  {
   "cell_type": "markdown",
   "metadata": {},
   "source": [
    "<font style=\"color:rgb(8, 133, 37);\">**Sintaxis:**</font>\n",
    "\n",
    "```python\n",
    "from keras.callbacks import ModelCheckpoint\n",
    "\n",
    "checkpoint = ModelCheckpoint(filepath, monitor='val_loss', verbose=1, save_best_only=True, mode='min')\n",
    "\n",
    "model.fit(X_train, y_train, validation_data=(X_valid, y_valid), epochs=100, batch_size=64, callbacks=[checkpoint])\n",
    "```\n",
    "\n",
    "**Parámetros:**\n",
    "\n",
    "- **filepath:** Es la ruta donde se guardará el modelo.\n",
    "- **monitor:** Es la métrica que se va a monitorear, en este caso estamos monitoreando la pérdida en el conjunto de validación. Cada iteración en la que exista una mejora en la pérdida del conjunto de validación, se guardará el modelo.\n",
    "- **verbose:** Especifica la cantidad de información que se mostrará en pantalla. Si es 1, se mostrará información sobre el guardado del modelo.\n",
    "- **save_best_only:** Si es True, solo se guardará el mejor modelo.\n",
    "- **mode:** Especifica si la métrica monitoreada debe ser maximizada o minimizada. En este caso estamos minimizando la pérdida."
   ]
  }
 ],
 "metadata": {
  "language_info": {
   "name": "python"
  }
 },
 "nbformat": 4,
 "nbformat_minor": 2
}
