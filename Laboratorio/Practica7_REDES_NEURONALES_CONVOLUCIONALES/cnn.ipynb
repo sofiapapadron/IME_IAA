{
 "cells": [
  {
   "cell_type": "markdown",
   "metadata": {},
   "source": [
    "# Introduccióna a las redes neuronales convolucionales"
   ]
  },
  {
   "cell_type": "markdown",
   "metadata": {},
   "source": [
    "En este ejemplo se diseñará una red neuronal convolucional que pueda clasificar digitos escritos a mano."
   ]
  },
  {
   "cell_type": "markdown",
   "metadata": {},
   "source": [
    "## Cargar los datos"
   ]
  },
  {
   "cell_type": "code",
   "execution_count": 1,
   "metadata": {},
   "outputs": [],
   "source": [
    "#Cargar dataset del MNIST\n",
    "\n",
    "from keras.datasets import mnist\n",
    "\n",
    "# Cargar dataset\n",
    "(train_images, train_labels), (test_images, test_labels) = mnist.load_data()"
   ]
  },
  {
   "cell_type": "markdown",
   "metadata": {},
   "source": [
    "El dataset del MNIST contiene digitos del 0 al 9 escritos a mano"
   ]
  },
  {
   "cell_type": "code",
   "execution_count": 7,
   "metadata": {},
   "outputs": [
    {
     "name": "stderr",
     "output_type": "stream",
     "text": [
      "C:\\Users\\97ped\\AppData\\Local\\Temp\\ipykernel_4280\\621209513.py:9: MatplotlibDeprecationWarning: Auto-removal of overlapping axes is deprecated since 3.6 and will be removed two minor releases later; explicitly call ax.remove() as needed.\n",
      "  plt.subplot(5, 5, len(shown_digits) + 1)\n"
     ]
    },
    {
     "data": {
      "image/png": "[encoded data removed]",
      "text/plain": [
       "<Figure size 1000x1000 with 10 Axes>"
      ]
     },
     "metadata": {},
     "output_type": "display_data"
    }
   ],
   "source": [
    "import matplotlib.pyplot as plt\n",
    "shown_digits = set()\n",
    "\n",
    "plt.subplots(figsize=(10, 10))\n",
    "for idx, image in enumerate(train_images):\n",
    "    if train_labels[idx] not in shown_digits:\n",
    "        plt.subplot(5, 5, len(shown_digits) + 1)\n",
    "        plt.imshow(image, cmap=plt.cm.gray_r)\n",
    "        plt.axis('off')\n",
    "        plt.title('Digito: %i' % train_labels[idx])\n",
    "        shown_digits.add(train_labels[idx])\n",
    "plt.show()"
   ]
  },
  {
   "cell_type": "markdown",
   "metadata": {},
   "source": [
    "## Prepocesamiento"
   ]
  },
  {
   "cell_type": "markdown",
   "metadata": {},
   "source": [
    "Cada digito es un arreglo de Numpy de 8 bits sin signo de 28 pixeles de alto y 28 pixeles de anchos"
   ]
  },
  {
   "cell_type": "code",
   "execution_count": 8,
   "metadata": {},
   "outputs": [
    {
     "name": "stdout",
     "output_type": "stream",
     "text": [
      "Dimensiones de la imagen: (28, 28), tipo de dato: uint8\n"
     ]
    }
   ],
   "source": [
    "print(f\"Dimensiones de la imagen: {train_images[0].shape}, tipo de dato: {train_images[0].dtype}\")"
   ]
  },
  {
   "cell_type": "markdown",
   "metadata": {},
   "source": [
    "En este caso tenemos imágenes en escala de grises, Keras nos pide especificar el número de canales en estas imágenes, por lo que tenemos que convertir cada imagen de (28, 28) a (28, 28, 1)\n",
    "\n",
    "Podemos hacer esto utilizando el método reshape de Numpy"
   ]
  },
  {
   "cell_type": "code",
   "execution_count": null,
   "metadata": {},
   "outputs": [],
   "source": [
    "x = #TODO: Convertir a una imagen de 28x28x1"
   ]
  },
  {
   "cell_type": "markdown",
   "metadata": {},
   "source": [
    "Otro paso importante de preprocesamiento es la normlización, al tener imagenes de 8 bits sin signo, el valor máximo que un pixel puede alcanzar es 255, vamos a normalizar convertiendo los datos de entrada al tipo float32 y dividiendolos entre 255 para tener pixeles en el rango de $[0, 1]$ "
   ]
  },
  {
   "cell_type": "code",
   "execution_count": null,
   "metadata": {},
   "outputs": [],
   "source": [
    "x = #TODO: Convertir a float32\n",
    "x = #TODO: Normalizar los valores entre 0 y 1"
   ]
  },
  {
   "cell_type": "markdown",
   "metadata": {},
   "source": [
    "Las salidas en nuestro caso es el digito al que corresponde la imagen de entrada, vamos a resolver el problema utilizando clasificación multiclase, por lo que aplicaremos one hot encoding para codificar las etiquetas"
   ]
  },
  {
   "cell_type": "code",
   "execution_count": null,
   "metadata": {},
   "outputs": [],
   "source": [
    "from keras.utils import to_categorical\n",
    "\n",
    "y = to_categorical(train_labels, num_classes=10)"
   ]
  },
  {
   "cell_type": "markdown",
   "metadata": {},
   "source": [
    "## Definir la arquitectura de la red"
   ]
  },
  {
   "cell_type": "markdown",
   "metadata": {},
   "source": [
    "Para este problema utilizaremos la aquitectura LeNet-5.\n",
    "\n",
    "LeNet-5 es una arquitectura de red neuronal convolucional (CNN) que fue desarrollada por Yann LeCun en 1998. \n",
    "\n",
    "Fue una de las primeras CNNs exitosas y se utilizó principalmente para tareas de reconocimiento de dígitos escritos a mano, como el reconocimiento de caracteres numéricos en cheques bancarios.\n",
    "\n",
    "La arquitectura LeNet-5 consta de las siguientes capas principales:\n",
    "\n",
    "- La primera capa convolucional aplica 6 filtros de 5x5 píxeles. \n",
    "    Se utilizan funciones de activación tipo ReLU (Rectified Linear Unit) después de cada convolución.\n",
    "\n",
    "- Después de la primera capa convolucional, LeNet-5 utiliza capas de pooling de 2x2 pixeles para reducir la dimensionalidad.\n",
    "\n",
    "- Después de la capa de pooling, se aplica una segunda capa convolucional con 16 filtros de 5x5 píxeles.\n",
    "    Al igual que en la primera capa convolucional, se utilizan funciones de activación ReLU.\n",
    "\n",
    "- Se aplica otra capa de pooling para reducir la dimensionalidad antes de la capa completamente conectada.\n",
    "\n",
    "- Después de las capas convolucionales y de pooling, se conectan dos capas completamente conectadas (fully connected) con 120 y 84 neuronas, respectivamente.\n",
    "Se utilizan funciones de activación ReLU en estas capas.\n",
    "\n",
    "- La capa de salida consiste en un conjunto de neuronas igual al número de clases de salida en la tarea."
   ]
  },
  {
   "cell_type": "markdown",
   "metadata": {},
   "source": [
    "`NOTA: Recuerde que antes de la primer capa totalmente conectada se utiliza una capa Flatten`"
   ]
  },
  {
   "cell_type": "code",
   "execution_count": null,
   "metadata": {},
   "outputs": [],
   "source": [
    "from keras.layers import Conv2D, MaxPooling2D, Flatten, Dense\n",
    "\n",
    "#TODO: Crear el modelo"
   ]
  },
  {
   "cell_type": "code",
   "execution_count": null,
   "metadata": {},
   "outputs": [],
   "source": [
    "#TODO: Compilar el modelo"
   ]
  },
  {
   "cell_type": "code",
   "execution_count": null,
   "metadata": {},
   "outputs": [],
   "source": [
    "#TODO: Entrenar el modelo"
   ]
  },
  {
   "cell_type": "code",
   "execution_count": null,
   "metadata": {},
   "outputs": [],
   "source": [
    "#TODO: Evaluar el modelo con los datos de test"
   ]
  },
  {
   "cell_type": "code",
   "execution_count": null,
   "metadata": {},
   "outputs": [],
   "source": [
    "#TODO: Guardar el modelo"
   ]
  }
 ],
 "metadata": {
  "kernelspec": {
   "display_name": "venv",
   "language": "python",
   "name": "python3"
  },
  "language_info": {
   "codemirror_mode": {
    "name": "ipython",
    "version": 3
   },
   "file_extension": ".py",
   "mimetype": "text/x-python",
   "name": "python",
   "nbconvert_exporter": "python",
   "pygments_lexer": "ipython3",
   "version": "3.11.0"
  },
  "orig_nbformat": 4
 },
 "nbformat": 4,
 "nbformat_minor": 2
}
