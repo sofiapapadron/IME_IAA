{
 "cells": [
  {
   "cell_type": "markdown",
   "metadata": {
    "id": "b7l5Fn9pGOKK",
    "slideshow": {
     "slide_type": "slide"
    }
   },
   "source": [
    "# Selección de  datos"
   ]
  },
  {
   "cell_type": "markdown",
   "metadata": {
    "id": "xYI8YOhMGZUF",
    "slideshow": {
     "slide_type": "slide"
    }
   },
   "source": [
    "Seleccionar datos significa extraer una parte específica de un arreglo NumPy para realizar operaciones adicionales, como cálculos estadísticos, visualización de datos, modelado de datos y más.\n",
    "\n",
    "Al seleccionar solo los datos necesarios, se evita tener que trabajar con todo el conjunto de datos, lo que puede reducir el tiempo de procesamiento."
   ]
  },
  {
   "cell_type": "code",
   "execution_count": null,
   "metadata": {
    "id": "vcRBUO5Cagab",
    "slideshow": {
     "slide_type": "fragment"
    }
   },
   "outputs": [],
   "source": [
    "import numpy as np"
   ]
  },
  {
   "cell_type": "markdown",
   "metadata": {
    "id": "fdcbPQGfZcs7",
    "slideshow": {
     "slide_type": "slide"
    }
   },
   "source": [
    "### Indexing\n"
   ]
  },
  {
   "cell_type": "markdown",
   "metadata": {
    "id": "ZIarT53LS9Bd",
    "slideshow": {
     "slide_type": "subslide"
    }
   },
   "source": [
    "Los elementos de un arreglo NumPy se pueden acceder mediante índices, que son números enteros que representan la posición del elemento en el arreglo.\n",
    "\n",
    "Al igual que en otros lenguajes de programación, los índices de los arreglos comienzan en cero (0). "
   ]
  },
  {
   "cell_type": "code",
   "execution_count": null,
   "metadata": {
    "colab": {
     "base_uri": "https://localhost:8080/"
    },
    "executionInfo": {
     "elapsed": 4,
     "status": "ok",
     "timestamp": 1680059602896,
     "user": {
      "displayName": "Pedro David Juarez Leyva",
      "userId": "05005826362094932071"
     },
     "user_tz": 360
    },
    "id": "OJe9ClD7ZsOq",
    "outputId": "f304d195-9e24-4789-9c66-0a756e4c6d23",
    "slideshow": {
     "slide_type": "fragment"
    }
   },
   "outputs": [],
   "source": [
    "a = np.array([1, 2, 3, 4, 5])\n",
    "print(a[2]) "
   ]
  },
  {
   "cell_type": "markdown",
   "metadata": {
    "id": "M1rDC45Jax1N",
    "slideshow": {
     "slide_type": "subslide"
    }
   },
   "source": [
    "Dependiendo de las dimensiones del arreglo, será necesario especificar más índices para acceder a un único valor"
   ]
  },
  {
   "cell_type": "code",
   "execution_count": null,
   "metadata": {
    "colab": {
     "base_uri": "https://localhost:8080/"
    },
    "executionInfo": {
     "elapsed": 2,
     "status": "ok",
     "timestamp": 1680059602896,
     "user": {
      "displayName": "Pedro David Juarez Leyva",
      "userId": "05005826362094932071"
     },
     "user_tz": 360
    },
    "id": "gXXLmsd2avRx",
    "outputId": "4ebc4b90-246f-40f5-a444-2f33e3552437",
    "slideshow": {
     "slide_type": "fragment"
    }
   },
   "outputs": [],
   "source": [
    "b = np.array([[1, 2, 3], [4, 5, 6], [7, 8, 9]])\n",
    "print(b[1, 2]) "
   ]
  },
  {
   "cell_type": "markdown",
   "metadata": {
    "id": "rvr5CDKfa8tZ",
    "slideshow": {
     "slide_type": "subslide"
    }
   },
   "source": [
    "En caso de especificar menos el resultado sera un arreglo"
   ]
  },
  {
   "cell_type": "code",
   "execution_count": null,
   "metadata": {
    "colab": {
     "base_uri": "https://localhost:8080/"
    },
    "executionInfo": {
     "elapsed": 4,
     "status": "ok",
     "timestamp": 1680059603049,
     "user": {
      "displayName": "Pedro David Juarez Leyva",
      "userId": "05005826362094932071"
     },
     "user_tz": 360
    },
    "id": "mCVkruRca8Xx",
    "outputId": "c46bead4-c537-48ce-84bc-4ffb6407c9be",
    "slideshow": {
     "slide_type": "fragment"
    }
   },
   "outputs": [],
   "source": [
    "b = np.array([[1, 2, 3], [4, 5, 6], [7, 8, 9]])\n",
    "print(b[0])"
   ]
  },
  {
   "cell_type": "markdown",
   "metadata": {
    "id": "_PIw_gdKbpkI",
    "slideshow": {
     "slide_type": "slide"
    }
   },
   "source": [
    "### Slicing\n"
   ]
  },
  {
   "cell_type": "markdown",
   "metadata": {
    "id": "6Ezojf6DXcLB",
    "slideshow": {
     "slide_type": "subslide"
    }
   },
   "source": [
    "Las rebanadas o slices permiten acceder a subconjuntos de elementos de un arreglo NumPy. \n",
    "\n"
   ]
  },
  {
   "cell_type": "markdown",
   "metadata": {
    "slideshow": {
     "slide_type": "fragment"
    }
   },
   "source": [
    "Las rebanadas se especifican mediante una notación de índices `[start:stop:step]`, donde `start` es el índice de inicio, `stop` es el índice final (***no se incluye en la selección***), y `step` es el número de elementos que se salta entre índices.\n"
   ]
  },
  {
   "cell_type": "markdown",
   "metadata": {
    "slideshow": {
     "slide_type": "fragment"
    }
   },
   "source": [
    "\n",
    "El resultado siempre sera otro arreglo de NumPy."
   ]
  },
  {
   "cell_type": "code",
   "execution_count": null,
   "metadata": {
    "colab": {
     "base_uri": "https://localhost:8080/"
    },
    "executionInfo": {
     "elapsed": 3,
     "status": "ok",
     "timestamp": 1680059603049,
     "user": {
      "displayName": "Pedro David Juarez Leyva",
      "userId": "05005826362094932071"
     },
     "user_tz": 360
    },
    "id": "6BE_PXA-bxFJ",
    "outputId": "7b5b7646-3aa4-4a28-8cc7-b78bea163ea4",
    "slideshow": {
     "slide_type": "subslide"
    }
   },
   "outputs": [],
   "source": [
    "a = np.array([0, 1, 2, 3, 4, 5, 6, 7, 8, 9])\n",
    "\n",
    "#El ultimi indice no se incluye\n",
    "subarreglo = a[2:6]\n",
    "print(subarreglo)"
   ]
  },
  {
   "cell_type": "code",
   "execution_count": null,
   "metadata": {
    "colab": {
     "base_uri": "https://localhost:8080/"
    },
    "executionInfo": {
     "elapsed": 4,
     "status": "ok",
     "timestamp": 1680059603050,
     "user": {
      "displayName": "Pedro David Juarez Leyva",
      "userId": "05005826362094932071"
     },
     "user_tz": 360
    },
    "id": "hzh1-MELeIfT",
    "outputId": "78dfed00-cfa7-44dd-a0cd-e18d0767faa4",
    "slideshow": {
     "slide_type": "subslide"
    }
   },
   "outputs": [],
   "source": [
    "a = np.array([[ 0,  1,  2,  3],\n",
    "              [ 4,  5,  6,  7],\n",
    "              [ 8,  9, 10, 11],\n",
    "              [12, 13, 14, 15]])\n",
    "\n",
    "submatriz = a[1:3, 1:3]\n",
    "print(submatriz)"
   ]
  },
  {
   "cell_type": "markdown",
   "metadata": {
    "id": "G1iHiUA2e9hJ",
    "slideshow": {
     "slide_type": "subslide"
    }
   },
   "source": [
    "Si no se especifica alguno de los dos índices en el slicing, se considera que se desea extraer todos los elementos hasta el final de la dimensión correspondiente."
   ]
  },
  {
   "cell_type": "code",
   "execution_count": null,
   "metadata": {
    "colab": {
     "base_uri": "https://localhost:8080/"
    },
    "executionInfo": {
     "elapsed": 3,
     "status": "ok",
     "timestamp": 1680059603050,
     "user": {
      "displayName": "Pedro David Juarez Leyva",
      "userId": "05005826362094932071"
     },
     "user_tz": 360
    },
    "id": "F0iYzSU6guPn",
    "outputId": "fa1303cc-68f5-46d3-e054-edbafac16f84",
    "slideshow": {
     "slide_type": "fragment"
    }
   },
   "outputs": [],
   "source": [
    "a = np.array([0, 1, 2, 3, 4, 5, 6, 7, 8, 9])\n",
    "\n",
    "subarreglo = a[:5]\n",
    "print(subarreglo)"
   ]
  },
  {
   "cell_type": "code",
   "execution_count": null,
   "metadata": {
    "colab": {
     "base_uri": "https://localhost:8080/"
    },
    "executionInfo": {
     "elapsed": 223,
     "status": "ok",
     "timestamp": 1680059603270,
     "user": {
      "displayName": "Pedro David Juarez Leyva",
      "userId": "05005826362094932071"
     },
     "user_tz": 360
    },
    "id": "WvfsidS5g2io",
    "outputId": "24ef498e-1856-4ccd-b4b1-678a8d5d6220",
    "slideshow": {
     "slide_type": "subslide"
    }
   },
   "outputs": [],
   "source": [
    "a = np.array([0, 1, 2, 3, 4, 5, 6, 7, 8, 9])\n",
    "\n",
    "subarreglo = a[5:]\n",
    "print(subarreglo)"
   ]
  },
  {
   "cell_type": "markdown",
   "metadata": {
    "id": "-2t04CuQuMon",
    "slideshow": {
     "slide_type": "slide"
    }
   },
   "source": [
    "### Sorting\n"
   ]
  },
  {
   "cell_type": "markdown",
   "metadata": {
    "id": "bSWDM8knu1qi",
    "slideshow": {
     "slide_type": "subslide"
    }
   },
   "source": [
    "Entre las funcionalidades que ofrece NumPy se encuentra la posibilidad de ordenar los elementos de un array de forma ascendente o descendente.\n",
    "\n",
    "Para ordenar los elementos de un array de NumPy, se puede utilizar la función `sort()`. Esta función acepta como parámetros el array que se quiere ordenar y el eje a lo largo del cual se realizará la ordenación."
   ]
  },
  {
   "cell_type": "code",
   "execution_count": null,
   "metadata": {
    "colab": {
     "base_uri": "https://localhost:8080/"
    },
    "executionInfo": {
     "elapsed": 4,
     "status": "ok",
     "timestamp": 1680059603271,
     "user": {
      "displayName": "Pedro David Juarez Leyva",
      "userId": "05005826362094932071"
     },
     "user_tz": 360
    },
    "id": "24hbsFL5uTLn",
    "outputId": "324d4370-7d00-4608-cd08-8efb815ee8af",
    "slideshow": {
     "slide_type": "fragment"
    }
   },
   "outputs": [],
   "source": [
    "arr = np.array([3, 1, 4, 1, 5, 9, 2, 6, 5, 3])\n",
    "print(arr)\n",
    "\n",
    "arr = np.sort(arr)\n",
    "print(arr)"
   ]
  },
  {
   "cell_type": "code",
   "execution_count": null,
   "metadata": {
    "colab": {
     "base_uri": "https://localhost:8080/"
    },
    "executionInfo": {
     "elapsed": 3,
     "status": "ok",
     "timestamp": 1680059603271,
     "user": {
      "displayName": "Pedro David Juarez Leyva",
      "userId": "05005826362094932071"
     },
     "user_tz": 360
    },
    "id": "N-N8QNo6vt2C",
    "outputId": "293938e6-d901-4059-eea2-852724a41715",
    "slideshow": {
     "slide_type": "subslide"
    }
   },
   "outputs": [],
   "source": [
    "arr = np.array([[3, 2, 1],\n",
    "                [6, 5, 4]])\n",
    "\n",
    "print(np.sort(arr, axis=1))\n"
   ]
  },
  {
   "cell_type": "markdown",
   "metadata": {
    "id": "kvm478_2_gQw",
    "slideshow": {
     "slide_type": "slide"
    }
   },
   "source": [
    "### Filtering\n"
   ]
  },
  {
   "cell_type": "markdown",
   "metadata": {
    "id": "pzWdYpK7ytU4",
    "slideshow": {
     "slide_type": "subslide"
    }
   },
   "source": [
    "Se pueden filtrar los elementos de un array utilizando una expresión booleana para seleccionar solo los elementos que cumplen una determinada condición."
   ]
  },
  {
   "cell_type": "code",
   "execution_count": null,
   "metadata": {
    "id": "aMf7MIsaBka3",
    "slideshow": {
     "slide_type": "fragment"
    }
   },
   "outputs": [],
   "source": [
    "array = np.array([1, 2, 3, 4, 5, 6, 7])"
   ]
  },
  {
   "cell_type": "markdown",
   "metadata": {
    "id": "o__LTjArzLsQ",
    "slideshow": {
     "slide_type": "subslide"
    }
   },
   "source": [
    "En este caso, la expresión arr > 3 devuelve un array booleano con True para los elementos que cumplen la condición y False para los elementos que no. \n",
    "\n",
    "Luego, se utiliza este array booleano para seleccionar solo los elementos correspondientes del array original utilizando la sintaxis de indexación booleana."
   ]
  },
  {
   "cell_type": "code",
   "execution_count": null,
   "metadata": {
    "colab": {
     "base_uri": "https://localhost:8080/"
    },
    "executionInfo": {
     "elapsed": 3,
     "status": "ok",
     "timestamp": 1680059603271,
     "user": {
      "displayName": "Pedro David Juarez Leyva",
      "userId": "05005826362094932071"
     },
     "user_tz": 360
    },
    "id": "vS_hViwUP2Me",
    "outputId": "c322863d-2c6c-434b-d995-f42ba5b7948d",
    "slideshow": {
     "slide_type": "fragment"
    }
   },
   "outputs": [],
   "source": [
    "print(array > 3)\n",
    "\n",
    "print(array[array > 3])"
   ]
  },
  {
   "cell_type": "markdown",
   "metadata": {
    "id": "OequISGzP8aG",
    "slideshow": {
     "slide_type": "subslide"
    }
   },
   "source": [
    "También es posible combinar varias condiciones utilizando los operadores & (and) y | (or)."
   ]
  },
  {
   "cell_type": "code",
   "execution_count": null,
   "metadata": {
    "colab": {
     "base_uri": "https://localhost:8080/"
    },
    "executionInfo": {
     "elapsed": 290,
     "status": "ok",
     "timestamp": 1680059603559,
     "user": {
      "displayName": "Pedro David Juarez Leyva",
      "userId": "05005826362094932071"
     },
     "user_tz": 360
    },
    "id": "FgpoTaSGQBvN",
    "outputId": "613c16c1-40db-47ad-e2eb-2c962098a4b2",
    "slideshow": {
     "slide_type": "fragment"
    }
   },
   "outputs": [],
   "source": [
    "print( array[(array > 2) & (array < 5)] )"
   ]
  },
  {
   "cell_type": "markdown",
   "metadata": {
    "id": "7G38w_2n1qIA",
    "slideshow": {
     "slide_type": "slide"
    }
   },
   "source": [
    "# Manipulación de arreglos"
   ]
  },
  {
   "cell_type": "markdown",
   "metadata": {
    "id": "j9x5mADm2xrt",
    "slideshow": {
     "slide_type": "slide"
    }
   },
   "source": [
    "### Agregar elementos\n"
   ]
  },
  {
   "cell_type": "markdown",
   "metadata": {
    "id": "cKJDGVYqWcJT",
    "slideshow": {
     "slide_type": "subslide"
    }
   },
   "source": [
    "Para agregar elementos a un arreglo NumPy, se puede utilizar la función `np.append() `.\n",
    "\n",
    "Esta función permite agregar elementos al final de un arreglo existente y devuelve un nuevo arreglo con los elementos agregados."
   ]
  },
  {
   "cell_type": "code",
   "execution_count": null,
   "metadata": {
    "colab": {
     "base_uri": "https://localhost:8080/"
    },
    "executionInfo": {
     "elapsed": 127,
     "status": "ok",
     "timestamp": 1680059622256,
     "user": {
      "displayName": "Pedro David Juarez Leyva",
      "userId": "05005826362094932071"
     },
     "user_tz": 360
    },
    "id": "4SXJtziN20db",
    "outputId": "d8b52f0f-dd18-4a9b-e200-46314ab674fb",
    "slideshow": {
     "slide_type": "fragment"
    }
   },
   "outputs": [],
   "source": [
    "arr = np.array([1, 2, 3])\n",
    "\n",
    "arr = np.append(arr, 4)\n",
    "print(arr)"
   ]
  },
  {
   "cell_type": "markdown",
   "metadata": {
    "id": "SZFjZYdlW8iW",
    "slideshow": {
     "slide_type": "subslide"
    }
   },
   "source": [
    "También se pueden agregar varios elementos a la vez, pasándolos como una lista"
   ]
  },
  {
   "cell_type": "code",
   "execution_count": null,
   "metadata": {
    "colab": {
     "base_uri": "https://localhost:8080/"
    },
    "executionInfo": {
     "elapsed": 265,
     "status": "ok",
     "timestamp": 1680059672606,
     "user": {
      "displayName": "Pedro David Juarez Leyva",
      "userId": "05005826362094932071"
     },
     "user_tz": 360
    },
    "id": "-DQnVnjvW2u5",
    "outputId": "a2a1a938-2b8c-41ad-f3fa-9a29ed5db53b",
    "slideshow": {
     "slide_type": "fragment"
    }
   },
   "outputs": [],
   "source": [
    "arr = np.append(arr, [5, 6, 7])\n",
    "print(arr)"
   ]
  },
  {
   "cell_type": "markdown",
   "metadata": {
    "id": "IZzX3ZiRXRhX",
    "slideshow": {
     "slide_type": "slide"
    }
   },
   "source": [
    "## Eliminar elementos"
   ]
  },
  {
   "cell_type": "markdown",
   "metadata": {
    "id": "d2_Soykr95vl",
    "slideshow": {
     "slide_type": "fragment"
    }
   },
   "source": [
    "En NumPy, se pueden eliminar elementos de un arreglo utilizando la función `np.delete(). `\n",
    "Esta función toma tres argumentos: el arreglo del cual se eliminarán los elementos, el índice o los índices de los elementos a eliminar, y el eje a lo largo del cual se realizará la eliminación (opcional).\n"
   ]
  },
  {
   "cell_type": "markdown",
   "metadata": {
    "slideshow": {
     "slide_type": "subslide"
    }
   },
   "source": [
    "\n",
    "Es importante tener en cuenta que la función devuelve un nuevo arreglo sin los elementos eliminados, por lo que es necesario asignar el resultado a una variable si se desea mantener el arreglo original sin cambios."
   ]
  },
  {
   "cell_type": "code",
   "execution_count": null,
   "metadata": {
    "colab": {
     "base_uri": "https://localhost:8080/"
    },
    "executionInfo": {
     "elapsed": 1,
     "status": "ok",
     "timestamp": 1680059795594,
     "user": {
      "displayName": "Pedro David Juarez Leyva",
      "userId": "05005826362094932071"
     },
     "user_tz": 360
    },
    "id": "A9ykzxDY-IWZ",
    "outputId": "7872b5ef-0871-4ece-9213-b43d297c638d",
    "slideshow": {
     "slide_type": "fragment"
    }
   },
   "outputs": [],
   "source": [
    "arr = np.array([1, 2, 3, 4, 5])\n",
    "\n",
    "arr = np.delete(arr, 2)\n",
    "print(arr)"
   ]
  },
  {
   "cell_type": "markdown",
   "metadata": {
    "id": "BGQkgmaxXc83",
    "slideshow": {
     "slide_type": "subslide"
    }
   },
   "source": [
    "También se pueden eliminar múltiples elementos pasando una lista de índices a la función"
   ]
  },
  {
   "cell_type": "code",
   "execution_count": null,
   "metadata": {
    "colab": {
     "base_uri": "https://localhost:8080/"
    },
    "executionInfo": {
     "elapsed": 102,
     "status": "ok",
     "timestamp": 1680059796310,
     "user": {
      "displayName": "Pedro David Juarez Leyva",
      "userId": "05005826362094932071"
     },
     "user_tz": 360
    },
    "id": "dlDdH_YUXaH2",
    "outputId": "b36e13ec-d181-4a76-fa9a-a41b54c31a23",
    "slideshow": {
     "slide_type": "fragment"
    }
   },
   "outputs": [],
   "source": [
    "arr = np.delete(arr, [1, 3])\n",
    "print(arr)"
   ]
  },
  {
   "cell_type": "markdown",
   "metadata": {
    "id": "NU5PMyFSXo1G",
    "slideshow": {
     "slide_type": "fragment"
    }
   },
   "source": [
    "También se puede especificar el eje a lo largo del cual se realizará la eliminación, en caso de tener un arreglo multidimensional"
   ]
  },
  {
   "cell_type": "markdown",
   "metadata": {
    "id": "0DesfO3NeD_C",
    "slideshow": {
     "slide_type": "slide"
    }
   },
   "source": [
    "## Modificar dimensiones de un arreglo"
   ]
  },
  {
   "cell_type": "markdown",
   "metadata": {
    "id": "WnmXQ2rTeIVq",
    "slideshow": {
     "slide_type": "fragment"
    }
   },
   "source": [
    "En NumPy, es posible modificar la forma o dimensiones de un arreglo utilizando el método `reshape().` \n",
    "\n",
    "\n"
   ]
  },
  {
   "cell_type": "markdown",
   "metadata": {
    "slideshow": {
     "slide_type": "fragment"
    }
   },
   "source": [
    "Este método devuelve un nuevo arreglo con la misma cantidad de elementos que el arreglo original, pero con una forma diferente.\n",
    "\n",
    "\n"
   ]
  },
  {
   "cell_type": "markdown",
   "metadata": {
    "slideshow": {
     "slide_type": "subslide"
    }
   },
   "source": [
    "El método `reshape()` toma como argumento una tupla que especifica la nueva forma deseada del arreglo. \n",
    "\n"
   ]
  },
  {
   "cell_type": "markdown",
   "metadata": {
    "slideshow": {
     "slide_type": "fragment"
    }
   },
   "source": [
    "***Es importante que la cantidad total de elementos en el nuevo arreglo sea la misma que la del arreglo original.***"
   ]
  },
  {
   "cell_type": "code",
   "execution_count": null,
   "metadata": {
    "colab": {
     "base_uri": "https://localhost:8080/"
    },
    "executionInfo": {
     "elapsed": 163,
     "status": "ok",
     "timestamp": 1680061646029,
     "user": {
      "displayName": "Pedro David Juarez Leyva",
      "userId": "05005826362094932071"
     },
     "user_tz": 360
    },
    "id": "fIayNgLCebpC",
    "outputId": "e00d66b4-3a5d-4d20-8085-494335af537b",
    "slideshow": {
     "slide_type": "fragment"
    }
   },
   "outputs": [],
   "source": [
    "a = np.array([1, 2, 3, 4, 5, 6])\n",
    "\n",
    "# Cambiamos la forma del arreglo a una matriz 2x3\n",
    "b = a.reshape((2, 3))\n",
    "\n",
    "print(b)"
   ]
  },
  {
   "cell_type": "markdown",
   "metadata": {
    "id": "xHtsYsi3eeRC",
    "slideshow": {
     "slide_type": "subslide"
    }
   },
   "source": [
    "También es posible utilizar el valor `-1` como uno de los elementos de la tupla de la nueva forma. \n",
    "\n",
    "Cuando se usa `-1`, NumPy calcula automáticamente el valor faltante en función de la cantidad de elementos en el arreglo original."
   ]
  },
  {
   "cell_type": "code",
   "execution_count": null,
   "metadata": {
    "colab": {
     "base_uri": "https://localhost:8080/"
    },
    "executionInfo": {
     "elapsed": 116,
     "status": "ok",
     "timestamp": 1680061647237,
     "user": {
      "displayName": "Pedro David Juarez Leyva",
      "userId": "05005826362094932071"
     },
     "user_tz": 360
    },
    "id": "Egj7IaJaejxx",
    "outputId": "13ba6b32-5b48-4d85-e06d-664749a7126a",
    "slideshow": {
     "slide_type": "fragment"
    }
   },
   "outputs": [],
   "source": [
    "a = np.array([1, 2, 3, 4, 5, 6])\n",
    "\n",
    "# Cambiamos la forma del arreglo a una matriz 3x2\n",
    "b = a.reshape((3, -1))\n",
    "\n",
    "print(b)"
   ]
  },
  {
   "cell_type": "markdown",
   "metadata": {
    "id": "ScylPOyxepcJ",
    "slideshow": {
     "slide_type": "slide"
    }
   },
   "source": [
    "## Guardar y leer Archivos"
   ]
  },
  {
   "cell_type": "markdown",
   "metadata": {
    "id": "SUcw1vzjetsA",
    "slideshow": {
     "slide_type": "subslide"
    }
   },
   "source": [
    "La función `numpy.save()` guarda un solo arreglo NumPy en un archivo binario de extensión .npy"
   ]
  },
  {
   "cell_type": "code",
   "execution_count": null,
   "metadata": {
    "executionInfo": {
     "elapsed": 112,
     "status": "ok",
     "timestamp": 1680061763325,
     "user": {
      "displayName": "Pedro David Juarez Leyva",
      "userId": "05005826362094932071"
     },
     "user_tz": 360
    },
    "id": "VtpclJw9fAYn",
    "slideshow": {
     "slide_type": "fragment"
    }
   },
   "outputs": [],
   "source": [
    "a = np.array([1, 2, 3, 4, 5, 6])\n",
    "\n",
    "np.save('mi_arreglo.npy', a)"
   ]
  },
  {
   "cell_type": "markdown",
   "metadata": {
    "id": "pUyHBC1ofK2e",
    "slideshow": {
     "slide_type": "subslide"
    }
   },
   "source": [
    "Para leer un archivo NumPy con extensión .npy, se puede utilizar la función `numpy.load()`. \n",
    "  \n",
    "Esta función devuelve un arreglo NumPy que contiene los datos del archivo."
   ]
  },
  {
   "cell_type": "code",
   "execution_count": null,
   "metadata": {
    "colab": {
     "base_uri": "https://localhost:8080/"
    },
    "executionInfo": {
     "elapsed": 306,
     "status": "ok",
     "timestamp": 1680061939347,
     "user": {
      "displayName": "Pedro David Juarez Leyva",
      "userId": "05005826362094932071"
     },
     "user_tz": 360
    },
    "id": "JZtSrFAyfpv8",
    "outputId": "6b6c8361-5991-43c2-b4f9-41257ff758fc",
    "slideshow": {
     "slide_type": "fragment"
    }
   },
   "outputs": [],
   "source": [
    "data = np.load('mi_arreglo.npy')\n",
    "\n",
    "# Utilizamos el arreglo cargado\n",
    "print(data)"
   ]
  }
 ],
 "metadata": {
  "colab": {
   "authorship_tag": "ABX9TyPIFYar7CcuZ/YllhOi3sr4",
   "collapsed_sections": [
    "b7l5Fn9pGOKK",
    "fdcbPQGfZcs7",
    "_PIw_gdKbpkI",
    "-2t04CuQuMon",
    "kvm478_2_gQw",
    "j9x5mADm2xrt",
    "IZzX3ZiRXRhX",
    "0DesfO3NeD_C"
   ],
   "provenance": []
  },
  "kernelspec": {
   "display_name": "Python 3 (ipykernel)",
   "language": "python",
   "name": "python3"
  },
  "language_info": {
   "codemirror_mode": {
    "name": "ipython",
    "version": 3
   },
   "file_extension": ".py",
   "mimetype": "text/x-python",
   "name": "python",
   "nbconvert_exporter": "python",
   "pygments_lexer": "ipython3",
   "version": "3.11.0"
  }
 },
 "nbformat": 4,
 "nbformat_minor": 1
}
