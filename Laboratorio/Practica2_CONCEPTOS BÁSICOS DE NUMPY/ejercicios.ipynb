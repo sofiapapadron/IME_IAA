{
  "nbformat": 4,
  "nbformat_minor": 0,
  "metadata": {
    "colab": {
      "provenance": [],
      "collapsed_sections": [
        "CNEi3OkB9HrS",
        "uxZKYoy89I96",
        "XRxAv50XVe0X",
        "wxwAp4KHiovn"
      ]
    },
    "kernelspec": {
      "name": "python3",
      "display_name": "Python 3"
    },
    "language_info": {
      "name": "python"
    }
  },
  "cells": [
    {
      "cell_type": "markdown",
      "source": [
        "# Conceptos básicos de NumPy\n",
        ""
      ],
      "metadata": {
        "id": "JdSC5Jf2sAKQ"
      }
    },
    {
      "cell_type": "markdown",
      "source": [
        "\n",
        "## Crear arreglos\n",
        "\n",
        "En esta sección se trabajará con un Sudoku.\n",
        "\n",
        "Como primer paso importe NumPy con el alias *np*"
      ],
      "metadata": {
        "id": "CNEi3OkB9HrS"
      }
    },
    {
      "cell_type": "code",
      "source": [
        "import numpy as np"
      ],
      "metadata": {
        "id": "z5-aPucMtfm2"
      },
      "execution_count": 1,
      "outputs": []
    },
    {
      "cell_type": "markdown",
      "source": [
        "Por el momento el Sudoku esta almacenado en una lista de Python llamada *sudoku_list*."
      ],
      "metadata": {
        "id": "gSpWctQsxnQ7"
      }
    },
    {
      "cell_type": "code",
      "execution_count": 2,
      "metadata": {
        "id": "H_F9pC0WqtWF"
      },
      "outputs": [],
      "source": [
        "sudoku_list = [\n",
        "    [0, 0, 4, 3, 0, 0, 2, 0, 9],\n",
        "    [0, 0, 5, 0, 0, 9, 0, 0, 1],\n",
        "    [0, 7, 0, 0, 6, 0, 0, 4, 3],\n",
        "    [0, 0, 6, 0, 0, 2, 0, 8, 7],\n",
        "    [1, 9, 0, 0, 0, 7, 4, 0, 0],\n",
        "    [0, 5, 0, 0, 8, 3, 0, 0, 0],\n",
        "    [6, 0, 0, 0, 0, 0, 1, 0, 5],\n",
        "    [0, 0, 3, 5, 0, 8, 6, 9, 0],\n",
        "    [0, 4, 2, 9, 1, 0, 3, 0, 0]\n",
        "  ]\n"
      ]
    },
    {
      "cell_type": "markdown",
      "source": [
        "Convierta la lista de Python, en un arreglo de NumPy y almacenelo en una variable llamada *sudoku_array*."
      ],
      "metadata": {
        "id": "pK_iHEQatgGm"
      }
    },
    {
      "cell_type": "code",
      "source": [
        "sodoku_array = np.array(sudoku_list)\n",
        "print(sodoku_array)"
      ],
      "metadata": {
        "id": "hEjjTUjVtsxe",
        "outputId": "5d6bbb70-4c84-43bb-8376-f39fe6b64c7f",
        "colab": {
          "base_uri": "https://localhost:8080/"
        }
      },
      "execution_count": 3,
      "outputs": [
        {
          "output_type": "stream",
          "name": "stdout",
          "text": [
            "[[0 0 4 3 0 0 2 0 9]\n",
            " [0 0 5 0 0 9 0 0 1]\n",
            " [0 7 0 0 6 0 0 4 3]\n",
            " [0 0 6 0 0 2 0 8 7]\n",
            " [1 9 0 0 0 7 4 0 0]\n",
            " [0 5 0 0 8 3 0 0 0]\n",
            " [6 0 0 0 0 0 1 0 5]\n",
            " [0 0 3 5 0 8 6 9 0]\n",
            " [0 4 2 9 1 0 3 0 0]]\n"
          ]
        }
      ]
    },
    {
      "cell_type": "markdown",
      "source": [
        "En ocasiones es necesario crear arreglos desde cero.\n",
        "\n",
        "Para probar alguna de estas funciones cree un arreglo de ceros con 3 renglones y 4 columnas."
      ],
      "metadata": {
        "id": "Qwe8Uuh2vgQN"
      }
    },
    {
      "cell_type": "code",
      "source": [
        "zeros_array = np.zeros((3,4))\n",
        "print(zeros_array)"
      ],
      "metadata": {
        "id": "j4lcbDDYvs8l",
        "outputId": "14f92395-8469-4e6a-b651-f10d6cdd0001",
        "colab": {
          "base_uri": "https://localhost:8080/"
        }
      },
      "execution_count": 4,
      "outputs": [
        {
          "output_type": "stream",
          "name": "stdout",
          "text": [
            "[[0. 0. 0. 0.]\n",
            " [0. 0. 0. 0.]\n",
            " [0. 0. 0. 0.]]\n"
          ]
        }
      ]
    },
    {
      "cell_type": "markdown",
      "source": [
        "## Dimensionalidad\n",
        "\n",
        "Podemos modificar las dimensiones utilizando el método *reshape*."
      ],
      "metadata": {
        "id": "uxZKYoy89I96"
      }
    },
    {
      "cell_type": "markdown",
      "source": [
        "\n",
        "Convierta el arreglo *sudoku_array* a un arreglo unidimensional, almacenelo en una variable llamada *sudoku_flatten* e imprimalo."
      ],
      "metadata": {
        "id": "jGJtL0Bm-sXp"
      }
    },
    {
      "cell_type": "code",
      "source": [
        "sudoku_flatten = sodoku_array.flatten()\n",
        "print(sudoku_flatten)\n",
        "\n"
      ],
      "metadata": {
        "id": "zBEa7LPj-9wB",
        "outputId": "4391ebf6-fbc9-40ca-9fc7-42c498d7cd6e",
        "colab": {
          "base_uri": "https://localhost:8080/"
        }
      },
      "execution_count": 9,
      "outputs": [
        {
          "output_type": "stream",
          "name": "stdout",
          "text": [
            "[0 0 4 3 0 0 2 0 9 0 0 5 0 0 9 0 0 1 0 7 0 0 6 0 0 4 3 0 0 6 0 0 2 0 8 7 1\n",
            " 9 0 0 0 7 4 0 0 0 5 0 0 8 3 0 0 0 6 0 0 0 0 0 1 0 5 0 0 3 5 0 8 6 9 0 0 4\n",
            " 2 9 1 0 3 0 0]\n"
          ]
        }
      ]
    },
    {
      "cell_type": "markdown",
      "source": [
        "Regrese el arreglo *sudoku_flatten* a las dimensiones originales y almacene el resultado en la variable *sudoku_reshaped*.\n",
        "\n",
        "Imprima la variable sudoku_reshaped para observar que el orden de los elementos no se haya afectado."
      ],
      "metadata": {
        "id": "Idfn6EhM--hh"
      }
    },
    {
      "cell_type": "code",
      "source": [
        "sudoku_reshaped = sudoku_flatten.reshape(9, 9)\n",
        "print(sudoku_reshaped)"
      ],
      "metadata": {
        "id": "1ON5LQQS_Gtw",
        "outputId": "826e3788-aa94-47e6-f0d1-cf64bed47fe6",
        "colab": {
          "base_uri": "https://localhost:8080/"
        }
      },
      "execution_count": 10,
      "outputs": [
        {
          "output_type": "stream",
          "name": "stdout",
          "text": [
            "[[0 0 4 3 0 0 2 0 9]\n",
            " [0 0 5 0 0 9 0 0 1]\n",
            " [0 7 0 0 6 0 0 4 3]\n",
            " [0 0 6 0 0 2 0 8 7]\n",
            " [1 9 0 0 0 7 4 0 0]\n",
            " [0 5 0 0 8 3 0 0 0]\n",
            " [6 0 0 0 0 0 1 0 5]\n",
            " [0 0 3 5 0 8 6 9 0]\n",
            " [0 4 2 9 1 0 3 0 0]]\n"
          ]
        }
      ]
    },
    {
      "cell_type": "markdown",
      "source": [
        "## Tipos de dato\n",
        "\n",
        "Imprima el tipo de dato del arreglo sudoku_array."
      ],
      "metadata": {
        "id": "XRxAv50XVe0X"
      }
    },
    {
      "cell_type": "code",
      "source": [
        "sodoku_array.dtype"
      ],
      "metadata": {
        "id": "625z7iCbVqfe",
        "outputId": "6d37151d-32fc-4c3f-c9fa-15a577331c9e",
        "colab": {
          "base_uri": "https://localhost:8080/"
        }
      },
      "execution_count": 11,
      "outputs": [
        {
          "output_type": "execute_result",
          "data": {
            "text/plain": [
              "dtype('int64')"
            ]
          },
          "metadata": {},
          "execution_count": 11
        }
      ]
    },
    {
      "cell_type": "markdown",
      "source": [
        "Para optimizar memoria cambiemos el tipo de dato del arreglo *sudoku_array* a *uint8*"
      ],
      "metadata": {
        "id": "dnCIzR5uVqxm"
      }
    },
    {
      "cell_type": "code",
      "source": [
        "sodoku_array = sodoku_array.astype('uint8')\n",
        "sodoku_array.dtype"
      ],
      "metadata": {
        "id": "jCn0_vY4WIrt",
        "outputId": "ec7b9c84-ffb3-4304-ad0f-fefb63dea98e",
        "colab": {
          "base_uri": "https://localhost:8080/"
        }
      },
      "execution_count": 12,
      "outputs": [
        {
          "output_type": "execute_result",
          "data": {
            "text/plain": [
              "dtype('uint8')"
            ]
          },
          "metadata": {},
          "execution_count": 12
        }
      ]
    },
    {
      "cell_type": "markdown",
      "source": [
        "# Accediendo a elementos del arreglo\n",
        "\n",
        "En esta sección se utilizará un arreglo con los datos de un censo de los árboles de Nueva York.\n",
        "\n",
        "Esta es la informacion que contiene:\n",
        "- La primer columna es el identificador del arbol.\n",
        "- La segunda columna es el identificador del bloque al que pertenece el arbol.\n",
        "- La tercer columna es el diametro del tronco.\n",
        "- La cuarta columna es el diametro del tocón."
      ],
      "metadata": {
        "id": "mQ8nWWBKWO5t"
      }
    },
    {
      "cell_type": "code",
      "source": [
        "import numpy as np"
      ],
      "metadata": {
        "id": "DMCsq0dny8sE"
      },
      "execution_count": 13,
      "outputs": []
    },
    {
      "cell_type": "markdown",
      "source": [
        "Utilice la función `np.load()` para cargar los datos del archivo `tree_census.npy`.\n",
        "\n",
        "Almacene el arreglo en una variable llamada `tree_census`"
      ],
      "metadata": {
        "id": "uV9Ggf9pyniM"
      }
    },
    {
      "cell_type": "code",
      "source": [
        "from google.colab import drive\n",
        "drive.mount('/content/drive')\n",
        "\n",
        "# Ruta al archivo en Google Drive\n",
        "file_path = '/content/drive/My Drive/IAA/Practica2_CONCEPTOS BÁSICOS DE NUMPY/datasets/tree_census.npy'\n",
        "\n",
        "# Cargar el archivo .npy\n",
        "tree_census = np.load(file_path)\n",
        "\n",
        "# Verifica el contenido\n",
        "print(tree_census)\n"
      ],
      "metadata": {
        "id": "Ae3Z7TRlk-q-",
        "outputId": "f6d37449-d609-450f-d87f-f1120438155d",
        "colab": {
          "base_uri": "https://localhost:8080/"
        }
      },
      "execution_count": 14,
      "outputs": [
        {
          "output_type": "stream",
          "name": "stdout",
          "text": [
            "Mounted at /content/drive\n",
            "[[     3 501451     24      0]\n",
            " [     4 501451     20      0]\n",
            " [     7 501911      3      0]\n",
            " ...\n",
            " [  1198 227387     11      0]\n",
            " [  1199 227387     11      0]\n",
            " [  1210 227386      6      0]]\n"
          ]
        }
      ]
    },
    {
      "cell_type": "markdown",
      "source": [
        "Seleccione todos los renglones de la segunda columna (con indice 1) y almacenelos en una variable llamada *block_ids*"
      ],
      "metadata": {
        "id": "E1iwH9zct-3n"
      }
    },
    {
      "cell_type": "code",
      "source": [
        "block_ids = tree_census[:, 1]\n"
      ],
      "metadata": {
        "id": "y9bKxnYhjrod"
      },
      "execution_count": 15,
      "outputs": []
    },
    {
      "cell_type": "markdown",
      "source": [
        "De la variable *block_ids* imprima:\n",
        "- El octavo elemento.\n",
        "- Todos los elementos hasta el sexto.\n",
        "- 5 elementos empezando en el indice 10."
      ],
      "metadata": {
        "id": "nYDKQRdouf0F"
      }
    },
    {
      "cell_type": "code",
      "source": [
        "block_ids[7]\n",
        "block_ids[:6]\n",
        "block_ids[10:15]"
      ],
      "metadata": {
        "id": "HcSA_mt4x5nf",
        "outputId": "ac3a2447-6249-4e3d-def5-dfeda3562d46",
        "colab": {
          "base_uri": "https://localhost:8080/"
        }
      },
      "execution_count": 16,
      "outputs": [
        {
          "output_type": "execute_result",
          "data": {
            "text/plain": [
              "array([501911, 501911, 501909, 501909, 501909])"
            ]
          },
          "metadata": {},
          "execution_count": 16
        }
      ]
    },
    {
      "cell_type": "markdown",
      "source": [
        "Del arreglo *tree_census* selecciones todos los árboles (renglones) con un diametro del tronco menor a 10."
      ],
      "metadata": {
        "id": "vy30dRv3QhQF"
      }
    },
    {
      "cell_type": "code",
      "source": [
        "tree_census[tree_census[:, 2] < 10]"
      ],
      "metadata": {
        "id": "3T1Y4rQSQ1xl",
        "outputId": "2c443d11-c1c5-4a3e-eb87-1e89313158d8",
        "colab": {
          "base_uri": "https://localhost:8080/"
        }
      },
      "execution_count": 17,
      "outputs": [
        {
          "output_type": "execute_result",
          "data": {
            "text/plain": [
              "array([[     7, 501911,      3,      0],\n",
              "       [     8, 501911,      3,      0],\n",
              "       [     9, 501911,      4,      0],\n",
              "       ...,\n",
              "       [  1186, 226832,      0,     20],\n",
              "       [  1187, 226832,      0,     21],\n",
              "       [  1210, 227386,      6,      0]])"
            ]
          },
          "metadata": {},
          "execution_count": 17
        }
      ]
    },
    {
      "cell_type": "markdown",
      "source": [
        "Investigadores descubrieron 2 nuevos árboles, ambos estan almacenados en la variable *new_trees*, agrege sus datos al arreglo *tree_census*"
      ],
      "metadata": {
        "id": "bHjWIZ63EvOC"
      }
    },
    {
      "cell_type": "code",
      "source": [
        "new_trees = np.array([[1211, 227386, 20, 0], [1212, 227386, 8, 0]])"
      ],
      "metadata": {
        "id": "gMNE99cFE3DK"
      },
      "execution_count": 18,
      "outputs": []
    },
    {
      "cell_type": "code",
      "source": [
        "tree_census = np.concatenate((tree_census, new_trees), axis=0)\n",
        "print(tree_census)"
      ],
      "metadata": {
        "id": "kDl0XXjePJ2W",
        "outputId": "a3a9da25-0f6c-4274-8579-91e4a0b23c55",
        "colab": {
          "base_uri": "https://localhost:8080/"
        }
      },
      "execution_count": 19,
      "outputs": [
        {
          "output_type": "stream",
          "name": "stdout",
          "text": [
            "[[     3 501451     24      0]\n",
            " [     4 501451     20      0]\n",
            " [     7 501911      3      0]\n",
            " ...\n",
            " [  1210 227386      6      0]\n",
            " [  1211 227386     20      0]\n",
            " [  1212 227386      8      0]]\n"
          ]
        }
      ]
    },
    {
      "cell_type": "markdown",
      "source": [
        "# Operaciones con arreglos\n",
        "\n",
        "En esta parte se utilizará un dataset que contiene las ventas mensuales de 3 empresas diferentes.\n",
        "\n",
        "Cada renglon es un mes y cada columna es una empresa.\n",
        "\n",
        "Los datos estan almacenados en la variable *monthly_sales*"
      ],
      "metadata": {
        "id": "UZsg0JYxSsfE"
      }
    },
    {
      "cell_type": "code",
      "source": [
        "import numpy as np\n"
      ],
      "metadata": {
        "id": "EQnF6h49UmXx"
      },
      "execution_count": 20,
      "outputs": []
    },
    {
      "cell_type": "markdown",
      "source": [
        "Utilizando la función `np.load()` lea el archivo `monthly_sales.npy` y almacene el resultado en una variable llamada `monthly_sales`."
      ],
      "metadata": {
        "id": "o7o2Tn7DzQvz"
      }
    },
    {
      "cell_type": "code",
      "source": [
        "from google.colab import drive\n",
        "drive.mount('/content/drive')\n",
        "\n",
        "# Ruta al archivo en Google Drive\n",
        "file_path = '/content/drive/My Drive/IAA/Practica2_CONCEPTOS BÁSICOS DE NUMPY/datasets/monthly_sales.npy'\n",
        "\n",
        "# Cargar el archivo .npy\n",
        "monthly_sales = np.load(file_path)\n",
        "\n",
        "# Verifica el contenido\n",
        "print(monthly_sales)\n"
      ],
      "metadata": {
        "id": "XqtpTzwPzROq",
        "outputId": "f18f9aa4-9a26-4bdc-cba9-a30fccc74edf",
        "colab": {
          "base_uri": "https://localhost:8080/"
        }
      },
      "execution_count": 21,
      "outputs": [
        {
          "output_type": "stream",
          "name": "stdout",
          "text": [
            "Drive already mounted at /content/drive; to attempt to forcibly remount, call drive.mount(\"/content/drive\", force_remount=True).\n",
            "[[ 4134 23925  8657]\n",
            " [ 4116 23875  9142]\n",
            " [ 4673 27197 10645]\n",
            " [ 4580 25637 10456]\n",
            " [ 5109 27995 11299]\n",
            " [ 5011 27419 10625]\n",
            " [ 5245 27305 10630]\n",
            " [ 5270 27760 11550]\n",
            " [ 4680 24988  9762]\n",
            " [ 4913 25802 10456]\n",
            " [ 5312 25405 13401]\n",
            " [ 6630 27797 18403]]\n"
          ]
        }
      ]
    },
    {
      "cell_type": "markdown",
      "source": [
        "Obtenga el total de ventas de las 3 empresas por mes."
      ],
      "metadata": {
        "id": "vcvLaC-LU156"
      }
    },
    {
      "cell_type": "code",
      "source": [
        "total_sales = np.sum(monthly_sales, axis=1)\n",
        "print(total_sales)"
      ],
      "metadata": {
        "id": "lRgZdQzMU1m7",
        "outputId": "c135dd40-aec1-4ac6-b5e4-ff3d37632ee9",
        "colab": {
          "base_uri": "https://localhost:8080/"
        }
      },
      "execution_count": 22,
      "outputs": [
        {
          "output_type": "stream",
          "name": "stdout",
          "text": [
            "[36716 37133 42515 40673 44403 43055 43180 44580 39430 41171 44118 52830]\n"
          ]
        }
      ]
    },
    {
      "cell_type": "markdown",
      "source": [
        "Obtenga el total de ventas a final de año para cada empresa"
      ],
      "metadata": {
        "id": "paJ5ipCmVK0A"
      }
    },
    {
      "cell_type": "code",
      "source": [
        "total_sales_year = np.sum(monthly_sales, axis=0)\n",
        "print(total_sales_year)"
      ],
      "metadata": {
        "id": "j_6W4snwVTb4",
        "outputId": "5d0da0fa-1f9a-4e19-8f9c-e29e4ae5fa70",
        "colab": {
          "base_uri": "https://localhost:8080/"
        }
      },
      "execution_count": 23,
      "outputs": [
        {
          "output_type": "stream",
          "name": "stdout",
          "text": [
            "[ 59673 315105 135026]\n"
          ]
        }
      ]
    },
    {
      "cell_type": "markdown",
      "source": [
        "Obtenga la suma acumulativa de ventas mensuales de cada empresa"
      ],
      "metadata": {
        "id": "JpeavP9sZK05"
      }
    },
    {
      "cell_type": "code",
      "source": [
        "total_sales_cumulative = np.cumsum(monthly_sales, axis=0)\n",
        "print(total_sales_cumulative)"
      ],
      "metadata": {
        "id": "hZA3AQkZZN8H",
        "outputId": "bb7afb9e-9d89-4b55-e416-646672de0659",
        "colab": {
          "base_uri": "https://localhost:8080/"
        }
      },
      "execution_count": 24,
      "outputs": [
        {
          "output_type": "stream",
          "name": "stdout",
          "text": [
            "[[  4134  23925   8657]\n",
            " [  8250  47800  17799]\n",
            " [ 12923  74997  28444]\n",
            " [ 17503 100634  38900]\n",
            " [ 22612 128629  50199]\n",
            " [ 27623 156048  60824]\n",
            " [ 32868 183353  71454]\n",
            " [ 38138 211113  83004]\n",
            " [ 42818 236101  92766]\n",
            " [ 47731 261903 103222]\n",
            " [ 53043 287308 116623]\n",
            " [ 59673 315105 135026]]\n"
          ]
        }
      ]
    },
    {
      "cell_type": "markdown",
      "source": [
        "Se desean calcular los impuestos de las ventas de cada mes por cada industria.\n",
        "\n",
        "Para calcular el impuesto solo se necesita multiplicar el valor de las ventas por 0.05.\n",
        "\n",
        "Obtenga los impuestos mensuales y alamcenelos en un arreglo llamado *tax_collected*"
      ],
      "metadata": {
        "id": "tEBUCiV6a-kw"
      }
    },
    {
      "cell_type": "code",
      "source": [
        "TAX_RATE = 0.05\n",
        "tax_collected = monthly_sales * TAX_RATE\n",
        "print(tax_collected)"
      ],
      "metadata": {
        "id": "LF3A_kPzbeOJ",
        "outputId": "382c00bd-3c48-45fa-d488-37cf88511ad5",
        "colab": {
          "base_uri": "https://localhost:8080/"
        }
      },
      "execution_count": 25,
      "outputs": [
        {
          "output_type": "stream",
          "name": "stdout",
          "text": [
            "[[ 206.7  1196.25  432.85]\n",
            " [ 205.8  1193.75  457.1 ]\n",
            " [ 233.65 1359.85  532.25]\n",
            " [ 229.   1281.85  522.8 ]\n",
            " [ 255.45 1399.75  564.95]\n",
            " [ 250.55 1370.95  531.25]\n",
            " [ 262.25 1365.25  531.5 ]\n",
            " [ 263.5  1388.    577.5 ]\n",
            " [ 234.   1249.4   488.1 ]\n",
            " [ 245.65 1290.1   522.8 ]\n",
            " [ 265.6  1270.25  670.05]\n",
            " [ 331.5  1389.85  920.15]]\n"
          ]
        }
      ]
    },
    {
      "cell_type": "markdown",
      "source": [
        "Ahora obtenga el total de ingresos sumando el total de ventas de cada mes y el impuesto calculado de ese mes."
      ],
      "metadata": {
        "id": "8apGk_WigMP_"
      }
    },
    {
      "cell_type": "code",
      "source": [
        "total_income = monthly_sales + tax_collected\n",
        "print(total_income)"
      ],
      "metadata": {
        "id": "k4v9c8mogZiG",
        "outputId": "d3d7fbbc-14d8-49b7-9fc6-b46d79d718d7",
        "colab": {
          "base_uri": "https://localhost:8080/"
        }
      },
      "execution_count": 26,
      "outputs": [
        {
          "output_type": "stream",
          "name": "stdout",
          "text": [
            "[[ 4340.7  25121.25  9089.85]\n",
            " [ 4321.8  25068.75  9599.1 ]\n",
            " [ 4906.65 28556.85 11177.25]\n",
            " [ 4809.   26918.85 10978.8 ]\n",
            " [ 5364.45 29394.75 11863.95]\n",
            " [ 5261.55 28789.95 11156.25]\n",
            " [ 5507.25 28670.25 11161.5 ]\n",
            " [ 5533.5  29148.   12127.5 ]\n",
            " [ 4914.   26237.4  10250.1 ]\n",
            " [ 5158.65 27092.1  10978.8 ]\n",
            " [ 5577.6  26675.25 14071.05]\n",
            " [ 6961.5  29186.85 19323.15]]\n"
          ]
        }
      ]
    },
    {
      "cell_type": "markdown",
      "source": [
        "# Transformando arreglos (Opcional)\n",
        "\n",
        "En esta última sección se aplicarán diferentes técnicas de transformación a la pintura *Paseo por el acantilado en Pourville* de Monet"
      ],
      "metadata": {
        "id": "wxwAp4KHiovn"
      }
    },
    {
      "cell_type": "markdown",
      "source": [
        "Daremos permisos a Colab para acceder a Drive"
      ],
      "metadata": {
        "id": "fx7-LD9O1bap"
      }
    },
    {
      "cell_type": "markdown",
      "source": [
        "Cargue el archivo llamado *rbg_array* y almacenelo en una variable con el mismo nombre."
      ],
      "metadata": {
        "id": "Uzu24oLc1zIo"
      }
    },
    {
      "cell_type": "code",
      "source": [
        "import numpy as np"
      ],
      "metadata": {
        "id": "YzHrWJaZ2IbB"
      },
      "execution_count": 27,
      "outputs": []
    },
    {
      "cell_type": "code",
      "source": [
        "file_path = \"\" #complete la ruta de donde se leerá el archivo\n",
        "with open(file_path, \"rb\") as f:\n",
        "    rgb_array = np.load(f)"
      ],
      "metadata": {
        "id": "qFn2K8dD1qKh",
        "outputId": "909ce2de-a060-4ff9-bb0d-f1b96112091a",
        "colab": {
          "base_uri": "https://localhost:8080/",
          "height": 176
        }
      },
      "execution_count": 28,
      "outputs": [
        {
          "output_type": "error",
          "ename": "FileNotFoundError",
          "evalue": "[Errno 2] No such file or directory: ''",
          "traceback": [
            "\u001b[0;31m---------------------------------------------------------------------------\u001b[0m",
            "\u001b[0;31mFileNotFoundError\u001b[0m                         Traceback (most recent call last)",
            "\u001b[0;32m<ipython-input-28-3532466d2e99>\u001b[0m in \u001b[0;36m<cell line: 2>\u001b[0;34m()\u001b[0m\n\u001b[1;32m      1\u001b[0m \u001b[0mfile_path\u001b[0m \u001b[0;34m=\u001b[0m \u001b[0;34m\"\"\u001b[0m \u001b[0;31m#complete la ruta de donde se leerá el archivo\u001b[0m\u001b[0;34m\u001b[0m\u001b[0;34m\u001b[0m\u001b[0m\n\u001b[0;32m----> 2\u001b[0;31m \u001b[0;32mwith\u001b[0m \u001b[0mopen\u001b[0m\u001b[0;34m(\u001b[0m\u001b[0mfile_path\u001b[0m\u001b[0;34m,\u001b[0m \u001b[0;34m\"rb\"\u001b[0m\u001b[0;34m)\u001b[0m \u001b[0;32mas\u001b[0m \u001b[0mf\u001b[0m\u001b[0;34m:\u001b[0m\u001b[0;34m\u001b[0m\u001b[0;34m\u001b[0m\u001b[0m\n\u001b[0m\u001b[1;32m      3\u001b[0m     \u001b[0mrgb_array\u001b[0m \u001b[0;34m=\u001b[0m \u001b[0mnp\u001b[0m\u001b[0;34m.\u001b[0m\u001b[0mload\u001b[0m\u001b[0;34m(\u001b[0m\u001b[0mf\u001b[0m\u001b[0;34m)\u001b[0m\u001b[0;34m\u001b[0m\u001b[0;34m\u001b[0m\u001b[0m\n",
            "\u001b[0;31mFileNotFoundError\u001b[0m: [Errno 2] No such file or directory: ''"
          ]
        }
      ]
    },
    {
      "cell_type": "markdown",
      "source": [
        "La siguiente celda de código permite visualizar la imagen"
      ],
      "metadata": {
        "id": "oxidLPiV2f7o"
      }
    },
    {
      "cell_type": "code",
      "source": [
        "from matplotlib import pyplot as plt\n",
        "plt.imshow(rgb_array)"
      ],
      "metadata": {
        "id": "rZFIOq5p2foI"
      },
      "execution_count": null,
      "outputs": []
    },
    {
      "cell_type": "markdown",
      "source": [
        "Utilizando el método *flip*, haga que el oceano se encuentre en la parte derecha de la imagen\n",
        "\n",
        "\n",
        "\n"
      ],
      "metadata": {
        "id": "IjKiSlZ434Kw"
      }
    },
    {
      "cell_type": "code",
      "source": [],
      "metadata": {
        "id": "eVI4excGDe6j"
      },
      "execution_count": null,
      "outputs": []
    },
    {
      "cell_type": "markdown",
      "source": [
        "utilizando el metodo *transpose* cambie el orden de renglones y columnas para girar la imagen 90°"
      ],
      "metadata": {
        "id": "Rph6gcgVEt71"
      }
    },
    {
      "cell_type": "code",
      "source": [],
      "metadata": {
        "id": "XCx_OHATE3_e"
      },
      "execution_count": null,
      "outputs": []
    }
  ]
}