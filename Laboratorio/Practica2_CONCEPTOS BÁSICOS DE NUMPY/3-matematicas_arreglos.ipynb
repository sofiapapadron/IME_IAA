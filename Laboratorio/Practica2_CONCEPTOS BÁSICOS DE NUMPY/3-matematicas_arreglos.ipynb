{
 "cells": [
  {
   "cell_type": "code",
   "execution_count": null,
   "metadata": {
    "executionInfo": {
     "elapsed": 2,
     "status": "ok",
     "timestamp": 1680060186549,
     "user": {
      "displayName": "Pedro David Juarez Leyva",
      "userId": "05005826362094932071"
     },
     "user_tz": 360
    },
    "id": "4dO6IeDdY3Ix",
    "slideshow": {
     "slide_type": "slide"
    }
   },
   "outputs": [],
   "source": [
    "import numpy as np"
   ]
  },
  {
   "attachments": {},
   "cell_type": "markdown",
   "metadata": {
    "id": "Bz177WDTGVA5",
    "slideshow": {
     "slide_type": "slide"
    }
   },
   "source": [
    "# Operaciones sobre arreglos"
   ]
  },
  {
   "attachments": {},
   "cell_type": "markdown",
   "metadata": {
    "id": "hP3abXcyYRgj",
    "slideshow": {
     "slide_type": "fragment"
    }
   },
   "source": [
    "NumPy es una biblioteca de Python diseñada para realizar operaciones numéricas eficientes en arreglos multidimensionales. \n",
    "\n",
    "En este sentido, NumPy ofrece una amplia gama de operaciones matemáticas que se pueden realizar sobre los arreglos, lo que facilita el procesamiento de datos numéricos y el análisis científico."
   ]
  },
  {
   "attachments": {},
   "cell_type": "markdown",
   "metadata": {
    "id": "_Ltgou8tZQWf",
    "slideshow": {
     "slide_type": "slide"
    }
   },
   "source": [
    "## Operaciones aritmeticas"
   ]
  },
  {
   "attachments": {},
   "cell_type": "markdown",
   "metadata": {
    "id": "pYu8C0wJYtLx",
    "slideshow": {
     "slide_type": "subslide"
    }
   },
   "source": [
    "Se pueden sumar o restar dos arreglos NumPy del mismo tamaño elemento a elemento utilizando los operadores `+` y `-`, respectivamente. \n",
    "\n",
    "También se pueden sumar o restar escalares a los arreglos."
   ]
  },
  {
   "cell_type": "code",
   "execution_count": null,
   "metadata": {
    "colab": {
     "base_uri": "https://localhost:8080/"
    },
    "executionInfo": {
     "elapsed": 127,
     "status": "ok",
     "timestamp": 1680060197381,
     "user": {
      "displayName": "Pedro David Juarez Leyva",
      "userId": "05005826362094932071"
     },
     "user_tz": 360
    },
    "id": "SgRfsdafYso3",
    "outputId": "55fe2e9f-7026-44ac-e916-6c987f7ca28c",
    "slideshow": {
     "slide_type": "fragment"
    }
   },
   "outputs": [],
   "source": [
    "a = np.array([1, 2, 3])\n",
    "b = np.array([4, 5, 6])\n",
    "\n",
    "c = a + b\n",
    "d = a - b\n",
    "\n",
    "print(c) \n",
    "print(c - 1)\n",
    "\n",
    "print(d)  "
   ]
  },
  {
   "attachments": {},
   "cell_type": "markdown",
   "metadata": {
    "id": "T7fUG8NMZKqn",
    "slideshow": {
     "slide_type": "subslide"
    }
   },
   "source": [
    "Se pueden multiplicar o dividir dos arreglos NumPy del mismo tamaño elemento a elemento utilizando los operadores * y /, respectivamente. \n",
    "\n",
    "También se pueden multiplicar o dividir escalares a los arreglos."
   ]
  },
  {
   "cell_type": "code",
   "execution_count": null,
   "metadata": {
    "colab": {
     "base_uri": "https://localhost:8080/"
    },
    "executionInfo": {
     "elapsed": 116,
     "status": "ok",
     "timestamp": 1680060276290,
     "user": {
      "displayName": "Pedro David Juarez Leyva",
      "userId": "05005826362094932071"
     },
     "user_tz": 360
    },
    "id": "AmuqyvH2ZJfX",
    "outputId": "27d6e6a0-f314-4775-8d1b-841b9f457448",
    "slideshow": {
     "slide_type": "fragment"
    }
   },
   "outputs": [],
   "source": [
    "a = np.array([1, 2, 3])\n",
    "b = np.array([4, 5, 6])\n",
    "\n",
    "c = a * b\n",
    "d = b / a\n",
    "\n",
    "print(c) \n",
    "print(d)  "
   ]
  },
  {
   "attachments": {},
   "cell_type": "markdown",
   "metadata": {
    "slideshow": {
     "slide_type": "slide"
    }
   },
   "source": [
    "### Errores comunes\n",
    "\n",
    "<img src=\"./images/error2.png\" alt=\"Value Error\" width=\"800px\">"
   ]
  },
  {
   "attachments": {},
   "cell_type": "markdown",
   "metadata": {
    "slideshow": {
     "slide_type": "subslide"
    }
   },
   "source": [
    "\n",
    "<img src=\"./images/error1.png\" alt=\"Value Error\" width=\"800px\">\n"
   ]
  },
  {
   "attachments": {},
   "cell_type": "markdown",
   "metadata": {
    "id": "tjjafX6qZec2",
    "slideshow": {
     "slide_type": "slide"
    }
   },
   "source": [
    "## Funciones matemáticas"
   ]
  },
  {
   "attachments": {},
   "cell_type": "markdown",
   "metadata": {
    "id": "cx63JY_tZght",
    "slideshow": {
     "slide_type": "subslide"
    }
   },
   "source": [
    " NumPy ofrece una gran cantidad de funciones matemáticas para aplicar a los arreglos, como la exponencial, la raíz cuadrada, el seno, el coseno, la tangente, entre otras. \n",
    " \n",
    " Estas funciones se pueden aplicar a todo el arreglo o a elementos individuales utilizando la notación `np.funcion(arreglo)`."
   ]
  },
  {
   "cell_type": "code",
   "execution_count": null,
   "metadata": {
    "colab": {
     "base_uri": "https://localhost:8080/"
    },
    "executionInfo": {
     "elapsed": 143,
     "status": "ok",
     "timestamp": 1680060398919,
     "user": {
      "displayName": "Pedro David Juarez Leyva",
      "userId": "05005826362094932071"
     },
     "user_tz": 360
    },
    "id": "78M7TZmLZv9b",
    "outputId": "011a09eb-2400-4ef6-b8d6-cb00f276e333",
    "slideshow": {
     "slide_type": "fragment"
    }
   },
   "outputs": [],
   "source": [
    "a = np.array([1, 2, 3])\n",
    "\n",
    "b = np.exp(a)\n",
    "c = np.sqrt(a)\n",
    "d = np.sin(a)\n",
    "\n",
    "print(b)  \n",
    "print(c) \n",
    "print(d) "
   ]
  },
  {
   "attachments": {},
   "cell_type": "markdown",
   "metadata": {
    "id": "8ufGH8qWGcOo",
    "slideshow": {
     "slide_type": "slide"
    }
   },
   "source": [
    "## Operaciones de agregación\n",
    "\n"
   ]
  },
  {
   "attachments": {},
   "cell_type": "markdown",
   "metadata": {
    "id": "7772JkZSaUY4",
    "slideshow": {
     "slide_type": "fragment"
    }
   },
   "source": [
    "Las operaciones de agregación en NumPy son aquellas que toman un arreglo NumPy y realizan una operación matemática para resumir o condensar los datos. \n",
    "\n",
    "Estas operaciones devuelven un solo valor como resultado."
   ]
  },
  {
   "attachments": {},
   "cell_type": "markdown",
   "metadata": {
    "id": "I_VEoSVeaYOC",
    "slideshow": {
     "slide_type": "subslide"
    }
   },
   "source": [
    "Algunas de las operaciones de agregación más comunes en NumPy son:\n",
    "\n",
    "- `np.sum()`: devuelve la suma de todos los elementos en el arreglo NumPy.\n",
    "- `np.mean()`: devuelve el valor promedio de todos los elementos en el arreglo NumPy.\n",
    "- `np.median()`: devuelve la mediana de todos los elementos en el arreglo NumPy.\n",
    "- `np.min()`: devuelve el valor mínimo en el arreglo NumPy.\n",
    "- `np.max()`: devuelve el valor máximo en el arreglo NumPy."
   ]
  },
  {
   "cell_type": "code",
   "execution_count": null,
   "metadata": {
    "colab": {
     "base_uri": "https://localhost:8080/"
    },
    "executionInfo": {
     "elapsed": 2,
     "status": "ok",
     "timestamp": 1649538318371,
     "user": {
      "displayName": "Pedro David Juarez Leyva",
      "userId": "05005826362094932071"
     },
     "user_tz": 300
    },
    "id": "IYgllUIOEia0",
    "outputId": "0464b71a-6d8c-46c1-f3b6-bf67d2e2604d",
    "slideshow": {
     "slide_type": "subslide"
    }
   },
   "outputs": [],
   "source": [
    "a = np.array([1, 2, 3, 4, 5])\n",
    "\n",
    "suma = np.sum(a)\n",
    "media = np.mean(a)\n",
    "mediana = np.median(a)\n",
    "\n",
    "print(suma)    # 15\n",
    "print(media)   # 3.0\n",
    "print(mediana) # 3.0"
   ]
  },
  {
   "attachments": {},
   "cell_type": "markdown",
   "metadata": {
    "id": "kldV15s3piff",
    "slideshow": {
     "slide_type": "subslide"
    }
   },
   "source": [
    "También podemos realizar operaciones de agregación en arreglos multidimensionales especificando el eje a lo largo del cual queremos realizar la operación"
   ]
  },
  {
   "cell_type": "code",
   "execution_count": null,
   "metadata": {
    "colab": {
     "base_uri": "https://localhost:8080/"
    },
    "executionInfo": {
     "elapsed": 113,
     "status": "ok",
     "timestamp": 1680060768958,
     "user": {
      "displayName": "Pedro David Juarez Leyva",
      "userId": "05005826362094932071"
     },
     "user_tz": 360
    },
    "id": "_nMGfN3AbNmH",
    "outputId": "96327da4-1aac-411a-b174-d74c39ed59e2",
    "slideshow": {
     "slide_type": "fragment"
    }
   },
   "outputs": [],
   "source": [
    "a = np.array([[1, 2, 3],\n",
    "              [4, 5, 6],\n",
    "              [7, 8, 9]])\n",
    "\n",
    "suma_columnas = np.sum(a, axis=0)\n",
    "\n",
    "print(suma_columnas)  # [12 15 18]"
   ]
  },
  {
   "attachments": {},
   "cell_type": "markdown",
   "metadata": {
    "id": "Zqeee5qY7L3y",
    "slideshow": {
     "slide_type": "slide"
    }
   },
   "source": [
    "## Operaciones vectorizadas\n"
   ]
  },
  {
   "attachments": {},
   "cell_type": "markdown",
   "metadata": {
    "id": "VcfuK1Alb4n0",
    "slideshow": {
     "slide_type": "fragment"
    }
   },
   "source": [
    "Las operaciones vectorizadas permiten realizar operaciones matemáticas y lógicas en arreglos NumPy completos, en lugar de tener que recorrer cada elemento del arreglo y realizar la operación de forma individual.\n",
    "\n",
    "Esta característica es extremadamente útil porque los cálculos se realizan de forma mucho más rápida que si se realizaran de forma iterativa en cada elemento del arreglo. \n",
    "\n",
    "Además, las operaciones vectorizadas también hacen que el código sea mucho más legible y fácil de entender."
   ]
  },
  {
   "cell_type": "code",
   "execution_count": null,
   "metadata": {
    "colab": {
     "base_uri": "https://localhost:8080/"
    },
    "executionInfo": {
     "elapsed": 120,
     "status": "ok",
     "timestamp": 1680061067500,
     "user": {
      "displayName": "Pedro David Juarez Leyva",
      "userId": "05005826362094932071"
     },
     "user_tz": 360
    },
    "id": "rcr5lBrX7YrA",
    "outputId": "92725ffc-a807-43a5-a275-ce8ea61ff6b4",
    "slideshow": {
     "slide_type": "subslide"
    }
   },
   "outputs": [],
   "source": [
    "# Definimos dos arreglos\n",
    "a = np.array([1, 2, 3, 4, 5])\n",
    "b = np.array([10, 20, 30, 40, 50])\n",
    "\n",
    "# Operaciones vectorizadas\n",
    "suma = a + b\n",
    "resta = a - b\n",
    "producto = a * b\n",
    "division = b / a\n",
    "\n",
    "print(suma)     # [11 22 33 44 55]\n",
    "print(resta)    # [-9 -18 -27 -36 -45]\n",
    "print(producto) # [10 40 90 160 250]\n",
    "print(division) # [10. 10. 10. 10. 10.]"
   ]
  },
  {
   "attachments": {},
   "cell_type": "markdown",
   "metadata": {
    "id": "ETwsE5jMceTy",
    "slideshow": {
     "slide_type": "slide"
    }
   },
   "source": [
    "## Broadcasting\n",
    "\n"
   ]
  },
  {
   "attachments": {},
   "cell_type": "markdown",
   "metadata": {
    "id": "GLVGhauKczNB",
    "slideshow": {
     "slide_type": "fragment"
    }
   },
   "source": [
    "Es una técnica en NumPy que permite aplicar operaciones entre arreglos de diferentes tamaños y formas, siempre y cuando ciertas condiciones se cumplan. Esta técnica permite que las operaciones vectorizadas se realicen de manera automática y eficiente."
   ]
  },
  {
   "attachments": {},
   "cell_type": "markdown",
   "metadata": {
    "slideshow": {
     "slide_type": "fragment"
    }
   },
   "source": [
    "\n",
    "<img src=\"./images/broadcasting1.png\" alt=\"Broadcasting\" width=\"800px\">\n"
   ]
  },
  {
   "attachments": {},
   "cell_type": "markdown",
   "metadata": {
    "id": "BuwePPpnD5DG",
    "slideshow": {
     "slide_type": "subslide"
    }
   },
   "source": [
    "Las reglas de broadcasting son las siguientes:\n",
    "\n"
   ]
  },
  {
   "attachments": {},
   "cell_type": "markdown",
   "metadata": {
    "slideshow": {
     "slide_type": "fragment"
    }
   },
   "source": [
    "- Si dos arreglos tienen las mismas dimensiones, entonces se pueden operar directamente elemento por elemento.\n",
    "\n"
   ]
  },
  {
   "attachments": {},
   "cell_type": "markdown",
   "metadata": {
    "slideshow": {
     "slide_type": "fragment"
    }
   },
   "source": [
    "- Si los dos arreglos tienen dimensiones diferentes, se agrega 1 a la forma del arreglo de menor rango para hacerlos compatibles. Por ejemplo, si tenemos un arreglo 1D y un arreglo 2D, se agrega una dimensión al arreglo 1D para que tenga la forma (1, N) y se pueda operar con el arreglo 2D de forma compatible.\n",
    "\n"
   ]
  },
  {
   "attachments": {},
   "cell_type": "markdown",
   "metadata": {
    "slideshow": {
     "slide_type": "fragment"
    }
   },
   "source": [
    "- Si las formas de los arreglos no son compatibles después de aplicar la regla anterior, entonces se produce un error."
   ]
  },
  {
   "cell_type": "code",
   "execution_count": null,
   "metadata": {
    "colab": {
     "base_uri": "https://localhost:8080/"
    },
    "executionInfo": {
     "elapsed": 4,
     "status": "ok",
     "timestamp": 1680061254824,
     "user": {
      "displayName": "Pedro David Juarez Leyva",
      "userId": "05005826362094932071"
     },
     "user_tz": 360
    },
    "id": "okTlZiyX7xMb",
    "outputId": "73cee4f7-9a6e-4f39-9327-3b8bf8cf9e76",
    "slideshow": {
     "slide_type": "subslide"
    }
   },
   "outputs": [],
   "source": [
    "a = np.array([1, 2, 3])\n",
    "b = np.array([[10, 20, 30], [40, 50, 60]])\n",
    "\n",
    "# Operación con broadcasting\n",
    "c = a + b\n",
    "\n",
    "print(c)"
   ]
  },
  {
   "attachments": {},
   "cell_type": "markdown",
   "metadata": {
    "id": "oW3vUcwTdKCP",
    "slideshow": {
     "slide_type": "fragment"
    }
   },
   "source": [
    "Cuando sumamos estos dos arreglos, NumPy utiliza las reglas de broadcasting para extender el arreglo a en una dimensión adicional para que tenga la forma (1, 3). \n",
    "\n",
    "Después, la operación de suma se realiza elemento por elemento, como si los dos arreglos tuvieran la misma forma."
   ]
  }
 ],
 "metadata": {
  "colab": {
   "authorship_tag": "ABX9TyMuzb61EOpWuvblaor+qVtn",
   "collapsed_sections": [
    "Bz177WDTGVA5",
    "_Ltgou8tZQWf",
    "tjjafX6qZec2",
    "8ufGH8qWGcOo",
    "Zqeee5qY7L3y",
    "ETwsE5jMceTy"
   ],
   "provenance": []
  },
  "kernelspec": {
   "display_name": "Python 3 (ipykernel)",
   "language": "python",
   "name": "python3"
  },
  "language_info": {
   "codemirror_mode": {
    "name": "ipython",
    "version": 3
   },
   "file_extension": ".py",
   "mimetype": "text/x-python",
   "name": "python",
   "nbconvert_exporter": "python",
   "pygments_lexer": "ipython3",
   "version": "3.11.0"
  }
 },
 "nbformat": 4,
 "nbformat_minor": 1
}
