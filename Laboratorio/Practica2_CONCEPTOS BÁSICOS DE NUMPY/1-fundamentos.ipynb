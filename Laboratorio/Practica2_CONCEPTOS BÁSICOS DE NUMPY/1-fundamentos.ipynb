{
 "cells": [
  {
   "attachments": {},
   "cell_type": "markdown",
   "metadata": {
    "id": "ubGc3naVZ9Bz",
    "slideshow": {
     "slide_type": "slide"
    }
   },
   "source": [
    "# Introducción a NumPy\n",
    "\n"
   ]
  },
  {
   "attachments": {},
   "cell_type": "markdown",
   "metadata": {
    "id": "mJvlx4l7nsu2",
    "slideshow": {
     "slide_type": "slide"
    }
   },
   "source": [
    "NumPy es una librería de Python que se utiliza principalmente para el procesamiento numérico y científico de datos.\n",
    "\n",
    "<img src=\"./images/numpy.png\" alt=\"Logo NumPy\" width=\"240px\">"
   ]
  },
  {
   "attachments": {},
   "cell_type": "markdown",
   "metadata": {
    "slideshow": {
     "slide_type": "subslide"
    }
   },
   "source": [
    "Las características principales de NumPy son: \n"
   ]
  },
  {
   "attachments": {},
   "cell_type": "markdown",
   "metadata": {
    "slideshow": {
     "slide_type": "fragment"
    }
   },
   "source": [
    "\n",
    "1. **Eficiencia:** NumPy está diseñado para procesar grandes cantidades de datos de manera eficiente y rápida.\n",
    "\n"
   ]
  },
  {
   "attachments": {},
   "cell_type": "markdown",
   "metadata": {
    "slideshow": {
     "slide_type": "fragment"
    }
   },
   "source": [
    "2. **Funciones matemáticas y estadísticas:** NumPy proporciona una amplia variedad de funciones matemáticas y estadísticas, lo que permite a los usuarios realizar análisis de datos complejos.\n"
   ]
  },
  {
   "attachments": {},
   "cell_type": "markdown",
   "metadata": {
    "slideshow": {
     "slide_type": "fragment"
    }
   },
   "source": [
    "\n",
    "3. **Integración con otras librerías:** NumPy se integra muy bien con otras librerías de Python utilizadas en el análisis de datos, como Pandas, Matplotlib y Scikit-learn."
   ]
  },
  {
   "attachments": {},
   "cell_type": "markdown",
   "metadata": {
    "id": "iFyGoFpVq_31",
    "slideshow": {
     "slide_type": "slide"
    }
   },
   "source": [
    "Para utilizar NumPy en un proyecto de Python, primero se debe importar la librería. "
   ]
  },
  {
   "cell_type": "code",
   "execution_count": null,
   "metadata": {
    "executionInfo": {
     "elapsed": 8,
     "status": "ok",
     "timestamp": 1680014616008,
     "user": {
      "displayName": "Pedro David Juarez Leyva",
      "userId": "05005826362094932071"
     },
     "user_tz": 360
    },
    "id": "Jv8nRF2uXCGb",
    "slideshow": {
     "slide_type": "fragment"
    }
   },
   "outputs": [],
   "source": [
    "import numpy as np"
   ]
  },
  {
   "attachments": {},
   "cell_type": "markdown",
   "metadata": {
    "id": "uTpi40V3rOmr",
    "slideshow": {
     "slide_type": "slide"
    }
   },
   "source": [
    "## NumPy array\n",
    "\n",
    "\n"
   ]
  },
  {
   "attachments": {},
   "cell_type": "markdown",
   "metadata": {
    "slideshow": {
     "slide_type": "fragment"
    }
   },
   "source": [
    "La estructura base de NumPy es el objeto ***array***.\n",
    "\n",
    "\n"
   ]
  },
  {
   "attachments": {},
   "cell_type": "markdown",
   "metadata": {
    "slideshow": {
     "slide_type": "fragment"
    }
   },
   "source": [
    "\n",
    "Un array de NumPy es un conjunto de elementos del mismo tipo que se almacenan en un bloque de memoria *continuo*. "
   ]
  },
  {
   "attachments": {},
   "cell_type": "markdown",
   "metadata": {
    "slideshow": {
     "slide_type": "fragment"
    }
   },
   "source": [
    "<img src=\"./images/arreglo.png\" alt=\"Arreglo de NumPy\" width=\"600px\">"
   ]
  },
  {
   "attachments": {},
   "cell_type": "markdown",
   "metadata": {
    "id": "R_BRB3ybem5q",
    "slideshow": {
     "slide_type": "slide"
    }
   },
   "source": [
    "### Crear arreglos\n",
    "\n",
    "\n",
    "\n"
   ]
  },
  {
   "attachments": {},
   "cell_type": "markdown",
   "metadata": {
    "id": "3V64F6fOvkqR",
    "slideshow": {
     "slide_type": "slide"
    }
   },
   "source": [
    "Para crear un arreglo de NumPy, se puede utilizar la función `np.array()`. Esta función toma una secuencia de elementos (como una lista o tupla) y los convierte en un arreglo de NumPy."
   ]
  },
  {
   "cell_type": "code",
   "execution_count": null,
   "metadata": {
    "colab": {
     "base_uri": "https://localhost:8080/"
    },
    "executionInfo": {
     "elapsed": 281,
     "status": "ok",
     "timestamp": 1680014915580,
     "user": {
      "displayName": "Pedro David Juarez Leyva",
      "userId": "05005826362094932071"
     },
     "user_tz": 360
    },
    "id": "INVSIQdDeeRa",
    "outputId": "b1dcf2c3-300f-4f98-f09d-7920ef4ec00f",
    "slideshow": {
     "slide_type": "fragment"
    }
   },
   "outputs": [],
   "source": [
    "python_list = [3, 2, 5, 6, 1, 4]\n",
    "\n",
    "a = np.array([1, 2, 3, 4, 5])\n",
    "print(a)"
   ]
  },
  {
   "attachments": {},
   "cell_type": "markdown",
   "metadata": {
    "id": "-UrB8FiKghJx",
    "slideshow": {
     "slide_type": "subslide"
    }
   },
   "source": [
    "También es posible crear arreglos de múltiples dimensiones utilizando la función `np.array()`"
   ]
  },
  {
   "cell_type": "code",
   "execution_count": null,
   "metadata": {
    "colab": {
     "base_uri": "https://localhost:8080/"
    },
    "executionInfo": {
     "elapsed": 168,
     "status": "ok",
     "timestamp": 1680014958124,
     "user": {
      "displayName": "Pedro David Juarez Leyva",
      "userId": "05005826362094932071"
     },
     "user_tz": 360
    },
    "id": "G9HKl3T-gl6p",
    "outputId": "4b39c0c0-ffc9-4a15-f2b5-8e656b2b073a",
    "slideshow": {
     "slide_type": "fragment"
    }
   },
   "outputs": [],
   "source": [
    "b = np.array([[1, 2, 3], [4, 5, 6]])\n",
    "print(b)"
   ]
  },
  {
   "attachments": {},
   "cell_type": "markdown",
   "metadata": {
    "id": "CWyUAYC_mqDT",
    "slideshow": {
     "slide_type": "subslide"
    }
   },
   "source": [
    "También es posible crear arreglos con valores predeterminados utilizando las funciones `np.zeros()` y `np.ones()`"
   ]
  },
  {
   "cell_type": "code",
   "execution_count": null,
   "metadata": {
    "colab": {
     "base_uri": "https://localhost:8080/"
    },
    "executionInfo": {
     "elapsed": 115,
     "status": "ok",
     "timestamp": 1680015150611,
     "user": {
      "displayName": "Pedro David Juarez Leyva",
      "userId": "05005826362094932071"
     },
     "user_tz": 360
    },
    "id": "ckYyVPYImyRj",
    "outputId": "63ec6775-171e-4e41-e555-1cdabeec83df",
    "slideshow": {
     "slide_type": "fragment"
    }
   },
   "outputs": [],
   "source": [
    "c = np.zeros(5)\n",
    "print(c)\n",
    "\n",
    "d = np.ones(5)\n",
    "print(d)"
   ]
  },
  {
   "attachments": {},
   "cell_type": "markdown",
   "metadata": {
    "id": "l1N5QYO-tjeC",
    "slideshow": {
     "slide_type": "subslide"
    }
   },
   "source": [
    "La función `np.random.rand()` se utiliza para crear un arreglo con valores aleatorios. La sintaxis es `np.random.rand(d0, d1, ..., dn)`, donde *d0, d1, ..., dn* son las dimensiones del arreglo."
   ]
  },
  {
   "cell_type": "code",
   "execution_count": null,
   "metadata": {
    "colab": {
     "base_uri": "https://localhost:8080/"
    },
    "executionInfo": {
     "elapsed": 4,
     "status": "ok",
     "timestamp": 1680015224689,
     "user": {
      "displayName": "Pedro David Juarez Leyva",
      "userId": "05005826362094932071"
     },
     "user_tz": 360
    },
    "id": "eDRlmHqKpHZy",
    "outputId": "439163d8-cd41-403a-a476-57f1fe4c1ede",
    "slideshow": {
     "slide_type": "fragment"
    }
   },
   "outputs": [],
   "source": [
    "e = np.random.rand(2, 3)\n",
    "print(e)"
   ]
  },
  {
   "attachments": {},
   "cell_type": "markdown",
   "metadata": {
    "id": "idLgsXACwe_U",
    "slideshow": {
     "slide_type": "slide"
    }
   },
   "source": [
    "### Dimensionalidad\n"
   ]
  },
  {
   "attachments": {},
   "cell_type": "markdown",
   "metadata": {
    "id": "7PnxcIvbulch",
    "slideshow": {
     "slide_type": "fragment"
    }
   },
   "source": [
    "La dimensionalidad en los arreglos de NumPy se refiere al número de dimensiones que tiene un arreglo. \n",
    "\n",
    "En NumPy, los arreglos se pueden tener desde una dimensión (unidimensional) hasta múltiples dimensiones (multidimensionales)."
   ]
  },
  {
   "attachments": {},
   "cell_type": "markdown",
   "metadata": {
    "id": "ndZmAedUvL94",
    "slideshow": {
     "slide_type": "subslide"
    }
   },
   "source": [
    "Se puede conocer las dimensiones de un arreglo de NumPy utilizando el atributo ***shape***. \n",
    "\n",
    "Este atributo devuelve una tupla que contiene el tamaño del arreglo a lo largo de cada una de sus dimensiones"
   ]
  },
  {
   "cell_type": "code",
   "execution_count": null,
   "metadata": {
    "colab": {
     "base_uri": "https://localhost:8080/"
    },
    "executionInfo": {
     "elapsed": 671,
     "status": "ok",
     "timestamp": 1680015698775,
     "user": {
      "displayName": "Pedro David Juarez Leyva",
      "userId": "05005826362094932071"
     },
     "user_tz": 360
    },
    "id": "QsVDUAf611nL",
    "outputId": "f130c9e1-c4c6-4849-e075-ff689a80c59d",
    "slideshow": {
     "slide_type": "fragment"
    }
   },
   "outputs": [],
   "source": [
    "a = np.array([[1, 2], [3, 4]])\n",
    "print(a.shape)"
   ]
  },
  {
   "attachments": {},
   "cell_type": "markdown",
   "metadata": {
    "id": "URKWcCicvZHo",
    "slideshow": {
     "slide_type": "subslide"
    }
   },
   "source": [
    "Si tuviéramos un arreglo unidimensional de NumPy, el atributo ***shape*** devolvería una tupla con un solo elemento."
   ]
  },
  {
   "cell_type": "code",
   "execution_count": null,
   "metadata": {
    "colab": {
     "base_uri": "https://localhost:8080/"
    },
    "executionInfo": {
     "elapsed": 356,
     "status": "ok",
     "timestamp": 1680015730939,
     "user": {
      "displayName": "Pedro David Juarez Leyva",
      "userId": "05005826362094932071"
     },
     "user_tz": 360
    },
    "id": "qhyo0zldvZrw",
    "outputId": "094875f1-d22f-4e02-a9ab-35be825659d3",
    "slideshow": {
     "slide_type": "fragment"
    }
   },
   "outputs": [],
   "source": [
    "b = np.array([1, 2, 3, 4])\n",
    "print(b.shape)"
   ]
  },
  {
   "attachments": {},
   "cell_type": "markdown",
   "metadata": {
    "id": "DoBHgUcCERA9",
    "slideshow": {
     "slide_type": "slide"
    }
   },
   "source": [
    "### Tipos de dato\n"
   ]
  },
  {
   "attachments": {},
   "cell_type": "markdown",
   "metadata": {
    "id": "arwYjxLDxyHA",
    "slideshow": {
     "slide_type": "subslide"
    }
   },
   "source": [
    "El atributo ***dtype*** de NumPy es útil para conocer el tipo de datos de los elementos de un arreglo y, por lo tanto, para asegurarse de que los cálculos se realicen con la precisión correcta y para evitar errores."
   ]
  },
  {
   "cell_type": "code",
   "execution_count": null,
   "metadata": {
    "colab": {
     "base_uri": "https://localhost:8080/"
    },
    "executionInfo": {
     "elapsed": 156,
     "status": "ok",
     "timestamp": 1680016385853,
     "user": {
      "displayName": "Pedro David Juarez Leyva",
      "userId": "05005826362094932071"
     },
     "user_tz": 360
    },
    "id": "6UjlmVzQEX6s",
    "outputId": "e7be291a-ed51-4f82-dcf9-1e94371f2e83",
    "slideshow": {
     "slide_type": "fragment"
    }
   },
   "outputs": [],
   "source": [
    "a = np.array([1, 2, 3])\n",
    "print(a.dtype)"
   ]
  },
  {
   "attachments": {},
   "cell_type": "markdown",
   "metadata": {
    "id": "l9-XUJOQHYgi",
    "slideshow": {
     "slide_type": "subslide"
    }
   },
   "source": [
    "En ocasiones, puede ser necesario cambiar el tipo de datos de un arreglo NumPy para realizar ciertas operaciones o para guardar los datos en un archivo. \n",
    "\n",
    "En estos casos, es necesario utilizar métodos como ***astype*** para convertir los tipos de datos de los elementos de un arreglo."
   ]
  },
  {
   "cell_type": "code",
   "execution_count": null,
   "metadata": {
    "colab": {
     "base_uri": "https://localhost:8080/"
    },
    "executionInfo": {
     "elapsed": 169,
     "status": "ok",
     "timestamp": 1680016471854,
     "user": {
      "displayName": "Pedro David Juarez Leyva",
      "userId": "05005826362094932071"
     },
     "user_tz": 360
    },
    "id": "MZt5pX5PHjXC",
    "outputId": "b96f4f07-6f83-48a6-d136-fce32062e798",
    "slideshow": {
     "slide_type": "fragment"
    }
   },
   "outputs": [],
   "source": [
    "a = np.array([1, 2, 3])\n",
    "print(a.dtype) \n",
    "\n",
    "a = a.astype(np.float32)\n",
    "print(a.dtype) "
   ]
  },
  {
   "attachments": {},
   "cell_type": "markdown",
   "metadata": {
    "id": "IYFPI778ylSw",
    "slideshow": {
     "slide_type": "subslide"
    }
   },
   "source": [
    "Al crear un arreglo NumPy, se puede especificar el tipo de dato que se desea para los elementos del arreglo utilizando el parámetro ***dtype***.\n",
    "\n"
   ]
  },
  {
   "cell_type": "code",
   "execution_count": null,
   "metadata": {
    "colab": {
     "base_uri": "https://localhost:8080/"
    },
    "executionInfo": {
     "elapsed": 147,
     "status": "ok",
     "timestamp": 1680016611083,
     "user": {
      "displayName": "Pedro David Juarez Leyva",
      "userId": "05005826362094932071"
     },
     "user_tz": 360
    },
    "id": "cz12xYokyw5H",
    "outputId": "1de916d7-5af9-4943-a215-3e0ea7a8c0a6",
    "slideshow": {
     "slide_type": "fragment"
    }
   },
   "outputs": [],
   "source": [
    "a = np.array([1, 2, 3], dtype=np.uint8)\n",
    "print(a.dtype)"
   ]
  }
 ],
 "metadata": {
  "colab": {
   "authorship_tag": "ABX9TyObKUm+/lrVHzI6PwZsA3Vz",
   "collapsed_sections": [
    "R_BRB3ybem5q"
   ],
   "provenance": []
  },
  "kernelspec": {
   "display_name": "Python 3 (ipykernel)",
   "language": "python",
   "name": "python3"
  },
  "language_info": {
   "codemirror_mode": {
    "name": "ipython",
    "version": 3
   },
   "file_extension": ".py",
   "mimetype": "text/x-python",
   "name": "python",
   "nbconvert_exporter": "python",
   "pygments_lexer": "ipython3",
   "version": "3.11.0"
  }
 },
 "nbformat": 4,
 "nbformat_minor": 1
}
