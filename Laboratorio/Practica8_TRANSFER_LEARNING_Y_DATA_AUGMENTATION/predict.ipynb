{
 "cells": [
  {
   "cell_type": "code",
   "execution_count": null,
   "metadata": {},
   "outputs": [],
   "source": [
    "import cv2\n",
    "import numpy as np\n",
    "from tensorflow.keras.models import load_model\n",
    "from tensorflow.keras.preprocessing import image\n",
    "\n",
    "# Cargar el modelo previamente entrenado\n",
    "model = load_model('model.h5')\n",
    "\n",
    "# Inicializar la cámara\n",
    "cap = cv2.VideoCapture(0)\n",
    "\n",
    "while True:\n",
    "    # Capturar frame por frame\n",
    "    ret, frame = cap.read()\n",
    "    \n",
    "    if not ret:\n",
    "        break\n",
    "\n",
    "    # Convertir el frame a formato que el modelo pueda entender\n",
    "    # Cambia el tamaño del frame a 224x224 como espera nuestro modelo\n",
    "    frame_resized = cv2.resize(frame, (224, 224))\n",
    "    # Convertir el frame de BGR a RGB (OpenCV captura en formato BGR)\n",
    "    frame_rgb = cv2.cvtColor(frame_resized, cv2.COLOR_BGR2RGB)\n",
    "    # Normalizar los pixeles\n",
    "    frame_normalized = frame_rgb / 255.0\n",
    "    # Expandir dimensiones para adaptarse al input del modelo\n",
    "    frame_expanded = np.expand_dims(frame_normalized, axis=0)\n",
    "\n",
    "    # Realizar predicción\n",
    "   \n",
    "\n",
    "    # Mostrar la clase predicha en el video\n",
    "    cv2.putText(frame, predicted, (50, 50), cv2.FONT_HERSHEY_SIMPLEX, 1, (255, 255, 255), 2)\n",
    "\n",
    "    # Mostrar el frame resultante\n",
    "    cv2.imshow('Video', frame)\n",
    "\n",
    "    # Romper el bucle con la tecla 'q'\n",
    "    if cv2.waitKey(1) & 0xFF == ord('q'):\n",
    "        break\n",
    "\n",
    "# Cuando todo está hecho, liberar la captura\n",
    "cap.release()\n",
    "cv2.destroyAllWindows()"
   ]
  }
 ],
 "metadata": {
  "language_info": {
   "name": "python"
  }
 },
 "nbformat": 4,
 "nbformat_minor": 2
}
