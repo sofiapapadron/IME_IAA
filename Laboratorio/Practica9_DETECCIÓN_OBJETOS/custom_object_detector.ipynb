{
  "nbformat": 4,
  "nbformat_minor": 0,
  "metadata": {
    "colab": {
      "provenance": [],
      "gpuType": "T4"
    },
    "kernelspec": {
      "name": "python3",
      "display_name": "Python 3"
    },
    "language_info": {
      "name": "python"
    },
    "accelerator": "GPU"
  },
  "cells": [
    {
      "cell_type": "markdown",
      "source": [
        "# Entrenar un detector de objetos personalizado\n",
        "\n",
        "En este cuaderno entrenarás un detector de objetos personalizado utilizando YOLOv8 y Roboflow.\n",
        "\n",
        "**Nota:** No olvides seleccionar GPU como tu entorno de ejecución."
      ],
      "metadata": {
        "id": "8LU6S5q1XQ9e"
      }
    },
    {
      "cell_type": "markdown",
      "source": [
        "## Paso 1: Selección de un conjunto de datos\n",
        "\n",
        "Roboflow es una plataforma que permite a los desarrolladores entrenar modelos de aprendizaje profundo en conjuntos de datos personalizados.\n",
        "\n",
        "Entre sus diversas herramientas, Roboflow permite a los usuarios cargar, etiquetar, transformar y exportar conjuntos de datos de imágenes y videos.\n",
        "\n",
        "Para ahorrar tiempo, utilizaremos un conjunto de datos de ejemplo que ya ha sido etiquetado. Este conjunto de datos se llama `PKLot` y puedes encontrarlo [aqui](https://universe.roboflow.com/brad-dwyer/pklot-1tros)"
      ],
      "metadata": {
        "id": "ZPDexsneYCGp"
      }
    },
    {
      "cell_type": "markdown",
      "source": [
        "## Paso 2: Preparar el conjunto de datos\n",
        "\n",
        "En el enlace del conjunto de datos, haz clic en `Download`, como formato selecciona `YOLOv8` que es la versión de Ultralytics que utilizaremos en este cuaderno y selecciona `Show Download Code`.\n",
        "\n",
        "En la pestaña `Jupyter` copia el código de descarga y ejecútalo en una celda de código. Debe verse similar al siguiente código:\n",
        "\n",
        "<div align=\"center\">\n",
        "  <img\n",
        "    width=\"640\"\n",
        "    src=\"https://media.roboflow.com/preparing-custom-dataset-example/export.gif?ik-sdk-version=javascript-1.4.3&updatedAt=1672943313709\"\n",
        "  >\n",
        "</div>\n",
        "\n"
      ],
      "metadata": {
        "id": "slc0cI3Ga3gJ"
      }
    },
    {
      "cell_type": "code",
      "source": [
        "!pip install roboflow"
      ],
      "metadata": {
        "id": "vz4hbyw2a6Zh"
      },
      "execution_count": null,
      "outputs": []
    },
    {
      "cell_type": "code",
      "execution_count": null,
      "metadata": {
        "id": "7Wc-jf-_W9IE"
      },
      "outputs": [],
      "source": [
        "from roboflow import Roboflow\n",
        "rf = Roboflow(api_key=\"\")\n",
        "project = rf.workspace(\"brad-dwyer\").project(\"pklot-1tros\")\n",
        "version = project.version(4)\n",
        "dataset = version.download(\"yolov8\")\n"
      ]
    },
    {
      "cell_type": "markdown",
      "source": [
        "## Paso 3: Carga YOLOv8 de Ultralytics\n",
        "\n",
        "Para entrenar nuestro detector de objetos personalizado, utilizaremos la implementación de YOLOv8 de Ultralytics. Para ello, clonaremos el repositorio de Ultralytics y descargaremos las dependencias necesarias."
      ],
      "metadata": {
        "id": "djeM-uAQa27q"
      }
    },
    {
      "cell_type": "code",
      "source": [
        "!pip install ultralytics"
      ],
      "metadata": {
        "id": "0hx6Ai2RbXTE"
      },
      "execution_count": null,
      "outputs": []
    },
    {
      "cell_type": "code",
      "source": [
        "from ultralytics import YOLO\n",
        "\n",
        "#Creamos el modelo yolov8 pre entrenado\n",
        "model = YOLO(\"yolov8n.pt\")"
      ],
      "metadata": {
        "id": "tsRvaLQlbZBZ"
      },
      "execution_count": null,
      "outputs": []
    },
    {
      "cell_type": "markdown",
      "source": [
        "## Paso 4: Entrenar el modelo\n",
        "\n",
        "Finalmente, entrenaremos nuestro modelo de detección de objetos personalizado utilizando el conjunto de datos que hemos preparado.\n",
        "\n",
        "Cuando ejecutamos el código de Roboflow, se descargó una carpeta que contiene los archivos necesarios para que el modelo de YOLOv8 pueda entrenar. Solo necesitamos especificar la ruta de la carpeta en la que se encuentran los archivos.\n"
      ],
      "metadata": {
        "id": "TEFsAE4LcJpW"
      }
    },
    {
      "cell_type": "markdown",
      "source": [
        "Movemos el archivo `data.yaml`a la ruta princiapl"
      ],
      "metadata": {
        "id": "LkyELXehlmbC"
      }
    },
    {
      "cell_type": "code",
      "source": [
        "!mv /content/PKLot-4/data.yaml /content"
      ],
      "metadata": {
        "id": "jXNhiZxtlqS6"
      },
      "execution_count": null,
      "outputs": []
    },
    {
      "cell_type": "markdown",
      "source": [
        "Corremos el código, es importante siempre hacer referencia a la ruta raiz: `/content`"
      ],
      "metadata": {
        "id": "iK1s5oUol1_K"
      }
    },
    {
      "cell_type": "code",
      "source": [
        "model.train(data=\"/content/data.yaml\", epochs=5)"
      ],
      "metadata": {
        "id": "LR9jUpe_cJLu"
      },
      "execution_count": null,
      "outputs": []
    },
    {
      "cell_type": "markdown",
      "source": [
        "## Paso 5. Validar el modelo\n",
        "\n",
        "Valida el modelo entrenado con el siguiente comando:"
      ],
      "metadata": {
        "id": "hlK2lhJ7it-q"
      }
    },
    {
      "cell_type": "code",
      "source": [
        "results = model.val()"
      ],
      "metadata": {
        "id": "wuHWJD57i2B5"
      },
      "execution_count": null,
      "outputs": []
    },
    {
      "cell_type": "markdown",
      "source": [
        "## Paso 6: Realizar inferencias\n",
        "\n",
        "Finalmente, podemos realizar inferencias con nuestro modelo entrenado. Para ello carga una imagen de prueba y realiza la predicción."
      ],
      "metadata": {
        "id": "dFJu-8Efi2sS"
      }
    },
    {
      "cell_type": "code",
      "source": [],
      "metadata": {
        "id": "O6vr50irjFAv"
      },
      "execution_count": null,
      "outputs": []
    }
  ]
}