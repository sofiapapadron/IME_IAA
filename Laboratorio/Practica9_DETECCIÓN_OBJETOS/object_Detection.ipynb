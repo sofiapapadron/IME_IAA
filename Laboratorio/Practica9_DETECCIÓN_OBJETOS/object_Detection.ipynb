{
  "cells": [
    {
      "cell_type": "markdown",
      "metadata": {
        "id": "52uc4sbVCXfb"
      },
      "source": [
        "# Introducción a la detección de objetos\n",
        "\n",
        "En este cuaderno veremos los pasos necesarios para realizar detección de objetos utilizando [Ultralytics YOLO v8](https://docs.ultralytics.com/)"
      ]
    },
    {
      "cell_type": "markdown",
      "source": [
        "**NOTA:** No olvides seleccionar la GPU como entorno de ejecucuión"
      ],
      "metadata": {
        "id": "2tMhj7f3WlWu"
      }
    },
    {
      "cell_type": "markdown",
      "metadata": {
        "id": "pCIL7oNqC5Gv"
      },
      "source": [
        "## Paso 1. Instalar Ultralytics"
      ]
    },
    {
      "cell_type": "code",
      "execution_count": null,
      "metadata": {
        "id": "da4EmXUfCW8j"
      },
      "outputs": [],
      "source": [
        "!pip install ultralytics"
      ]
    },
    {
      "cell_type": "markdown",
      "metadata": {
        "id": "un-MR7cUDmRj"
      },
      "source": [
        "## Paso 2. Cargar el modelo en Python\n",
        "\n",
        "Ultralytics proporciona un modelo de YOLOv8 pre entrenado el cual podemos utilizar para diversas tareas"
      ]
    },
    {
      "cell_type": "code",
      "execution_count": null,
      "metadata": {
        "id": "LXF_mjh8CPIo"
      },
      "outputs": [],
      "source": [
        "from ultralytics import YOLO\n",
        "\n",
        "#Creamos el modelo yolov8 pre entrenado\n",
        "model = YOLO(\"yolov8n.pt\")"
      ]
    },
    {
      "cell_type": "markdown",
      "metadata": {
        "id": "1PzEKQqsEnY9"
      },
      "source": [
        "## Paso 3. Entrenar el modelo\n",
        "\n",
        "Entrenaremos el modelo con el dataset de [COCO](https://cocodataset.org/#home).\n",
        "\n",
        "Este paso nos permite adaptar nuestro modelo a un dataset personalizado."
      ]
    },
    {
      "cell_type": "code",
      "execution_count": null,
      "metadata": {
        "colab": {
          "background_save": true
        },
        "id": "ns23LPZvEjpP"
      },
      "outputs": [],
      "source": [
        "results = model.train(data='coco128.yaml', epochs=5)"
      ]
    },
    {
      "cell_type": "markdown",
      "metadata": {
        "id": "hJB6xBdwIWr1"
      },
      "source": [
        "## Paso 3. Validar\n",
        "\n",
        "Despues de haber entrenado el modelo es importante validar los datos para asegurarnos de que las predicciones tienen un bajo porcentaje de error."
      ]
    },
    {
      "cell_type": "code",
      "execution_count": null,
      "metadata": {
        "id": "wqrs7C8JE2Nw"
      },
      "outputs": [],
      "source": [
        "results = model.val()"
      ]
    },
    {
      "cell_type": "markdown",
      "metadata": {
        "id": "8Y2TDDE5IycU"
      },
      "source": [
        "## Paso 4. Realizar predicciones con el modelo"
      ]
    },
    {
      "cell_type": "code",
      "execution_count": null,
      "metadata": {
        "id": "RMTE7rehIr5p"
      },
      "outputs": [],
      "source": [
        "from google.colab import files\n",
        "\n",
        "uploaded = files.upload()"
      ]
    },
    {
      "cell_type": "code",
      "execution_count": null,
      "metadata": {
        "id": "c7ZdVdfTJKp0"
      },
      "outputs": [],
      "source": [
        "import cv2\n",
        "import matplotlib.pyplot as plt\n",
        "\n",
        "image_path = list(uploaded.keys())[0]\n",
        "\n",
        "image = cv2.imread(image_path)\n",
        "\n",
        "plt.imshow(image[:,:,::-1])"
      ]
    },
    {
      "cell_type": "code",
      "execution_count": null,
      "metadata": {
        "id": "pZ9G4LTNJRi2"
      },
      "outputs": [],
      "source": [
        "results = model.predict(source=image, conf=0.5)\n",
        "\n",
        "results[0].save(\"result.png\")\n",
        "\n",
        "result = cv2.imread(\"result.png\")\n",
        "\n",
        "plt.imshow(result[:,:,::-1])"
      ]
    },
    {
      "cell_type": "markdown",
      "metadata": {
        "id": "RV0XrqznOW37"
      },
      "source": [
        "## Paso 6. Exportar el modelo\n",
        "\n",
        "Ultralytics permite exportar el modelo para utilizarlo en distintas aplicaciones.\n",
        "\n",
        "Puedes revisar más sobre como exportar el modelo en la documentación oficial."
      ]
    }
  ],
  "metadata": {
    "colab": {
      "provenance": []
    },
    "kernelspec": {
      "display_name": "Python 3",
      "name": "python3"
    },
    "language_info": {
      "name": "python"
    }
  },
  "nbformat": 4,
  "nbformat_minor": 0
}